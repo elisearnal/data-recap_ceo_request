{
 "cells": [
  {
   "cell_type": "code",
   "execution_count": 104,
   "id": "85242994",
   "metadata": {
    "slideshow": {
     "slide_type": "skip"
    }
   },
   "outputs": [
    {
     "name": "stdout",
     "output_type": "stream",
     "text": [
      "The autoreload extension is already loaded. To reload it, use:\n",
      "  %reload_ext autoreload\n"
     ]
    }
   ],
   "source": [
    "%load_ext autoreload\n",
    "%autoreload 2"
   ]
  },
  {
   "cell_type": "code",
   "execution_count": 105,
   "id": "569d2b22",
   "metadata": {
    "slideshow": {
     "slide_type": "skip"
    }
   },
   "outputs": [],
   "source": [
    "import pandas as pd\n",
    "import numpy as np\n",
    "import seaborn as sns\n",
    "import statsmodels.api as sm\n",
    "import statsmodels.formula.api as smf\n",
    "import matplotlib.pyplot as plt\n",
    "from olist.seller import Seller"
   ]
  },
  {
   "cell_type": "markdown",
   "id": "263a588b",
   "metadata": {
    "slideshow": {
     "slide_type": "slide"
    }
   },
   "source": [
    "# Analysis of Olist current situation"
   ]
  },
  {
   "cell_type": "markdown",
   "id": "23d8b8c9",
   "metadata": {
    "slideshow": {
     "slide_type": "subslide"
    }
   },
   "source": [
    "## Current profit per seller"
   ]
  },
  {
   "cell_type": "markdown",
   "id": "f018c8b6",
   "metadata": {
    "slideshow": {
     "slide_type": "fragment"
    }
   },
   "source": [
    "According to you own database we built the following ordered table : "
   ]
  },
  {
   "cell_type": "code",
   "execution_count": 25,
   "id": "4d72b683",
   "metadata": {
    "slideshow": {
     "slide_type": "-"
    },
    "tags": [
     "remove_input"
    ]
   },
   "outputs": [
    {
     "data": {
      "text/html": [
       "<div>\n",
       "<style scoped>\n",
       "    .dataframe tbody tr th:only-of-type {\n",
       "        vertical-align: middle;\n",
       "    }\n",
       "\n",
       "    .dataframe tbody tr th {\n",
       "        vertical-align: top;\n",
       "    }\n",
       "\n",
       "    .dataframe thead th {\n",
       "        text-align: right;\n",
       "    }\n",
       "</style>\n",
       "<table border=\"1\" class=\"dataframe\">\n",
       "  <thead>\n",
       "    <tr style=\"text-align: right;\">\n",
       "      <th></th>\n",
       "      <th>index</th>\n",
       "      <th>seller_id</th>\n",
       "      <th>seller_city</th>\n",
       "      <th>seller_state</th>\n",
       "      <th>delay_to_carrier</th>\n",
       "      <th>wait_time</th>\n",
       "      <th>date_first_sale</th>\n",
       "      <th>date_last_sale</th>\n",
       "      <th>months_on_olist</th>\n",
       "      <th>n_orders</th>\n",
       "      <th>quantity</th>\n",
       "      <th>quantity_per_order</th>\n",
       "      <th>sales</th>\n",
       "      <th>review_score</th>\n",
       "      <th>share_of_five_stars</th>\n",
       "      <th>share_of_one_stars</th>\n",
       "      <th>costs_of_reviews</th>\n",
       "      <th>revenues</th>\n",
       "      <th>profits</th>\n",
       "    </tr>\n",
       "  </thead>\n",
       "  <tbody>\n",
       "    <tr>\n",
       "      <th>0</th>\n",
       "      <td>769</td>\n",
       "      <td>6560211a19b47992c3666cc44a7e94c0</td>\n",
       "      <td>sao paulo</td>\n",
       "      <td>SP</td>\n",
       "      <td>0.0</td>\n",
       "      <td>9.539486</td>\n",
       "      <td>2017-02-17 07:45:11</td>\n",
       "      <td>2018-08-29 09:25:12</td>\n",
       "      <td>18.0</td>\n",
       "      <td>1854</td>\n",
       "      <td>2033</td>\n",
       "      <td>1.096548</td>\n",
       "      <td>123304.83</td>\n",
       "      <td>3.937093</td>\n",
       "      <td>0.514100</td>\n",
       "      <td>0.124729</td>\n",
       "      <td>35290</td>\n",
       "      <td>13770.483</td>\n",
       "      <td>-21519.517</td>\n",
       "    </tr>\n",
       "    <tr>\n",
       "      <th>1</th>\n",
       "      <td>2358</td>\n",
       "      <td>4a3ca9315b744ce9f8e9374361493884</td>\n",
       "      <td>ibitinga</td>\n",
       "      <td>SP</td>\n",
       "      <td>0.0</td>\n",
       "      <td>14.416471</td>\n",
       "      <td>2017-01-08 09:45:12</td>\n",
       "      <td>2018-08-27 11:04:18</td>\n",
       "      <td>20.0</td>\n",
       "      <td>1806</td>\n",
       "      <td>1987</td>\n",
       "      <td>1.100221</td>\n",
       "      <td>200472.92</td>\n",
       "      <td>3.827873</td>\n",
       "      <td>0.482510</td>\n",
       "      <td>0.143809</td>\n",
       "      <td>39400</td>\n",
       "      <td>21647.292</td>\n",
       "      <td>-17752.708</td>\n",
       "    </tr>\n",
       "    <tr>\n",
       "      <th>2</th>\n",
       "      <td>1357</td>\n",
       "      <td>cc419e0650a3c5ba77189a1882b7556a</td>\n",
       "      <td>santo andre</td>\n",
       "      <td>SP</td>\n",
       "      <td>0.0</td>\n",
       "      <td>11.539753</td>\n",
       "      <td>2017-02-02 17:10:21</td>\n",
       "      <td>2018-08-28 03:45:15</td>\n",
       "      <td>19.0</td>\n",
       "      <td>1706</td>\n",
       "      <td>1775</td>\n",
       "      <td>1.040445</td>\n",
       "      <td>104288.42</td>\n",
       "      <td>4.077586</td>\n",
       "      <td>0.584483</td>\n",
       "      <td>0.116092</td>\n",
       "      <td>29530</td>\n",
       "      <td>11948.842</td>\n",
       "      <td>-17581.158</td>\n",
       "    </tr>\n",
       "    <tr>\n",
       "      <th>3</th>\n",
       "      <td>945</td>\n",
       "      <td>ea8482cd71df3c1969d7b9473ff13abc</td>\n",
       "      <td>sao paulo</td>\n",
       "      <td>SP</td>\n",
       "      <td>0.0</td>\n",
       "      <td>13.315562</td>\n",
       "      <td>2017-08-16 15:15:26</td>\n",
       "      <td>2018-08-25 02:45:21</td>\n",
       "      <td>12.0</td>\n",
       "      <td>1146</td>\n",
       "      <td>1203</td>\n",
       "      <td>1.049738</td>\n",
       "      <td>37177.52</td>\n",
       "      <td>3.997371</td>\n",
       "      <td>0.527607</td>\n",
       "      <td>0.113935</td>\n",
       "      <td>20220</td>\n",
       "      <td>4677.752</td>\n",
       "      <td>-15542.248</td>\n",
       "    </tr>\n",
       "    <tr>\n",
       "      <th>4</th>\n",
       "      <td>315</td>\n",
       "      <td>8b321bb669392f5163d04c59e235e066</td>\n",
       "      <td>sao paulo</td>\n",
       "      <td>SP</td>\n",
       "      <td>0.0</td>\n",
       "      <td>12.616899</td>\n",
       "      <td>2017-10-27 16:31:30</td>\n",
       "      <td>2018-08-21 17:08:38</td>\n",
       "      <td>10.0</td>\n",
       "      <td>943</td>\n",
       "      <td>1018</td>\n",
       "      <td>1.079533</td>\n",
       "      <td>17535.69</td>\n",
       "      <td>4.074547</td>\n",
       "      <td>0.568690</td>\n",
       "      <td>0.118211</td>\n",
       "      <td>15440</td>\n",
       "      <td>2553.569</td>\n",
       "      <td>-12886.431</td>\n",
       "    </tr>\n",
       "  </tbody>\n",
       "</table>\n",
       "</div>"
      ],
      "text/plain": [
       "   index                         seller_id  seller_city seller_state  \\\n",
       "0    769  6560211a19b47992c3666cc44a7e94c0    sao paulo           SP   \n",
       "1   2358  4a3ca9315b744ce9f8e9374361493884     ibitinga           SP   \n",
       "2   1357  cc419e0650a3c5ba77189a1882b7556a  santo andre           SP   \n",
       "3    945  ea8482cd71df3c1969d7b9473ff13abc    sao paulo           SP   \n",
       "4    315  8b321bb669392f5163d04c59e235e066    sao paulo           SP   \n",
       "\n",
       "   delay_to_carrier  wait_time     date_first_sale      date_last_sale  \\\n",
       "0               0.0   9.539486 2017-02-17 07:45:11 2018-08-29 09:25:12   \n",
       "1               0.0  14.416471 2017-01-08 09:45:12 2018-08-27 11:04:18   \n",
       "2               0.0  11.539753 2017-02-02 17:10:21 2018-08-28 03:45:15   \n",
       "3               0.0  13.315562 2017-08-16 15:15:26 2018-08-25 02:45:21   \n",
       "4               0.0  12.616899 2017-10-27 16:31:30 2018-08-21 17:08:38   \n",
       "\n",
       "   months_on_olist  n_orders  quantity  quantity_per_order      sales  \\\n",
       "0             18.0      1854      2033            1.096548  123304.83   \n",
       "1             20.0      1806      1987            1.100221  200472.92   \n",
       "2             19.0      1706      1775            1.040445  104288.42   \n",
       "3             12.0      1146      1203            1.049738   37177.52   \n",
       "4             10.0       943      1018            1.079533   17535.69   \n",
       "\n",
       "   review_score  share_of_five_stars  share_of_one_stars  costs_of_reviews  \\\n",
       "0      3.937093             0.514100            0.124729             35290   \n",
       "1      3.827873             0.482510            0.143809             39400   \n",
       "2      4.077586             0.584483            0.116092             29530   \n",
       "3      3.997371             0.527607            0.113935             20220   \n",
       "4      4.074547             0.568690            0.118211             15440   \n",
       "\n",
       "    revenues    profits  \n",
       "0  13770.483 -21519.517  \n",
       "1  21647.292 -17752.708  \n",
       "2  11948.842 -17581.158  \n",
       "3   4677.752 -15542.248  \n",
       "4   2553.569 -12886.431  "
      ]
     },
     "execution_count": 25,
     "metadata": {},
     "output_type": "execute_result"
    }
   ],
   "source": [
    "sellers = Seller().get_training_data()\n",
    "# on trie les sellers par profit\n",
    "sellers.sort_values(by=\"profits\", ascending=True, inplace=True)\n",
    "sellers.reset_index(inplace=True)\n",
    "sellers.head()"
   ]
  },
  {
   "cell_type": "markdown",
   "id": "d736850c",
   "metadata": {
    "slideshow": {
     "slide_type": "subslide"
    }
   },
   "source": [
    "If we take into account your direct revenues (10% cut on sales + the monthly fees), your current cumulated revenues since the beginning of Olist is:"
   ]
  },
  {
   "cell_type": "code",
   "execution_count": 103,
   "id": "f6b099a1",
   "metadata": {
    "scrolled": true,
    "slideshow": {
     "slide_type": "-"
    },
    "tags": [
     "remove_input"
    ]
   },
   "outputs": [
    {
     "name": "stdout",
     "output_type": "stream",
     "text": [
      "2785818.44 BRL\n"
     ]
    }
   ],
   "source": [
    "total_revenue = round(sellers[\"revenues\"].sum(), 2)\n",
    "print(total_revenue, \"BRL\")"
   ]
  },
  {
   "cell_type": "markdown",
   "id": "b655fd55",
   "metadata": {
    "slideshow": {
     "slide_type": "fragment"
    }
   },
   "source": [
    "If we substract the estimated costs due to bad reviews, your current cumulated profit is : "
   ]
  },
  {
   "cell_type": "code",
   "execution_count": 36,
   "id": "d2ef58ca",
   "metadata": {
    "slideshow": {
     "slide_type": "-"
    },
    "tags": [
     "remove_input"
    ]
   },
   "outputs": [
    {
     "name": "stdout",
     "output_type": "stream",
     "text": [
      "1167608.44 BRL\n"
     ]
    }
   ],
   "source": [
    "total_profits = round(sellers[\"profits\"].sum(),2)\n",
    "print(total_profits, \"BRL\")"
   ]
  },
  {
   "cell_type": "markdown",
   "id": "6a4f1a90",
   "metadata": {
    "slideshow": {
     "slide_type": "subslide"
    }
   },
   "source": [
    "## Cumulated Olist margin"
   ]
  },
  {
   "cell_type": "code",
   "execution_count": 37,
   "id": "45707155",
   "metadata": {
    "slideshow": {
     "slide_type": "skip"
    }
   },
   "outputs": [],
   "source": [
    "def IT_costs(df):\n",
    "    alpha = 3157.27\n",
    "    beta = 978.23\n",
    "    return round(alpha * (df[\"seller_id\"].count())**0.5 + beta * (df[\"quantity\"].sum())**0.5, 2)"
   ]
  },
  {
   "cell_type": "markdown",
   "id": "58ebe540",
   "metadata": {
    "slideshow": {
     "slide_type": "fragment"
    }
   },
   "source": [
    "If we consider the following IT estimated costs : \n",
    "\n",
    "$IT\\_costs = \\alpha * \\sqrt{n\\_sellers} + \\beta * \\sqrt{n\\_products}$  \n",
    "With these scaling parameters:\n",
    "- $\\alpha = 3157.27$\n",
    "- $\\beta = 978.23$\n",
    "\n",
    "Your current cumulated IT costs are:"
   ]
  },
  {
   "cell_type": "code",
   "execution_count": 38,
   "id": "d774c527",
   "metadata": {
    "slideshow": {
     "slide_type": "-"
    },
    "tags": [
     "remove_input"
    ]
   },
   "outputs": [
    {
     "name": "stdout",
     "output_type": "stream",
     "text": [
      "499999.32 BRL\n"
     ]
    }
   ],
   "source": [
    "total_IT_costs = IT_costs(sellers)\n",
    "print(total_IT_costs, \"BRL\")"
   ]
  },
  {
   "cell_type": "markdown",
   "id": "58939aa6",
   "metadata": {
    "slideshow": {
     "slide_type": "fragment"
    }
   },
   "source": [
    "Which represents a cumulated margin of:"
   ]
  },
  {
   "cell_type": "code",
   "execution_count": 40,
   "id": "68bb616e",
   "metadata": {
    "slideshow": {
     "slide_type": "-"
    },
    "tags": [
     "remove_input"
    ]
   },
   "outputs": [
    {
     "name": "stdout",
     "output_type": "stream",
     "text": [
      "667609.12 BRL\n"
     ]
    }
   ],
   "source": [
    "total_margin = round(total_profits - total_IT_costs,2)\n",
    "print(total_margin, \"BRL\")"
   ]
  },
  {
   "cell_type": "markdown",
   "id": "ebaf26a3",
   "metadata": {
    "slideshow": {
     "slide_type": "subslide"
    }
   },
   "source": [
    "# Obtain a 60% margin increase by removing the worst under-performing sellers"
   ]
  },
  {
   "cell_type": "code",
   "execution_count": 41,
   "id": "aa324f7a",
   "metadata": {
    "slideshow": {
     "slide_type": "skip"
    }
   },
   "outputs": [],
   "source": [
    "def margin_olist(df, sellers_to_remove):\n",
    "    # profit without the worst sellers :\n",
    "    total_profits = df.loc[sellers_to_remove:,\"profits\"].sum()\n",
    "    # IT costs without the worst sellers :\n",
    "    total_IT_costs = IT_costs(df.loc[sellers_to_remove:, ])\n",
    "    return round(total_profits - total_IT_costs, 2)"
   ]
  },
  {
   "cell_type": "markdown",
   "id": "6b321872",
   "metadata": {
    "slideshow": {
     "slide_type": "fragment"
    }
   },
   "source": [
    "- We made a **table of the margin** according to the *number of sellers* to remove"
   ]
  },
  {
   "cell_type": "code",
   "execution_count": 42,
   "id": "c41c5d58",
   "metadata": {
    "scrolled": true,
    "slideshow": {
     "slide_type": "-"
    },
    "tags": [
     "remove_input"
    ]
   },
   "outputs": [
    {
     "data": {
      "text/html": [
       "<div>\n",
       "<style scoped>\n",
       "    .dataframe tbody tr th:only-of-type {\n",
       "        vertical-align: middle;\n",
       "    }\n",
       "\n",
       "    .dataframe tbody tr th {\n",
       "        vertical-align: top;\n",
       "    }\n",
       "\n",
       "    .dataframe thead th {\n",
       "        text-align: right;\n",
       "    }\n",
       "</style>\n",
       "<table border=\"1\" class=\"dataframe\">\n",
       "  <thead>\n",
       "    <tr style=\"text-align: right;\">\n",
       "      <th></th>\n",
       "      <th>margin</th>\n",
       "    </tr>\n",
       "    <tr>\n",
       "      <th>sellers_to_remove</th>\n",
       "      <th></th>\n",
       "    </tr>\n",
       "  </thead>\n",
       "  <tbody>\n",
       "    <tr>\n",
       "      <th>0</th>\n",
       "      <td>667609.12</td>\n",
       "    </tr>\n",
       "    <tr>\n",
       "      <th>1</th>\n",
       "      <td>692136.57</td>\n",
       "    </tr>\n",
       "    <tr>\n",
       "      <th>2</th>\n",
       "      <td>712856.43</td>\n",
       "    </tr>\n",
       "    <tr>\n",
       "      <th>3</th>\n",
       "      <td>733114.12</td>\n",
       "    </tr>\n",
       "    <tr>\n",
       "      <th>4</th>\n",
       "      <td>750492.26</td>\n",
       "    </tr>\n",
       "  </tbody>\n",
       "</table>\n",
       "</div>"
      ],
      "text/plain": [
       "                      margin\n",
       "sellers_to_remove           \n",
       "0                  667609.12\n",
       "1                  692136.57\n",
       "2                  712856.43\n",
       "3                  733114.12\n",
       "4                  750492.26"
      ]
     },
     "execution_count": 42,
     "metadata": {},
     "output_type": "execute_result"
    }
   ],
   "source": [
    "sellers_to_remove = np.linspace(0, sellers.shape[0], sellers.shape[0], dtype=int)\n",
    "margin_per_sellers_to_remove = pd.DataFrame()\n",
    "margin_per_sellers_to_remove[\"sellers_to_remove\"] = sellers_to_remove\n",
    "margin_per_sellers_to_remove[\"margin\"] = margin_per_sellers_to_remove[\"sellers_to_remove\"].apply(lambda x: margin_olist(sellers,x))\n",
    "margin_per_sellers_to_remove.set_index(\"sellers_to_remove\",inplace=True)\n",
    "margin_per_sellers_to_remove.head()"
   ]
  },
  {
   "cell_type": "markdown",
   "id": "1cbf4ec7",
   "metadata": {
    "slideshow": {
     "slide_type": "subslide"
    }
   },
   "source": [
    "- Then, we made a **plot of the margin** according to the *number of sellers* to remove"
   ]
  },
  {
   "cell_type": "code",
   "execution_count": 43,
   "id": "77a6f077",
   "metadata": {
    "slideshow": {
     "slide_type": "-"
    },
    "tags": [
     "remove_input"
    ]
   },
   "outputs": [
    {
     "data": {
      "image/png": "[encoded data removed]",
      "text/plain": [
       "<Figure size 640x480 with 1 Axes>"
      ]
     },
     "metadata": {},
     "output_type": "display_data"
    }
   ],
   "source": [
    "plt.plot(margin_per_sellers_to_remove.index, margin_per_sellers_to_remove[\"margin\"], label=\"margin\");\n",
    "plt.legend()\n",
    "plt.xlabel(\"Number of sellers to remove (by minimal profit)\")\n",
    "plt.ylabel(\"Margin (BRL)\");"
   ]
  },
  {
   "cell_type": "markdown",
   "id": "3e9c7f65",
   "metadata": {
    "slideshow": {
     "slide_type": "subslide"
    }
   },
   "source": [
    "- Finally, we determine the **optimal number of sellers to remove** to obtain the maximal margin that Olist could have reached :"
   ]
  },
  {
   "cell_type": "markdown",
   "id": "a59ea216",
   "metadata": {
    "slideshow": {
     "slide_type": "fragment"
    }
   },
   "source": [
    "The optimal number of sellers to remove, starting by the less profitable ones, is:"
   ]
  },
  {
   "cell_type": "code",
   "execution_count": 44,
   "id": "5ef6c88d",
   "metadata": {
    "slideshow": {
     "slide_type": "-"
    },
    "tags": [
     "remove_input"
    ]
   },
   "outputs": [
    {
     "name": "stdout",
     "output_type": "stream",
     "text": [
      "855 sellers\n"
     ]
    }
   ],
   "source": [
    "optimal_seller_to_remove = margin_per_sellers_to_remove[\"margin\"].idxmax()\n",
    "print(optimal_seller_to_remove, \"sellers\")"
   ]
  },
  {
   "cell_type": "markdown",
   "id": "7ce0c409",
   "metadata": {
    "slideshow": {
     "slide_type": "fragment"
    }
   },
   "source": [
    "With 855 removed sellers, the obtained margin is:"
   ]
  },
  {
   "cell_type": "code",
   "execution_count": 47,
   "id": "277c0fc0",
   "metadata": {
    "scrolled": true,
    "slideshow": {
     "slide_type": "-"
    },
    "tags": [
     "remove_input"
    ]
   },
   "outputs": [
    {
     "name": "stdout",
     "output_type": "stream",
     "text": [
      "1070976.12 BRL\n"
     ]
    }
   ],
   "source": [
    "result_margin = margin_olist(sellers, optimal_seller_to_remove)\n",
    "print(result_margin, \"BRL\")"
   ]
  },
  {
   "cell_type": "markdown",
   "id": "7003f320",
   "metadata": {
    "slideshow": {
     "slide_type": "fragment"
    }
   },
   "source": [
    "This represents a margin increase of:"
   ]
  },
  {
   "cell_type": "code",
   "execution_count": 46,
   "id": "e0751ad6",
   "metadata": {
    "slideshow": {
     "slide_type": "-"
    },
    "tags": [
     "remove_input"
    ]
   },
   "outputs": [
    {
     "name": "stdout",
     "output_type": "stream",
     "text": [
      "60.42 % increase.\n"
     ]
    }
   ],
   "source": [
    "print(round((result_margin - current_margin)/current_margin * 100, 2), \"% increase.\")"
   ]
  },
  {
   "cell_type": "markdown",
   "id": "a90fb600",
   "metadata": {
    "slideshow": {
     "slide_type": "slide"
    }
   },
   "source": [
    "# Obtain a 7% margin increase by removing the worst product categories"
   ]
  },
  {
   "cell_type": "code",
   "execution_count": 49,
   "id": "a6f0678a",
   "metadata": {
    "slideshow": {
     "slide_type": "skip"
    }
   },
   "outputs": [],
   "source": [
    "from olist.product import Product"
   ]
  },
  {
   "cell_type": "markdown",
   "id": "dd00efd4",
   "metadata": {
    "slideshow": {
     "slide_type": "subslide"
    }
   },
   "source": [
    "According to you own database we built the following table gathering the information about **your products**: "
   ]
  },
  {
   "cell_type": "code",
   "execution_count": 58,
   "id": "114d5687",
   "metadata": {
    "slideshow": {
     "slide_type": "-"
    },
    "tags": [
     "remove_input"
    ]
   },
   "outputs": [
    {
     "data": {
      "text/html": [
       "<div>\n",
       "<style scoped>\n",
       "    .dataframe tbody tr th:only-of-type {\n",
       "        vertical-align: middle;\n",
       "    }\n",
       "\n",
       "    .dataframe tbody tr th {\n",
       "        vertical-align: top;\n",
       "    }\n",
       "\n",
       "    .dataframe thead th {\n",
       "        text-align: right;\n",
       "    }\n",
       "</style>\n",
       "<table border=\"1\" class=\"dataframe\">\n",
       "  <thead>\n",
       "    <tr style=\"text-align: right;\">\n",
       "      <th></th>\n",
       "      <th>product_id</th>\n",
       "      <th>product_name_length</th>\n",
       "      <th>product_description_length</th>\n",
       "      <th>product_photos_qty</th>\n",
       "      <th>product_weight_g</th>\n",
       "      <th>product_length_cm</th>\n",
       "      <th>product_height_cm</th>\n",
       "      <th>product_width_cm</th>\n",
       "      <th>category</th>\n",
       "      <th>wait_time</th>\n",
       "      <th>price</th>\n",
       "      <th>share_of_one_stars</th>\n",
       "      <th>share_of_five_stars</th>\n",
       "      <th>review_score</th>\n",
       "      <th>n_orders</th>\n",
       "      <th>quantity</th>\n",
       "      <th>sales</th>\n",
       "    </tr>\n",
       "  </thead>\n",
       "  <tbody>\n",
       "    <tr>\n",
       "      <th>0</th>\n",
       "      <td>1e9e8ef04dbcff4541ed26657ea517e5</td>\n",
       "      <td>40.0</td>\n",
       "      <td>287.0</td>\n",
       "      <td>1.0</td>\n",
       "      <td>225.0</td>\n",
       "      <td>16.0</td>\n",
       "      <td>10.0</td>\n",
       "      <td>14.0</td>\n",
       "      <td>perfumery</td>\n",
       "      <td>3.017639</td>\n",
       "      <td>10.910000</td>\n",
       "      <td>0.0</td>\n",
       "      <td>1.0</td>\n",
       "      <td>5.0</td>\n",
       "      <td>1</td>\n",
       "      <td>1</td>\n",
       "      <td>10.91</td>\n",
       "    </tr>\n",
       "    <tr>\n",
       "      <th>1</th>\n",
       "      <td>6a2fb4dd53d2cdb88e0432f1284a004c</td>\n",
       "      <td>39.0</td>\n",
       "      <td>346.0</td>\n",
       "      <td>2.0</td>\n",
       "      <td>400.0</td>\n",
       "      <td>27.0</td>\n",
       "      <td>5.0</td>\n",
       "      <td>20.0</td>\n",
       "      <td>perfumery</td>\n",
       "      <td>10.275272</td>\n",
       "      <td>16.900000</td>\n",
       "      <td>0.0</td>\n",
       "      <td>0.5</td>\n",
       "      <td>3.5</td>\n",
       "      <td>2</td>\n",
       "      <td>2</td>\n",
       "      <td>33.80</td>\n",
       "    </tr>\n",
       "    <tr>\n",
       "      <th>2</th>\n",
       "      <td>0d009643171aee696f4733340bc2fdd0</td>\n",
       "      <td>52.0</td>\n",
       "      <td>150.0</td>\n",
       "      <td>1.0</td>\n",
       "      <td>422.0</td>\n",
       "      <td>21.0</td>\n",
       "      <td>16.0</td>\n",
       "      <td>18.0</td>\n",
       "      <td>perfumery</td>\n",
       "      <td>13.933686</td>\n",
       "      <td>325.627273</td>\n",
       "      <td>0.2</td>\n",
       "      <td>0.4</td>\n",
       "      <td>3.7</td>\n",
       "      <td>10</td>\n",
       "      <td>11</td>\n",
       "      <td>3581.90</td>\n",
       "    </tr>\n",
       "    <tr>\n",
       "      <th>3</th>\n",
       "      <td>b1eae565a61935e0011ee7682fef9dc9</td>\n",
       "      <td>49.0</td>\n",
       "      <td>460.0</td>\n",
       "      <td>2.0</td>\n",
       "      <td>267.0</td>\n",
       "      <td>17.0</td>\n",
       "      <td>13.0</td>\n",
       "      <td>17.0</td>\n",
       "      <td>perfumery</td>\n",
       "      <td>21.219062</td>\n",
       "      <td>399.900000</td>\n",
       "      <td>0.0</td>\n",
       "      <td>0.0</td>\n",
       "      <td>2.0</td>\n",
       "      <td>1</td>\n",
       "      <td>1</td>\n",
       "      <td>399.90</td>\n",
       "    </tr>\n",
       "    <tr>\n",
       "      <th>4</th>\n",
       "      <td>8da90b37f0fb171b4877c124f965b1f6</td>\n",
       "      <td>56.0</td>\n",
       "      <td>733.0</td>\n",
       "      <td>3.0</td>\n",
       "      <td>377.0</td>\n",
       "      <td>18.0</td>\n",
       "      <td>13.0</td>\n",
       "      <td>15.0</td>\n",
       "      <td>perfumery</td>\n",
       "      <td>8.965984</td>\n",
       "      <td>137.900000</td>\n",
       "      <td>0.0</td>\n",
       "      <td>1.0</td>\n",
       "      <td>5.0</td>\n",
       "      <td>1</td>\n",
       "      <td>1</td>\n",
       "      <td>137.90</td>\n",
       "    </tr>\n",
       "  </tbody>\n",
       "</table>\n",
       "</div>"
      ],
      "text/plain": [
       "                         product_id  product_name_length  \\\n",
       "0  1e9e8ef04dbcff4541ed26657ea517e5                 40.0   \n",
       "1  6a2fb4dd53d2cdb88e0432f1284a004c                 39.0   \n",
       "2  0d009643171aee696f4733340bc2fdd0                 52.0   \n",
       "3  b1eae565a61935e0011ee7682fef9dc9                 49.0   \n",
       "4  8da90b37f0fb171b4877c124f965b1f6                 56.0   \n",
       "\n",
       "   product_description_length  product_photos_qty  product_weight_g  \\\n",
       "0                       287.0                 1.0             225.0   \n",
       "1                       346.0                 2.0             400.0   \n",
       "2                       150.0                 1.0             422.0   \n",
       "3                       460.0                 2.0             267.0   \n",
       "4                       733.0                 3.0             377.0   \n",
       "\n",
       "   product_length_cm  product_height_cm  product_width_cm   category  \\\n",
       "0               16.0               10.0              14.0  perfumery   \n",
       "1               27.0                5.0              20.0  perfumery   \n",
       "2               21.0               16.0              18.0  perfumery   \n",
       "3               17.0               13.0              17.0  perfumery   \n",
       "4               18.0               13.0              15.0  perfumery   \n",
       "\n",
       "   wait_time       price  share_of_one_stars  share_of_five_stars  \\\n",
       "0   3.017639   10.910000                 0.0                  1.0   \n",
       "1  10.275272   16.900000                 0.0                  0.5   \n",
       "2  13.933686  325.627273                 0.2                  0.4   \n",
       "3  21.219062  399.900000                 0.0                  0.0   \n",
       "4   8.965984  137.900000                 0.0                  1.0   \n",
       "\n",
       "   review_score  n_orders  quantity    sales  \n",
       "0           5.0         1         1    10.91  \n",
       "1           3.5         2         2    33.80  \n",
       "2           3.7        10        11  3581.90  \n",
       "3           2.0         1         1   399.90  \n",
       "4           5.0         1         1   137.90  "
      ]
     },
     "execution_count": 58,
     "metadata": {},
     "output_type": "execute_result"
    }
   ],
   "source": [
    "products = Product().get_training_data()\n",
    "products.head()"
   ]
  },
  {
   "cell_type": "markdown",
   "id": "99436a12",
   "metadata": {
    "slideshow": {
     "slide_type": "subslide"
    }
   },
   "source": [
    "## Simple correlation analysis on numerical values"
   ]
  },
  {
   "cell_type": "code",
   "execution_count": 57,
   "id": "d9a2236b",
   "metadata": {
    "scrolled": true,
    "slideshow": {
     "slide_type": "fragment"
    },
    "tags": [
     "remove_input"
    ]
   },
   "outputs": [
    {
     "data": {
      "image/png": "[encoded data removed]",
      "text/plain": [
       "<Figure size 640x480 with 2 Axes>"
      ]
     },
     "metadata": {},
     "output_type": "display_data"
    }
   ],
   "source": [
    "sns.heatmap(round(products[[\"wait_time\", \"review_score\",\"n_orders\",\"price\",\"sales\"]].corr(),2), cmap = \"coolwarm\", annot = True, annot_kws = {\"size\":12});"
   ]
  },
  {
   "cell_type": "markdown",
   "id": "2b25dfc3",
   "metadata": {
    "slideshow": {
     "slide_type": "fragment"
    }
   },
   "source": [
    "It seems that numerical values are not very correlated. \n",
    "\n",
    "> Let's investigate on **product categories**!"
   ]
  },
  {
   "cell_type": "markdown",
   "id": "4ed3138c",
   "metadata": {
    "slideshow": {
     "slide_type": "subslide"
    }
   },
   "source": [
    "## Average review_score per category"
   ]
  },
  {
   "cell_type": "code",
   "execution_count": 59,
   "id": "0ff4e684",
   "metadata": {
    "slideshow": {
     "slide_type": "skip"
    },
    "tags": [
     "remove_input"
    ]
   },
   "outputs": [
    {
     "data": {
      "text/html": [
       "<div>\n",
       "<style scoped>\n",
       "    .dataframe tbody tr th:only-of-type {\n",
       "        vertical-align: middle;\n",
       "    }\n",
       "\n",
       "    .dataframe tbody tr th {\n",
       "        vertical-align: top;\n",
       "    }\n",
       "\n",
       "    .dataframe thead th {\n",
       "        text-align: right;\n",
       "    }\n",
       "</style>\n",
       "<table border=\"1\" class=\"dataframe\">\n",
       "  <thead>\n",
       "    <tr style=\"text-align: right;\">\n",
       "      <th></th>\n",
       "      <th>review_score</th>\n",
       "    </tr>\n",
       "    <tr>\n",
       "      <th>category</th>\n",
       "      <th></th>\n",
       "    </tr>\n",
       "  </thead>\n",
       "  <tbody>\n",
       "    <tr>\n",
       "      <th>security_and_services</th>\n",
       "      <td>2.500000</td>\n",
       "    </tr>\n",
       "    <tr>\n",
       "      <th>furniture_mattress_and_upholstery</th>\n",
       "      <td>3.218939</td>\n",
       "    </tr>\n",
       "    <tr>\n",
       "      <th>fashio_female_clothing</th>\n",
       "      <td>3.608974</td>\n",
       "    </tr>\n",
       "    <tr>\n",
       "      <th>fashion_male_clothing</th>\n",
       "      <td>3.739583</td>\n",
       "    </tr>\n",
       "    <tr>\n",
       "      <th>audio</th>\n",
       "      <td>3.755233</td>\n",
       "    </tr>\n",
       "  </tbody>\n",
       "</table>\n",
       "</div>"
      ],
      "text/plain": [
       "                                   review_score\n",
       "category                                       \n",
       "security_and_services                  2.500000\n",
       "furniture_mattress_and_upholstery      3.218939\n",
       "fashio_female_clothing                 3.608974\n",
       "fashion_male_clothing                  3.739583\n",
       "audio                                  3.755233"
      ]
     },
     "execution_count": 59,
     "metadata": {},
     "output_type": "execute_result"
    }
   ],
   "source": [
    "worst_categories = products.copy()\n",
    "worst_categories = worst_categories[[\"category\", \"review_score\"]].groupby(\"category\").mean().sort_values(by=\"review_score\")\n",
    "worst_categories.head()"
   ]
  },
  {
   "cell_type": "markdown",
   "id": "efc997d0",
   "metadata": {
    "slideshow": {
     "slide_type": "fragment"
    }
   },
   "source": [
    "We made a plot of the 10 worst categories in term of **average review score**:"
   ]
  },
  {
   "cell_type": "code",
   "execution_count": 147,
   "id": "b8db0070",
   "metadata": {
    "slideshow": {
     "slide_type": "-"
    },
    "tags": [
     "remove_input"
    ]
   },
   "outputs": [
    {
     "data": {
      "image/png": "[encoded data removed]",
      "text/plain": [
       "<Figure size 640x480 with 1 Axes>"
      ]
     },
     "metadata": {},
     "output_type": "display_data"
    }
   ],
   "source": [
    "plt.bar(x=worst_categories.index[0:10], height=worst_categories[\"review_score\"][0:10])\n",
    "plt.xticks(rotation=45, ha='right');\n",
    "plt.ylabel(\"Average review_score\");\n",
    "plt.title(\"Average review_score per product category\");"
   ]
  },
  {
   "cell_type": "markdown",
   "id": "0b44394a",
   "metadata": {
    "slideshow": {
     "slide_type": "subslide"
    }
   },
   "source": [
    "## Calculation of the impact on cumulated margin"
   ]
  },
  {
   "cell_type": "code",
   "execution_count": 93,
   "id": "1af70138",
   "metadata": {
    "slideshow": {
     "slide_type": "skip"
    },
    "tags": [
     "remove_input"
    ]
   },
   "outputs": [
    {
     "data": {
      "text/html": [
       "<div>\n",
       "<style scoped>\n",
       "    .dataframe tbody tr th:only-of-type {\n",
       "        vertical-align: middle;\n",
       "    }\n",
       "\n",
       "    .dataframe tbody tr th {\n",
       "        vertical-align: top;\n",
       "    }\n",
       "\n",
       "    .dataframe thead th {\n",
       "        text-align: right;\n",
       "    }\n",
       "</style>\n",
       "<table border=\"1\" class=\"dataframe\">\n",
       "  <thead>\n",
       "    <tr style=\"text-align: right;\">\n",
       "      <th></th>\n",
       "      <th>order_id</th>\n",
       "      <th>order_item_id</th>\n",
       "      <th>product_id</th>\n",
       "      <th>seller_id</th>\n",
       "      <th>shipping_limit_date</th>\n",
       "      <th>price</th>\n",
       "      <th>freight_value</th>\n",
       "      <th>product_category_name_english</th>\n",
       "    </tr>\n",
       "  </thead>\n",
       "  <tbody>\n",
       "    <tr>\n",
       "      <th>0</th>\n",
       "      <td>00010242fe8c5a6d1ba2dd792cb16214</td>\n",
       "      <td>1</td>\n",
       "      <td>4244733e06e7ecb4970a6e2683c13e61</td>\n",
       "      <td>48436dade18ac8b2bce089ec2a041202</td>\n",
       "      <td>2017-09-19 09:45:35</td>\n",
       "      <td>58.9</td>\n",
       "      <td>13.29</td>\n",
       "      <td>cool_stuff</td>\n",
       "    </tr>\n",
       "    <tr>\n",
       "      <th>1</th>\n",
       "      <td>130898c0987d1801452a8ed92a670612</td>\n",
       "      <td>1</td>\n",
       "      <td>4244733e06e7ecb4970a6e2683c13e61</td>\n",
       "      <td>48436dade18ac8b2bce089ec2a041202</td>\n",
       "      <td>2017-07-05 02:44:11</td>\n",
       "      <td>55.9</td>\n",
       "      <td>17.96</td>\n",
       "      <td>cool_stuff</td>\n",
       "    </tr>\n",
       "    <tr>\n",
       "      <th>2</th>\n",
       "      <td>532ed5e14e24ae1f0d735b91524b98b9</td>\n",
       "      <td>1</td>\n",
       "      <td>4244733e06e7ecb4970a6e2683c13e61</td>\n",
       "      <td>48436dade18ac8b2bce089ec2a041202</td>\n",
       "      <td>2018-05-23 10:56:25</td>\n",
       "      <td>64.9</td>\n",
       "      <td>18.33</td>\n",
       "      <td>cool_stuff</td>\n",
       "    </tr>\n",
       "    <tr>\n",
       "      <th>3</th>\n",
       "      <td>6f8c31653edb8c83e1a739408b5ff750</td>\n",
       "      <td>1</td>\n",
       "      <td>4244733e06e7ecb4970a6e2683c13e61</td>\n",
       "      <td>48436dade18ac8b2bce089ec2a041202</td>\n",
       "      <td>2017-08-07 18:55:08</td>\n",
       "      <td>58.9</td>\n",
       "      <td>16.17</td>\n",
       "      <td>cool_stuff</td>\n",
       "    </tr>\n",
       "    <tr>\n",
       "      <th>4</th>\n",
       "      <td>7d19f4ef4d04461989632411b7e588b9</td>\n",
       "      <td>1</td>\n",
       "      <td>4244733e06e7ecb4970a6e2683c13e61</td>\n",
       "      <td>48436dade18ac8b2bce089ec2a041202</td>\n",
       "      <td>2017-08-16 22:05:11</td>\n",
       "      <td>58.9</td>\n",
       "      <td>13.29</td>\n",
       "      <td>cool_stuff</td>\n",
       "    </tr>\n",
       "  </tbody>\n",
       "</table>\n",
       "</div>"
      ],
      "text/plain": [
       "                           order_id  order_item_id  \\\n",
       "0  00010242fe8c5a6d1ba2dd792cb16214              1   \n",
       "1  130898c0987d1801452a8ed92a670612              1   \n",
       "2  532ed5e14e24ae1f0d735b91524b98b9              1   \n",
       "3  6f8c31653edb8c83e1a739408b5ff750              1   \n",
       "4  7d19f4ef4d04461989632411b7e588b9              1   \n",
       "\n",
       "                         product_id                         seller_id  \\\n",
       "0  4244733e06e7ecb4970a6e2683c13e61  48436dade18ac8b2bce089ec2a041202   \n",
       "1  4244733e06e7ecb4970a6e2683c13e61  48436dade18ac8b2bce089ec2a041202   \n",
       "2  4244733e06e7ecb4970a6e2683c13e61  48436dade18ac8b2bce089ec2a041202   \n",
       "3  4244733e06e7ecb4970a6e2683c13e61  48436dade18ac8b2bce089ec2a041202   \n",
       "4  4244733e06e7ecb4970a6e2683c13e61  48436dade18ac8b2bce089ec2a041202   \n",
       "\n",
       "   shipping_limit_date  price  freight_value product_category_name_english  \n",
       "0  2017-09-19 09:45:35   58.9          13.29                    cool_stuff  \n",
       "1  2017-07-05 02:44:11   55.9          17.96                    cool_stuff  \n",
       "2  2018-05-23 10:56:25   64.9          18.33                    cool_stuff  \n",
       "3  2017-08-07 18:55:08   58.9          16.17                    cool_stuff  \n",
       "4  2017-08-16 22:05:11   58.9          13.29                    cool_stuff  "
      ]
     },
     "execution_count": 93,
     "metadata": {},
     "output_type": "execute_result"
    }
   ],
   "source": [
    "new_sellers = Seller()\n",
    "# add product category in \"order_items\"\n",
    "order_items_with_cat = new_sellers.data[\"order_items\"].merge(new_sellers.data[\"products\"][[\"product_id\", \"product_category_name\"]], on=\"product_id\")\\\n",
    ".merge(new_sellers.data[\"product_category_name_translation\"], on=\"product_category_name\")\\\n",
    ".drop(['product_category_name'], axis=1)\n",
    "order_items_with_cat.head()"
   ]
  },
  {
   "cell_type": "code",
   "execution_count": 94,
   "id": "e44ff249",
   "metadata": {
    "slideshow": {
     "slide_type": "skip"
    }
   },
   "outputs": [],
   "source": [
    "def margin_remove_categories(n):\n",
    "    my_df = order_items_with_cat.copy()\n",
    "    categories_to_remove = [cat for cat in worst_categories.index[0:n]]\n",
    "#     print(\"Categories to remove :\", categories_to_remove)\n",
    "    my_df = my_df[~my_df[\"product_category_name_english\"].isin(categories_to_remove)]\n",
    "    my_df = my_df.drop(['product_category_name_english'], axis=1)\n",
    "    my_seller = Seller()\n",
    "    my_seller.data[\"order_items\"] = my_df\n",
    "    results = margin_olist(my_seller.get_training_data(), 0)\n",
    "    return results"
   ]
  },
  {
   "cell_type": "code",
   "execution_count": 95,
   "id": "069b657d",
   "metadata": {
    "slideshow": {
     "slide_type": "skip"
    }
   },
   "outputs": [
    {
     "data": {
      "text/plain": [
       "705998.67"
      ]
     },
     "execution_count": 95,
     "metadata": {},
     "output_type": "execute_result"
    }
   ],
   "source": [
    "margin_remove_categories(10)"
   ]
  },
  {
   "cell_type": "markdown",
   "id": "f120f5ae",
   "metadata": {
    "slideshow": {
     "slide_type": "fragment"
    }
   },
   "source": [
    "- If we **plot the margin** on the number of categories to remove:"
   ]
  },
  {
   "cell_type": "code",
   "execution_count": 96,
   "id": "205950b2",
   "metadata": {
    "slideshow": {
     "slide_type": "skip"
    },
    "tags": [
     "remove_input"
    ]
   },
   "outputs": [
    {
     "data": {
      "text/html": [
       "<div>\n",
       "<style scoped>\n",
       "    .dataframe tbody tr th:only-of-type {\n",
       "        vertical-align: middle;\n",
       "    }\n",
       "\n",
       "    .dataframe tbody tr th {\n",
       "        vertical-align: top;\n",
       "    }\n",
       "\n",
       "    .dataframe thead th {\n",
       "        text-align: right;\n",
       "    }\n",
       "</style>\n",
       "<table border=\"1\" class=\"dataframe\">\n",
       "  <thead>\n",
       "    <tr style=\"text-align: right;\">\n",
       "      <th></th>\n",
       "      <th>margin</th>\n",
       "    </tr>\n",
       "    <tr>\n",
       "      <th>cat_to_remove</th>\n",
       "      <th></th>\n",
       "    </tr>\n",
       "  </thead>\n",
       "  <tbody>\n",
       "    <tr>\n",
       "      <th>0</th>\n",
       "      <td>662176.84</td>\n",
       "    </tr>\n",
       "    <tr>\n",
       "      <th>1</th>\n",
       "      <td>662171.45</td>\n",
       "    </tr>\n",
       "    <tr>\n",
       "      <th>2</th>\n",
       "      <td>662529.74</td>\n",
       "    </tr>\n",
       "    <tr>\n",
       "      <th>3</th>\n",
       "      <td>662346.41</td>\n",
       "    </tr>\n",
       "    <tr>\n",
       "      <th>4</th>\n",
       "      <td>663328.21</td>\n",
       "    </tr>\n",
       "  </tbody>\n",
       "</table>\n",
       "</div>"
      ],
      "text/plain": [
       "                  margin\n",
       "cat_to_remove           \n",
       "0              662176.84\n",
       "1              662171.45\n",
       "2              662529.74\n",
       "3              662346.41\n",
       "4              663328.21"
      ]
     },
     "execution_count": 96,
     "metadata": {},
     "output_type": "execute_result"
    }
   ],
   "source": [
    "cat_to_remove = np.linspace(0, 20, 20, dtype=int)\n",
    "margin_per_cat_to_remove = pd.DataFrame()\n",
    "margin_per_cat_to_remove[\"cat_to_remove\"] = cat_to_remove\n",
    "margin_per_cat_to_remove[\"margin\"] = margin_per_cat_to_remove[\"cat_to_remove\"].apply(lambda x: margin_remove_categories(x))\n",
    "margin_per_cat_to_remove.set_index(\"cat_to_remove\",inplace=True)\n",
    "margin_per_cat_to_remove.head()"
   ]
  },
  {
   "cell_type": "code",
   "execution_count": 98,
   "id": "6ba14859",
   "metadata": {
    "slideshow": {
     "slide_type": "-"
    },
    "tags": [
     "remove_input"
    ]
   },
   "outputs": [
    {
     "data": {
      "image/png": "[encoded data removed]",
      "text/plain": [
       "<Figure size 640x480 with 1 Axes>"
      ]
     },
     "metadata": {},
     "output_type": "display_data"
    }
   ],
   "source": [
    "plt.plot(margin_per_cat_to_remove.index, margin_per_cat_to_remove[\"margin\"], label=\"margin\");\n",
    "plt.legend()\n",
    "plt.xlabel(\"Number of product categories to remove\")\n",
    "plt.ylabel(\"Margin (BRL)\");"
   ]
  },
  {
   "cell_type": "markdown",
   "id": "cbd02ca6",
   "metadata": {
    "slideshow": {
     "slide_type": "subslide"
    }
   },
   "source": [
    "It seems that the optimal number of categories to remove is:"
   ]
  },
  {
   "cell_type": "code",
   "execution_count": 99,
   "id": "fa17a63c",
   "metadata": {
    "slideshow": {
     "slide_type": "-"
    },
    "tags": [
     "remove_input"
    ]
   },
   "outputs": [
    {
     "name": "stdout",
     "output_type": "stream",
     "text": [
      "9 product categories\n"
     ]
    }
   ],
   "source": [
    "print(margin_per_cat_to_remove[\"margin\"].idxmax(), \"product categories\")"
   ]
  },
  {
   "cell_type": "markdown",
   "id": "602b79f6",
   "metadata": {
    "slideshow": {
     "slide_type": "fragment"
    }
   },
   "source": [
    "As a reminder, the current cumulated margin is: "
   ]
  },
  {
   "cell_type": "code",
   "execution_count": 69,
   "id": "a9649fb3",
   "metadata": {
    "slideshow": {
     "slide_type": "-"
    },
    "tags": [
     "remove_input"
    ]
   },
   "outputs": [
    {
     "name": "stdout",
     "output_type": "stream",
     "text": [
      "667609.12 BRL\n"
     ]
    }
   ],
   "source": [
    "print(total_margin, \"BRL\")"
   ]
  },
  {
   "cell_type": "markdown",
   "id": "1bd91f50",
   "metadata": {
    "slideshow": {
     "slide_type": "fragment"
    }
   },
   "source": [
    "If Olist haven't sale the 9 worst product categories in term of bad reviews, and considering the IT costs and variable revenues, we would have obtain the following cumulated margin:"
   ]
  },
  {
   "cell_type": "code",
   "execution_count": 101,
   "id": "51a5c432",
   "metadata": {
    "slideshow": {
     "slide_type": "-"
    },
    "tags": [
     "remove_input"
    ]
   },
   "outputs": [
    {
     "name": "stdout",
     "output_type": "stream",
     "text": [
      "715419.44 BRL\n"
     ]
    }
   ],
   "source": [
    "new_margin = margin_remove_categories(9)\n",
    "print(margin_remove_categories(9), \"BRL\")"
   ]
  },
  {
   "cell_type": "markdown",
   "id": "35f7d30c",
   "metadata": {
    "slideshow": {
     "slide_type": "fragment"
    }
   },
   "source": [
    "That represents a margin increase of: "
   ]
  },
  {
   "cell_type": "code",
   "execution_count": 102,
   "id": "e3d47ba8",
   "metadata": {
    "slideshow": {
     "slide_type": "-"
    },
    "tags": [
     "remove_input"
    ]
   },
   "outputs": [
    {
     "name": "stdout",
     "output_type": "stream",
     "text": [
      "7.16 %\n"
     ]
    }
   ],
   "source": [
    "print(round((new_margin - total_margin) / total_margin * 100,2), \"%\")"
   ]
  },
  {
   "cell_type": "markdown",
   "id": "a49d644b",
   "metadata": {
    "slideshow": {
     "slide_type": "skip"
    }
   },
   "source": [
    "## Linear regressions"
   ]
  },
  {
   "cell_type": "markdown",
   "id": "cff4e876",
   "metadata": {
    "heading_collapsed": true,
    "slideshow": {
     "slide_type": "skip"
    }
   },
   "source": [
    "### Data preparation : sales weighting by bad reviews"
   ]
  },
  {
   "cell_type": "markdown",
   "id": "a0a9e2a2",
   "metadata": {
    "hidden": true
   },
   "source": [
    "We know that bad reviews have an impact on Olist profit. We can create a knew set of data which will consider 10% Olist cut on sales - an amount on products which have an average review_score less than 3."
   ]
  },
  {
   "cell_type": "code",
   "execution_count": 86,
   "id": "556c3065",
   "metadata": {
    "hidden": true
   },
   "outputs": [],
   "source": [
    "my_products = products.copy()"
   ]
  },
  {
   "cell_type": "code",
   "execution_count": 87,
   "id": "f099cd09",
   "metadata": {
    "collapsed": true,
    "hidden": true
   },
   "outputs": [
    {
     "data": {
      "text/html": [
       "<div>\n",
       "<style scoped>\n",
       "    .dataframe tbody tr th:only-of-type {\n",
       "        vertical-align: middle;\n",
       "    }\n",
       "\n",
       "    .dataframe tbody tr th {\n",
       "        vertical-align: top;\n",
       "    }\n",
       "\n",
       "    .dataframe thead th {\n",
       "        text-align: right;\n",
       "    }\n",
       "</style>\n",
       "<table border=\"1\" class=\"dataframe\">\n",
       "  <thead>\n",
       "    <tr style=\"text-align: right;\">\n",
       "      <th></th>\n",
       "      <th>product_id</th>\n",
       "      <th>product_name_length</th>\n",
       "      <th>product_description_length</th>\n",
       "      <th>product_photos_qty</th>\n",
       "      <th>product_weight_g</th>\n",
       "      <th>product_length_cm</th>\n",
       "      <th>product_height_cm</th>\n",
       "      <th>product_width_cm</th>\n",
       "      <th>category</th>\n",
       "      <th>wait_time</th>\n",
       "      <th>price</th>\n",
       "      <th>share_of_one_stars</th>\n",
       "      <th>share_of_five_stars</th>\n",
       "      <th>review_score</th>\n",
       "      <th>n_orders</th>\n",
       "      <th>quantity</th>\n",
       "      <th>sales</th>\n",
       "      <th>weighted_revenues</th>\n",
       "    </tr>\n",
       "  </thead>\n",
       "  <tbody>\n",
       "    <tr>\n",
       "      <th>0</th>\n",
       "      <td>1e9e8ef04dbcff4541ed26657ea517e5</td>\n",
       "      <td>40.0</td>\n",
       "      <td>287.0</td>\n",
       "      <td>1.0</td>\n",
       "      <td>225.0</td>\n",
       "      <td>16.0</td>\n",
       "      <td>10.0</td>\n",
       "      <td>14.0</td>\n",
       "      <td>perfumery</td>\n",
       "      <td>3.017639</td>\n",
       "      <td>10.910000</td>\n",
       "      <td>0.0</td>\n",
       "      <td>1.0</td>\n",
       "      <td>5.0</td>\n",
       "      <td>1</td>\n",
       "      <td>1</td>\n",
       "      <td>10.91</td>\n",
       "      <td>1.091</td>\n",
       "    </tr>\n",
       "    <tr>\n",
       "      <th>1</th>\n",
       "      <td>6a2fb4dd53d2cdb88e0432f1284a004c</td>\n",
       "      <td>39.0</td>\n",
       "      <td>346.0</td>\n",
       "      <td>2.0</td>\n",
       "      <td>400.0</td>\n",
       "      <td>27.0</td>\n",
       "      <td>5.0</td>\n",
       "      <td>20.0</td>\n",
       "      <td>perfumery</td>\n",
       "      <td>10.275272</td>\n",
       "      <td>16.900000</td>\n",
       "      <td>0.0</td>\n",
       "      <td>0.5</td>\n",
       "      <td>3.5</td>\n",
       "      <td>2</td>\n",
       "      <td>2</td>\n",
       "      <td>33.80</td>\n",
       "      <td>3.380</td>\n",
       "    </tr>\n",
       "    <tr>\n",
       "      <th>2</th>\n",
       "      <td>0d009643171aee696f4733340bc2fdd0</td>\n",
       "      <td>52.0</td>\n",
       "      <td>150.0</td>\n",
       "      <td>1.0</td>\n",
       "      <td>422.0</td>\n",
       "      <td>21.0</td>\n",
       "      <td>16.0</td>\n",
       "      <td>18.0</td>\n",
       "      <td>perfumery</td>\n",
       "      <td>13.933686</td>\n",
       "      <td>325.627273</td>\n",
       "      <td>0.2</td>\n",
       "      <td>0.4</td>\n",
       "      <td>3.7</td>\n",
       "      <td>10</td>\n",
       "      <td>11</td>\n",
       "      <td>3581.90</td>\n",
       "      <td>358.190</td>\n",
       "    </tr>\n",
       "    <tr>\n",
       "      <th>3</th>\n",
       "      <td>b1eae565a61935e0011ee7682fef9dc9</td>\n",
       "      <td>49.0</td>\n",
       "      <td>460.0</td>\n",
       "      <td>2.0</td>\n",
       "      <td>267.0</td>\n",
       "      <td>17.0</td>\n",
       "      <td>13.0</td>\n",
       "      <td>17.0</td>\n",
       "      <td>perfumery</td>\n",
       "      <td>21.219062</td>\n",
       "      <td>399.900000</td>\n",
       "      <td>0.0</td>\n",
       "      <td>0.0</td>\n",
       "      <td>2.0</td>\n",
       "      <td>1</td>\n",
       "      <td>1</td>\n",
       "      <td>399.90</td>\n",
       "      <td>0.000</td>\n",
       "    </tr>\n",
       "    <tr>\n",
       "      <th>4</th>\n",
       "      <td>8da90b37f0fb171b4877c124f965b1f6</td>\n",
       "      <td>56.0</td>\n",
       "      <td>733.0</td>\n",
       "      <td>3.0</td>\n",
       "      <td>377.0</td>\n",
       "      <td>18.0</td>\n",
       "      <td>13.0</td>\n",
       "      <td>15.0</td>\n",
       "      <td>perfumery</td>\n",
       "      <td>8.965984</td>\n",
       "      <td>137.900000</td>\n",
       "      <td>0.0</td>\n",
       "      <td>1.0</td>\n",
       "      <td>5.0</td>\n",
       "      <td>1</td>\n",
       "      <td>1</td>\n",
       "      <td>137.90</td>\n",
       "      <td>13.790</td>\n",
       "    </tr>\n",
       "  </tbody>\n",
       "</table>\n",
       "</div>"
      ],
      "text/plain": [
       "                         product_id  product_name_length  \\\n",
       "0  1e9e8ef04dbcff4541ed26657ea517e5                 40.0   \n",
       "1  6a2fb4dd53d2cdb88e0432f1284a004c                 39.0   \n",
       "2  0d009643171aee696f4733340bc2fdd0                 52.0   \n",
       "3  b1eae565a61935e0011ee7682fef9dc9                 49.0   \n",
       "4  8da90b37f0fb171b4877c124f965b1f6                 56.0   \n",
       "\n",
       "   product_description_length  product_photos_qty  product_weight_g  \\\n",
       "0                       287.0                 1.0             225.0   \n",
       "1                       346.0                 2.0             400.0   \n",
       "2                       150.0                 1.0             422.0   \n",
       "3                       460.0                 2.0             267.0   \n",
       "4                       733.0                 3.0             377.0   \n",
       "\n",
       "   product_length_cm  product_height_cm  product_width_cm   category  \\\n",
       "0               16.0               10.0              14.0  perfumery   \n",
       "1               27.0                5.0              20.0  perfumery   \n",
       "2               21.0               16.0              18.0  perfumery   \n",
       "3               17.0               13.0              17.0  perfumery   \n",
       "4               18.0               13.0              15.0  perfumery   \n",
       "\n",
       "   wait_time       price  share_of_one_stars  share_of_five_stars  \\\n",
       "0   3.017639   10.910000                 0.0                  1.0   \n",
       "1  10.275272   16.900000                 0.0                  0.5   \n",
       "2  13.933686  325.627273                 0.2                  0.4   \n",
       "3  21.219062  399.900000                 0.0                  0.0   \n",
       "4   8.965984  137.900000                 0.0                  1.0   \n",
       "\n",
       "   review_score  n_orders  quantity    sales  weighted_revenues  \n",
       "0           5.0         1         1    10.91              1.091  \n",
       "1           3.5         2         2    33.80              3.380  \n",
       "2           3.7        10        11  3581.90            358.190  \n",
       "3           2.0         1         1   399.90              0.000  \n",
       "4           5.0         1         1   137.90             13.790  "
      ]
     },
     "execution_count": 87,
     "metadata": {},
     "output_type": "execute_result"
    }
   ],
   "source": [
    "my_products[\"weighted_revenues\"] = my_products[\"sales\"]*0.1 -\\\n",
    "my_products.apply(lambda row: row[\"sales\"]*0.30 if row[\"review_score\"] < 2\\\n",
    "                  else row[\"sales\"]*0.10 if row[\"review_score\"] < 3\\\n",
    "                  else 0, axis=1)\n",
    "my_products.head()"
   ]
  },
  {
   "cell_type": "markdown",
   "id": "6ecc5232",
   "metadata": {
    "heading_collapsed": true,
    "slideshow": {
     "slide_type": "skip"
    }
   },
   "source": [
    "### Data standardization"
   ]
  },
  {
   "cell_type": "markdown",
   "id": "c3079cbc",
   "metadata": {
    "hidden": true
   },
   "source": [
    "#### Regression of sales"
   ]
  },
  {
   "cell_type": "code",
   "execution_count": 88,
   "id": "769c517a",
   "metadata": {
    "hidden": true
   },
   "outputs": [],
   "source": [
    "features = [\"review_score\", \"price\", \"wait_time\"]"
   ]
  },
  {
   "cell_type": "code",
   "execution_count": 89,
   "id": "a030487a",
   "metadata": {
    "collapsed": true,
    "hidden": true
   },
   "outputs": [
    {
     "data": {
      "text/html": [
       "<div>\n",
       "<style scoped>\n",
       "    .dataframe tbody tr th:only-of-type {\n",
       "        vertical-align: middle;\n",
       "    }\n",
       "\n",
       "    .dataframe tbody tr th {\n",
       "        vertical-align: top;\n",
       "    }\n",
       "\n",
       "    .dataframe thead th {\n",
       "        text-align: right;\n",
       "    }\n",
       "</style>\n",
       "<table border=\"1\" class=\"dataframe\">\n",
       "  <thead>\n",
       "    <tr style=\"text-align: right;\">\n",
       "      <th></th>\n",
       "      <th>product_id</th>\n",
       "      <th>category</th>\n",
       "      <th>sales</th>\n",
       "      <th>weighted_revenues</th>\n",
       "      <th>review_score</th>\n",
       "      <th>price</th>\n",
       "      <th>wait_time</th>\n",
       "    </tr>\n",
       "  </thead>\n",
       "  <tbody>\n",
       "    <tr>\n",
       "      <th>0</th>\n",
       "      <td>1e9e8ef04dbcff4541ed26657ea517e5</td>\n",
       "      <td>perfumery</td>\n",
       "      <td>10.91</td>\n",
       "      <td>1.091</td>\n",
       "      <td>0.775088</td>\n",
       "      <td>-0.549566</td>\n",
       "      <td>-1.101806</td>\n",
       "    </tr>\n",
       "    <tr>\n",
       "      <th>1</th>\n",
       "      <td>6a2fb4dd53d2cdb88e0432f1284a004c</td>\n",
       "      <td>perfumery</td>\n",
       "      <td>33.80</td>\n",
       "      <td>3.380</td>\n",
       "      <td>-0.531302</td>\n",
       "      <td>-0.524959</td>\n",
       "      <td>-0.223766</td>\n",
       "    </tr>\n",
       "    <tr>\n",
       "      <th>2</th>\n",
       "      <td>0d009643171aee696f4733340bc2fdd0</td>\n",
       "      <td>perfumery</td>\n",
       "      <td>3581.90</td>\n",
       "      <td>358.190</td>\n",
       "      <td>-0.357116</td>\n",
       "      <td>0.743302</td>\n",
       "      <td>0.218835</td>\n",
       "    </tr>\n",
       "    <tr>\n",
       "      <th>3</th>\n",
       "      <td>b1eae565a61935e0011ee7682fef9dc9</td>\n",
       "      <td>perfumery</td>\n",
       "      <td>399.90</td>\n",
       "      <td>0.000</td>\n",
       "      <td>-1.837691</td>\n",
       "      <td>1.048417</td>\n",
       "      <td>1.100232</td>\n",
       "    </tr>\n",
       "    <tr>\n",
       "      <th>4</th>\n",
       "      <td>8da90b37f0fb171b4877c124f965b1f6</td>\n",
       "      <td>perfumery</td>\n",
       "      <td>137.90</td>\n",
       "      <td>13.790</td>\n",
       "      <td>0.775088</td>\n",
       "      <td>-0.027887</td>\n",
       "      <td>-0.382166</td>\n",
       "    </tr>\n",
       "  </tbody>\n",
       "</table>\n",
       "</div>"
      ],
      "text/plain": [
       "                         product_id   category    sales  weighted_revenues  \\\n",
       "0  1e9e8ef04dbcff4541ed26657ea517e5  perfumery    10.91              1.091   \n",
       "1  6a2fb4dd53d2cdb88e0432f1284a004c  perfumery    33.80              3.380   \n",
       "2  0d009643171aee696f4733340bc2fdd0  perfumery  3581.90            358.190   \n",
       "3  b1eae565a61935e0011ee7682fef9dc9  perfumery   399.90              0.000   \n",
       "4  8da90b37f0fb171b4877c124f965b1f6  perfumery   137.90             13.790   \n",
       "\n",
       "   review_score     price  wait_time  \n",
       "0      0.775088 -0.549566  -1.101806  \n",
       "1     -0.531302 -0.524959  -0.223766  \n",
       "2     -0.357116  0.743302   0.218835  \n",
       "3     -1.837691  1.048417   1.100232  \n",
       "4      0.775088 -0.027887  -0.382166  "
      ]
     },
     "execution_count": 89,
     "metadata": {},
     "output_type": "execute_result"
    }
   ],
   "source": [
    "products_scaled = pd.DataFrame()\n",
    "products_scaled[[\"product_id\", \"category\", \"sales\", \"weighted_revenues\"]] = my_products[[\"product_id\", \"category\", \"sales\", \"weighted_revenues\"]]\n",
    "for feature in features:\n",
    "    mu = my_products[feature].mean()\n",
    "    sigma = my_products[feature].std()\n",
    "    products_scaled[feature] = my_products[feature].apply(lambda x: (x-mu)/sigma)\n",
    "products_scaled.head()"
   ]
  },
  {
   "cell_type": "markdown",
   "id": "25fc87c8",
   "metadata": {
    "hidden": true
   },
   "source": [
    "#### Regression of Review_score"
   ]
  },
  {
   "cell_type": "code",
   "execution_count": 99,
   "id": "ba836258",
   "metadata": {
    "hidden": true
   },
   "outputs": [],
   "source": [
    "features = [\"sales\", \"weighted_revenues\", \"price\", \"wait_time\"]"
   ]
  },
  {
   "cell_type": "code",
   "execution_count": 100,
   "id": "74c92e46",
   "metadata": {
    "collapsed": true,
    "hidden": true
   },
   "outputs": [
    {
     "data": {
      "text/html": [
       "<div>\n",
       "<style scoped>\n",
       "    .dataframe tbody tr th:only-of-type {\n",
       "        vertical-align: middle;\n",
       "    }\n",
       "\n",
       "    .dataframe tbody tr th {\n",
       "        vertical-align: top;\n",
       "    }\n",
       "\n",
       "    .dataframe thead th {\n",
       "        text-align: right;\n",
       "    }\n",
       "</style>\n",
       "<table border=\"1\" class=\"dataframe\">\n",
       "  <thead>\n",
       "    <tr style=\"text-align: right;\">\n",
       "      <th></th>\n",
       "      <th>product_id</th>\n",
       "      <th>category</th>\n",
       "      <th>review_score</th>\n",
       "      <th>sales</th>\n",
       "      <th>weighted_revenues</th>\n",
       "      <th>price</th>\n",
       "      <th>wait_time</th>\n",
       "    </tr>\n",
       "  </thead>\n",
       "  <tbody>\n",
       "    <tr>\n",
       "      <th>0</th>\n",
       "      <td>1e9e8ef04dbcff4541ed26657ea517e5</td>\n",
       "      <td>perfumery</td>\n",
       "      <td>5.0</td>\n",
       "      <td>-0.293878</td>\n",
       "      <td>-0.240591</td>\n",
       "      <td>-0.549566</td>\n",
       "      <td>-1.101806</td>\n",
       "    </tr>\n",
       "    <tr>\n",
       "      <th>1</th>\n",
       "      <td>6a2fb4dd53d2cdb88e0432f1284a004c</td>\n",
       "      <td>perfumery</td>\n",
       "      <td>3.5</td>\n",
       "      <td>-0.277420</td>\n",
       "      <td>-0.224442</td>\n",
       "      <td>-0.524959</td>\n",
       "      <td>-0.223766</td>\n",
       "    </tr>\n",
       "    <tr>\n",
       "      <th>2</th>\n",
       "      <td>0d009643171aee696f4733340bc2fdd0</td>\n",
       "      <td>perfumery</td>\n",
       "      <td>3.7</td>\n",
       "      <td>2.273700</td>\n",
       "      <td>2.278720</td>\n",
       "      <td>0.743302</td>\n",
       "      <td>0.218835</td>\n",
       "    </tr>\n",
       "    <tr>\n",
       "      <th>3</th>\n",
       "      <td>b1eae565a61935e0011ee7682fef9dc9</td>\n",
       "      <td>perfumery</td>\n",
       "      <td>2.0</td>\n",
       "      <td>-0.014191</td>\n",
       "      <td>-0.248288</td>\n",
       "      <td>1.048417</td>\n",
       "      <td>1.100232</td>\n",
       "    </tr>\n",
       "    <tr>\n",
       "      <th>4</th>\n",
       "      <td>8da90b37f0fb171b4877c124f965b1f6</td>\n",
       "      <td>perfumery</td>\n",
       "      <td>5.0</td>\n",
       "      <td>-0.202571</td>\n",
       "      <td>-0.151000</td>\n",
       "      <td>-0.027887</td>\n",
       "      <td>-0.382166</td>\n",
       "    </tr>\n",
       "  </tbody>\n",
       "</table>\n",
       "</div>"
      ],
      "text/plain": [
       "                         product_id   category  review_score     sales  \\\n",
       "0  1e9e8ef04dbcff4541ed26657ea517e5  perfumery           5.0 -0.293878   \n",
       "1  6a2fb4dd53d2cdb88e0432f1284a004c  perfumery           3.5 -0.277420   \n",
       "2  0d009643171aee696f4733340bc2fdd0  perfumery           3.7  2.273700   \n",
       "3  b1eae565a61935e0011ee7682fef9dc9  perfumery           2.0 -0.014191   \n",
       "4  8da90b37f0fb171b4877c124f965b1f6  perfumery           5.0 -0.202571   \n",
       "\n",
       "   weighted_revenues     price  wait_time  \n",
       "0          -0.240591 -0.549566  -1.101806  \n",
       "1          -0.224442 -0.524959  -0.223766  \n",
       "2           2.278720  0.743302   0.218835  \n",
       "3          -0.248288  1.048417   1.100232  \n",
       "4          -0.151000 -0.027887  -0.382166  "
      ]
     },
     "execution_count": 100,
     "metadata": {},
     "output_type": "execute_result"
    }
   ],
   "source": [
    "products_scaled2 = pd.DataFrame()\n",
    "products_scaled2[[\"product_id\", \"category\", \"review_score\"]] = my_products[[\"product_id\", \"category\", \"review_score\"]]\n",
    "for feature in features:\n",
    "    mu = my_products[feature].mean()\n",
    "    sigma = my_products[feature].std()\n",
    "    products_scaled2[feature] = my_products[feature].apply(lambda x: (x-mu)/sigma)\n",
    "products_scaled2.head()"
   ]
  },
  {
   "cell_type": "markdown",
   "id": "a90d4156",
   "metadata": {
    "heading_collapsed": true,
    "slideshow": {
     "slide_type": "skip"
    }
   },
   "source": [
    "### Determine which categories impact the most the Olist performance with linear regressions"
   ]
  },
  {
   "cell_type": "markdown",
   "id": "687c180f",
   "metadata": {
    "hidden": true
   },
   "source": [
    "#### Linear regression of weighted revenues on products categories"
   ]
  },
  {
   "cell_type": "code",
   "execution_count": 90,
   "id": "aa3f78a6",
   "metadata": {
    "collapsed": true,
    "hidden": true
   },
   "outputs": [
    {
     "data": {
      "text/html": [
       "<table class=\"simpletable\">\n",
       "<caption>OLS Regression Results</caption>\n",
       "<tr>\n",
       "  <th>Dep. Variable:</th>    <td>weighted_revenues</td> <th>  R-squared:         </th>  <td>   0.039</td>  \n",
       "</tr>\n",
       "<tr>\n",
       "  <th>Model:</th>                   <td>OLS</td>        <th>  Adj. R-squared:    </th>  <td>   0.036</td>  \n",
       "</tr>\n",
       "<tr>\n",
       "  <th>Method:</th>             <td>Least Squares</td>   <th>  F-statistic:       </th>  <td>   17.99</td>  \n",
       "</tr>\n",
       "<tr>\n",
       "  <th>Date:</th>             <td>Thu, 02 Nov 2023</td>  <th>  Prob (F-statistic):</th>  <td>1.08e-212</td> \n",
       "</tr>\n",
       "<tr>\n",
       "  <th>Time:</th>                 <td>16:27:21</td>      <th>  Log-Likelihood:    </th> <td>-2.0003e+05</td>\n",
       "</tr>\n",
       "<tr>\n",
       "  <th>No. Observations:</th>      <td> 31484</td>       <th>  AIC:               </th>  <td>4.002e+05</td> \n",
       "</tr>\n",
       "<tr>\n",
       "  <th>Df Residuals:</th>          <td> 31413</td>       <th>  BIC:               </th>  <td>4.008e+05</td> \n",
       "</tr>\n",
       "<tr>\n",
       "  <th>Df Model:</th>              <td>    70</td>       <th>                     </th>      <td> </td>     \n",
       "</tr>\n",
       "<tr>\n",
       "  <th>Covariance Type:</th>      <td>nonrobust</td>     <th>                     </th>      <td> </td>     \n",
       "</tr>\n",
       "</table>\n",
       "<table class=\"simpletable\">\n",
       "<tr>\n",
       "                             <td></td>                               <th>coef</th>     <th>std err</th>      <th>t</th>      <th>P>|t|</th>  <th>[0.025</th>    <th>0.975]</th>  \n",
       "</tr>\n",
       "<tr>\n",
       "  <th>Intercept</th>                                              <td>   34.0820</td> <td>   16.513</td> <td>    2.064</td> <td> 0.039</td> <td>    1.716</td> <td>   66.448</td>\n",
       "</tr>\n",
       "<tr>\n",
       "  <th>C(category)[T.air_conditioning]</th>                        <td>   -4.8627</td> <td>   20.833</td> <td>   -0.233</td> <td> 0.815</td> <td>  -45.696</td> <td>   35.971</td>\n",
       "</tr>\n",
       "<tr>\n",
       "  <th>C(category)[T.art]</th>                                     <td>    9.3260</td> <td>   25.540</td> <td>    0.365</td> <td> 0.715</td> <td>  -40.733</td> <td>   59.385</td>\n",
       "</tr>\n",
       "<tr>\n",
       "  <th>C(category)[T.arts_and_craftmanship]</th>                   <td>  -28.0654</td> <td>   35.939</td> <td>   -0.781</td> <td> 0.435</td> <td>  -98.508</td> <td>   42.377</td>\n",
       "</tr>\n",
       "<tr>\n",
       "  <th>C(category)[T.audio]</th>                                   <td>   46.3934</td> <td>   24.627</td> <td>    1.884</td> <td> 0.060</td> <td>   -1.876</td> <td>   94.663</td>\n",
       "</tr>\n",
       "<tr>\n",
       "  <th>C(category)[T.auto]</th>                                    <td>  -14.3488</td> <td>   16.828</td> <td>   -0.853</td> <td> 0.394</td> <td>  -47.331</td> <td>   18.634</td>\n",
       "</tr>\n",
       "<tr>\n",
       "  <th>C(category)[T.baby]</th>                                    <td>   -1.8713</td> <td>   17.163</td> <td>   -0.109</td> <td> 0.913</td> <td>  -35.511</td> <td>   31.768</td>\n",
       "</tr>\n",
       "<tr>\n",
       "  <th>C(category)[T.bed_bath_table]</th>                          <td>   -5.5465</td> <td>   16.709</td> <td>   -0.332</td> <td> 0.740</td> <td>  -38.297</td> <td>   27.204</td>\n",
       "</tr>\n",
       "<tr>\n",
       "  <th>C(category)[T.books_general_interest]</th>                  <td>  -12.6828</td> <td>   19.137</td> <td>   -0.663</td> <td> 0.507</td> <td>  -50.191</td> <td>   24.826</td>\n",
       "</tr>\n",
       "<tr>\n",
       "  <th>C(category)[T.books_imported]</th>                          <td>  -21.4855</td> <td>   30.299</td> <td>   -0.709</td> <td> 0.478</td> <td>  -80.872</td> <td>   37.901</td>\n",
       "</tr>\n",
       "<tr>\n",
       "  <th>C(category)[T.books_technical]</th>                         <td>  -20.4079</td> <td>   20.769</td> <td>   -0.983</td> <td> 0.326</td> <td>  -61.117</td> <td>   20.301</td>\n",
       "</tr>\n",
       "<tr>\n",
       "  <th>C(category)[T.cds_dvds_musicals]</th>                       <td>   38.9180</td> <td>  140.117</td> <td>    0.278</td> <td> 0.781</td> <td> -235.717</td> <td>  313.553</td>\n",
       "</tr>\n",
       "<tr>\n",
       "  <th>C(category)[T.christmas_supplies]</th>                      <td>  -21.0298</td> <td>   24.186</td> <td>   -0.870</td> <td> 0.385</td> <td>  -68.434</td> <td>   26.375</td>\n",
       "</tr>\n",
       "<tr>\n",
       "  <th>C(category)[T.cine_photo]</th>                              <td>  -13.5058</td> <td>   31.895</td> <td>   -0.423</td> <td> 0.672</td> <td>  -76.022</td> <td>   49.010</td>\n",
       "</tr>\n",
       "<tr>\n",
       "  <th>C(category)[T.computers]</th>                               <td>  697.1736</td> <td>   30.664</td> <td>   22.736</td> <td> 0.000</td> <td>  637.071</td> <td>  757.276</td>\n",
       "</tr>\n",
       "<tr>\n",
       "  <th>C(category)[T.computers_accessories]</th>                   <td>   12.5154</td> <td>   16.876</td> <td>    0.742</td> <td> 0.458</td> <td>  -20.562</td> <td>   45.593</td>\n",
       "</tr>\n",
       "<tr>\n",
       "  <th>C(category)[T.consoles_games]</th>                          <td>    2.2739</td> <td>   18.369</td> <td>    0.124</td> <td> 0.901</td> <td>  -33.731</td> <td>   38.278</td>\n",
       "</tr>\n",
       "<tr>\n",
       "  <th>C(category)[T.construction_tools_construction]</th>         <td>   -3.5540</td> <td>   17.946</td> <td>   -0.198</td> <td> 0.843</td> <td>  -38.729</td> <td>   31.621</td>\n",
       "</tr>\n",
       "<tr>\n",
       "  <th>C(category)[T.construction_tools_lights]</th>               <td>   15.4536</td> <td>   22.966</td> <td>    0.673</td> <td> 0.501</td> <td>  -29.560</td> <td>   60.467</td>\n",
       "</tr>\n",
       "<tr>\n",
       "  <th>C(category)[T.construction_tools_safety]</th>               <td>   -3.3284</td> <td>   22.196</td> <td>   -0.150</td> <td> 0.881</td> <td>  -46.834</td> <td>   40.177</td>\n",
       "</tr>\n",
       "<tr>\n",
       "  <th>C(category)[T.cool_stuff]</th>                              <td>   39.4600</td> <td>   17.264</td> <td>    2.286</td> <td> 0.022</td> <td>    5.622</td> <td>   73.299</td>\n",
       "</tr>\n",
       "<tr>\n",
       "  <th>C(category)[T.costruction_tools_garden]</th>                <td>   -7.5226</td> <td>   22.311</td> <td>   -0.337</td> <td> 0.736</td> <td>  -51.254</td> <td>   36.209</td>\n",
       "</tr>\n",
       "<tr>\n",
       "  <th>C(category)[T.costruction_tools_tools]</th>                 <td>    2.1858</td> <td>   27.733</td> <td>    0.079</td> <td> 0.937</td> <td>  -52.171</td> <td>   56.543</td>\n",
       "</tr>\n",
       "<tr>\n",
       "  <th>C(category)[T.diapers_and_hygiene]</th>                     <td>  -26.3839</td> <td>   45.085</td> <td>   -0.585</td> <td> 0.558</td> <td> -114.753</td> <td>   61.985</td>\n",
       "</tr>\n",
       "<tr>\n",
       "  <th>C(category)[T.drinks]</th>                                  <td>  -12.0385</td> <td>   22.687</td> <td>   -0.531</td> <td> 0.596</td> <td>  -56.505</td> <td>   32.428</td>\n",
       "</tr>\n",
       "<tr>\n",
       "  <th>C(category)[T.dvds_blu_ray]</th>                            <td>  -29.2810</td> <td>   26.335</td> <td>   -1.112</td> <td> 0.266</td> <td>  -80.899</td> <td>   22.337</td>\n",
       "</tr>\n",
       "<tr>\n",
       "  <th>C(category)[T.electronics]</th>                             <td>   -5.5426</td> <td>   17.631</td> <td>   -0.314</td> <td> 0.753</td> <td>  -40.101</td> <td>   29.016</td>\n",
       "</tr>\n",
       "<tr>\n",
       "  <th>C(category)[T.fashio_female_clothing]</th>                  <td>  -27.7311</td> <td>   31.895</td> <td>   -0.869</td> <td> 0.385</td> <td>  -90.247</td> <td>   34.785</td>\n",
       "</tr>\n",
       "<tr>\n",
       "  <th>C(category)[T.fashion_bags_accessories]</th>                <td>  -18.6761</td> <td>   17.207</td> <td>   -1.085</td> <td> 0.278</td> <td>  -52.403</td> <td>   15.051</td>\n",
       "</tr>\n",
       "<tr>\n",
       "  <th>C(category)[T.fashion_childrens_clothes]</th>               <td>  -21.0833</td> <td>   71.503</td> <td>   -0.295</td> <td> 0.768</td> <td> -161.233</td> <td>  119.066</td>\n",
       "</tr>\n",
       "<tr>\n",
       "  <th>C(category)[T.fashion_male_clothing]</th>                   <td>  -29.0125</td> <td>   22.196</td> <td>   -1.307</td> <td> 0.191</td> <td>  -72.518</td> <td>   14.493</td>\n",
       "</tr>\n",
       "<tr>\n",
       "  <th>C(category)[T.fashion_shoes]</th>                           <td>  -21.8535</td> <td>   19.696</td> <td>   -1.110</td> <td> 0.267</td> <td>  -60.458</td> <td>   16.751</td>\n",
       "</tr>\n",
       "<tr>\n",
       "  <th>C(category)[T.fashion_sport]</th>                           <td>  -23.2688</td> <td>   35.939</td> <td>   -0.647</td> <td> 0.517</td> <td>  -93.711</td> <td>   47.174</td>\n",
       "</tr>\n",
       "<tr>\n",
       "  <th>C(category)[T.fashion_underwear_beach]</th>                 <td>  -18.1694</td> <td>   25.397</td> <td>   -0.715</td> <td> 0.474</td> <td>  -67.948</td> <td>   31.609</td>\n",
       "</tr>\n",
       "<tr>\n",
       "  <th>C(category)[T.fixed_telephony]</th>                         <td>  -55.9396</td> <td>   21.108</td> <td>   -2.650</td> <td> 0.008</td> <td>  -97.312</td> <td>  -14.568</td>\n",
       "</tr>\n",
       "<tr>\n",
       "  <th>C(category)[T.flowers]</th>                                 <td>  -27.5432</td> <td>   40.688</td> <td>   -0.677</td> <td> 0.498</td> <td> -107.294</td> <td>   52.208</td>\n",
       "</tr>\n",
       "<tr>\n",
       "  <th>C(category)[T.food]</th>                                    <td>    1.0302</td> <td>   22.754</td> <td>    0.045</td> <td> 0.964</td> <td>  -43.569</td> <td>   45.629</td>\n",
       "</tr>\n",
       "<tr>\n",
       "  <th>C(category)[T.food_drink]</th>                              <td>  -19.2739</td> <td>   21.639</td> <td>   -0.891</td> <td> 0.373</td> <td>  -61.687</td> <td>   23.139</td>\n",
       "</tr>\n",
       "<tr>\n",
       "  <th>C(category)[T.furniture_bedroom]</th>                       <td>    1.9666</td> <td>   26.887</td> <td>    0.073</td> <td> 0.942</td> <td>  -50.733</td> <td>   54.666</td>\n",
       "</tr>\n",
       "<tr>\n",
       "  <th>C(category)[T.furniture_decor]</th>                         <td>  -12.1163</td> <td>   16.739</td> <td>   -0.724</td> <td> 0.469</td> <td>  -44.926</td> <td>   20.693</td>\n",
       "</tr>\n",
       "<tr>\n",
       "  <th>C(category)[T.furniture_living_room]</th>                   <td>    2.5917</td> <td>   20.022</td> <td>    0.129</td> <td> 0.897</td> <td>  -36.653</td> <td>   41.836</td>\n",
       "</tr>\n",
       "<tr>\n",
       "  <th>C(category)[T.furniture_mattress_and_upholstery]</th>       <td>   -6.6822</td> <td>   46.997</td> <td>   -0.142</td> <td> 0.887</td> <td>  -98.798</td> <td>   85.433</td>\n",
       "</tr>\n",
       "<tr>\n",
       "  <th>C(category)[T.garden_tools]</th>                            <td>   23.0679</td> <td>   17.305</td> <td>    1.333</td> <td> 0.183</td> <td>  -10.850</td> <td>   56.986</td>\n",
       "</tr>\n",
       "<tr>\n",
       "  <th>C(category)[T.health_beauty]</th>                           <td>   14.7928</td> <td>   16.756</td> <td>    0.883</td> <td> 0.377</td> <td>  -18.051</td> <td>   47.636</td>\n",
       "</tr>\n",
       "<tr>\n",
       "  <th>C(category)[T.home_appliances]</th>                         <td>  -14.7169</td> <td>   18.060</td> <td>   -0.815</td> <td> 0.415</td> <td>  -50.115</td> <td>   20.681</td>\n",
       "</tr>\n",
       "<tr>\n",
       "  <th>C(category)[T.home_appliances_2]</th>                       <td>   70.5178</td> <td>   22.196</td> <td>    3.177</td> <td> 0.001</td> <td>   27.012</td> <td>  114.024</td>\n",
       "</tr>\n",
       "<tr>\n",
       "  <th>C(category)[T.home_comfort_2]</th>                          <td>  -18.8766</td> <td>   64.379</td> <td>   -0.293</td> <td> 0.769</td> <td> -145.063</td> <td>  107.310</td>\n",
       "</tr>\n",
       "<tr>\n",
       "  <th>C(category)[T.home_confort]</th>                            <td>    9.7257</td> <td>   21.220</td> <td>    0.458</td> <td> 0.647</td> <td>  -31.867</td> <td>   51.318</td>\n",
       "</tr>\n",
       "<tr>\n",
       "  <th>C(category)[T.home_construction]</th>                       <td>   -4.3974</td> <td>   18.981</td> <td>   -0.232</td> <td> 0.817</td> <td>  -41.601</td> <td>   32.806</td>\n",
       "</tr>\n",
       "<tr>\n",
       "  <th>C(category)[T.housewares]</th>                              <td>  -11.1090</td> <td>   16.769</td> <td>   -0.662</td> <td> 0.508</td> <td>  -43.976</td> <td>   21.758</td>\n",
       "</tr>\n",
       "<tr>\n",
       "  <th>C(category)[T.industry_commerce_and_business]</th>          <td>   19.5835</td> <td>   23.699</td> <td>    0.826</td> <td> 0.409</td> <td>  -26.867</td> <td>   66.034</td>\n",
       "</tr>\n",
       "<tr>\n",
       "  <th>C(category)[T.kitchen_dining_laundry_garden_furniture]</th> <td>    3.4608</td> <td>   22.032</td> <td>    0.157</td> <td> 0.875</td> <td>  -39.724</td> <td>   46.645</td>\n",
       "</tr>\n",
       "<tr>\n",
       "  <th>C(category)[T.la_cuisine]</th>                              <td>  -14.2521</td> <td>   46.997</td> <td>   -0.303</td> <td> 0.762</td> <td> -106.368</td> <td>   77.863</td>\n",
       "</tr>\n",
       "<tr>\n",
       "  <th>C(category)[T.luggage_accessories]</th>                     <td>    4.2090</td> <td>   18.128</td> <td>    0.232</td> <td> 0.816</td> <td>  -31.323</td> <td>   39.741</td>\n",
       "</tr>\n",
       "<tr>\n",
       "  <th>C(category)[T.market_place]</th>                            <td>   -9.3994</td> <td>   21.639</td> <td>   -0.434</td> <td> 0.664</td> <td>  -51.812</td> <td>   33.013</td>\n",
       "</tr>\n",
       "<tr>\n",
       "  <th>C(category)[T.music]</th>                                   <td>  -14.8737</td> <td>   31.460</td> <td>   -0.473</td> <td> 0.636</td> <td>  -76.536</td> <td>   46.789</td>\n",
       "</tr>\n",
       "<tr>\n",
       "  <th>C(category)[T.musical_instruments]</th>                     <td>   21.9064</td> <td>   18.509</td> <td>    1.184</td> <td> 0.237</td> <td>  -14.371</td> <td>   58.184</td>\n",
       "</tr>\n",
       "<tr>\n",
       "  <th>C(category)[T.office_furniture]</th>                        <td>   40.0216</td> <td>   18.369</td> <td>    2.179</td> <td> 0.029</td> <td>    4.017</td> <td>   76.026</td>\n",
       "</tr>\n",
       "<tr>\n",
       "  <th>C(category)[T.party_supplies]</th>                          <td>  -25.4341</td> <td>   32.359</td> <td>   -0.786</td> <td> 0.432</td> <td>  -88.858</td> <td>   37.990</td>\n",
       "</tr>\n",
       "<tr>\n",
       "  <th>C(category)[T.perfumery]</th>                               <td>    8.5861</td> <td>   17.184</td> <td>    0.500</td> <td> 0.617</td> <td>  -25.096</td> <td>   42.268</td>\n",
       "</tr>\n",
       "<tr>\n",
       "  <th>C(category)[T.pet_shop]</th>                                <td>   -7.2742</td> <td>   17.321</td> <td>   -0.420</td> <td> 0.675</td> <td>  -41.224</td> <td>   26.676</td>\n",
       "</tr>\n",
       "<tr>\n",
       "  <th>C(category)[T.security_and_services]</th>                   <td>  -34.9175</td> <td>   99.764</td> <td>   -0.350</td> <td> 0.726</td> <td> -230.458</td> <td>  160.623</td>\n",
       "</tr>\n",
       "<tr>\n",
       "  <th>C(category)[T.signaling_and_security]</th>                  <td>  -16.0620</td> <td>   22.032</td> <td>   -0.729</td> <td> 0.466</td> <td>  -59.246</td> <td>   27.122</td>\n",
       "</tr>\n",
       "<tr>\n",
       "  <th>C(category)[T.small_appliances]</th>                        <td>   37.9245</td> <td>   18.992</td> <td>    1.997</td> <td> 0.046</td> <td>    0.700</td> <td>   75.149</td>\n",
       "</tr>\n",
       "<tr>\n",
       "  <th>C(category)[T.small_appliances_home_oven_and_coffee]</th>   <td>  113.5099</td> <td>   30.299</td> <td>    3.746</td> <td> 0.000</td> <td>   54.123</td> <td>  172.897</td>\n",
       "</tr>\n",
       "<tr>\n",
       "  <th>C(category)[T.sports_leisure]</th>                          <td>   -5.7933</td> <td>   16.720</td> <td>   -0.346</td> <td> 0.729</td> <td>  -38.566</td> <td>   26.979</td>\n",
       "</tr>\n",
       "<tr>\n",
       "  <th>C(category)[T.stationery]</th>                              <td>   -9.8094</td> <td>   17.205</td> <td>   -0.570</td> <td> 0.569</td> <td>  -43.531</td> <td>   23.913</td>\n",
       "</tr>\n",
       "<tr>\n",
       "  <th>C(category)[T.tablets_printing_image]</th>                  <td>   46.2057</td> <td>   51.891</td> <td>    0.890</td> <td> 0.373</td> <td>  -55.503</td> <td>  147.915</td>\n",
       "</tr>\n",
       "<tr>\n",
       "  <th>C(category)[T.telephony]</th>                               <td>  -10.0679</td> <td>   17.036</td> <td>   -0.591</td> <td> 0.555</td> <td>  -43.459</td> <td>   23.323</td>\n",
       "</tr>\n",
       "<tr>\n",
       "  <th>C(category)[T.toys]</th>                                    <td>   -3.4865</td> <td>   16.937</td> <td>   -0.206</td> <td> 0.837</td> <td>  -36.683</td> <td>   29.710</td>\n",
       "</tr>\n",
       "<tr>\n",
       "  <th>C(category)[T.watches_gifts]</th>                           <td>   49.8334</td> <td>   16.960</td> <td>    2.938</td> <td> 0.003</td> <td>   16.591</td> <td>   83.076</td>\n",
       "</tr>\n",
       "</table>\n",
       "<table class=\"simpletable\">\n",
       "<tr>\n",
       "  <th>Omnibus:</th>       <td>59516.357</td> <th>  Durbin-Watson:     </th>   <td>   1.997</td>   \n",
       "</tr>\n",
       "<tr>\n",
       "  <th>Prob(Omnibus):</th>  <td> 0.000</td>   <th>  Jarque-Bera (JB):  </th> <td>313344800.239</td>\n",
       "</tr>\n",
       "<tr>\n",
       "  <th>Skew:</th>           <td>14.094</td>   <th>  Prob(JB):          </th>   <td>    0.00</td>   \n",
       "</tr>\n",
       "<tr>\n",
       "  <th>Kurtosis:</th>       <td>490.920</td>  <th>  Cond. No.          </th>   <td>    194.</td>   \n",
       "</tr>\n",
       "</table><br/><br/>Notes:<br/>[1] Standard Errors assume that the covariance matrix of the errors is correctly specified."
      ],
      "text/plain": [
       "<class 'statsmodels.iolib.summary.Summary'>\n",
       "\"\"\"\n",
       "                            OLS Regression Results                            \n",
       "==============================================================================\n",
       "Dep. Variable:      weighted_revenues   R-squared:                       0.039\n",
       "Model:                            OLS   Adj. R-squared:                  0.036\n",
       "Method:                 Least Squares   F-statistic:                     17.99\n",
       "Date:                Thu, 02 Nov 2023   Prob (F-statistic):          1.08e-212\n",
       "Time:                        16:27:21   Log-Likelihood:            -2.0003e+05\n",
       "No. Observations:               31484   AIC:                         4.002e+05\n",
       "Df Residuals:                   31413   BIC:                         4.008e+05\n",
       "Df Model:                          70                                         \n",
       "Covariance Type:            nonrobust                                         \n",
       "==========================================================================================================================\n",
       "                                                             coef    std err          t      P>|t|      [0.025      0.975]\n",
       "--------------------------------------------------------------------------------------------------------------------------\n",
       "Intercept                                                 34.0820     16.513      2.064      0.039       1.716      66.448\n",
       "C(category)[T.air_conditioning]                           -4.8627     20.833     -0.233      0.815     -45.696      35.971\n",
       "C(category)[T.art]                                         9.3260     25.540      0.365      0.715     -40.733      59.385\n",
       "C(category)[T.arts_and_craftmanship]                     -28.0654     35.939     -0.781      0.435     -98.508      42.377\n",
       "C(category)[T.audio]                                      46.3934     24.627      1.884      0.060      -1.876      94.663\n",
       "C(category)[T.auto]                                      -14.3488     16.828     -0.853      0.394     -47.331      18.634\n",
       "C(category)[T.baby]                                       -1.8713     17.163     -0.109      0.913     -35.511      31.768\n",
       "C(category)[T.bed_bath_table]                             -5.5465     16.709     -0.332      0.740     -38.297      27.204\n",
       "C(category)[T.books_general_interest]                    -12.6828     19.137     -0.663      0.507     -50.191      24.826\n",
       "C(category)[T.books_imported]                            -21.4855     30.299     -0.709      0.478     -80.872      37.901\n",
       "C(category)[T.books_technical]                           -20.4079     20.769     -0.983      0.326     -61.117      20.301\n",
       "C(category)[T.cds_dvds_musicals]                          38.9180    140.117      0.278      0.781    -235.717     313.553\n",
       "C(category)[T.christmas_supplies]                        -21.0298     24.186     -0.870      0.385     -68.434      26.375\n",
       "C(category)[T.cine_photo]                                -13.5058     31.895     -0.423      0.672     -76.022      49.010\n",
       "C(category)[T.computers]                                 697.1736     30.664     22.736      0.000     637.071     757.276\n",
       "C(category)[T.computers_accessories]                      12.5154     16.876      0.742      0.458     -20.562      45.593\n",
       "C(category)[T.consoles_games]                              2.2739     18.369      0.124      0.901     -33.731      38.278\n",
       "C(category)[T.construction_tools_construction]            -3.5540     17.946     -0.198      0.843     -38.729      31.621\n",
       "C(category)[T.construction_tools_lights]                  15.4536     22.966      0.673      0.501     -29.560      60.467\n",
       "C(category)[T.construction_tools_safety]                  -3.3284     22.196     -0.150      0.881     -46.834      40.177\n",
       "C(category)[T.cool_stuff]                                 39.4600     17.264      2.286      0.022       5.622      73.299\n",
       "C(category)[T.costruction_tools_garden]                   -7.5226     22.311     -0.337      0.736     -51.254      36.209\n",
       "C(category)[T.costruction_tools_tools]                     2.1858     27.733      0.079      0.937     -52.171      56.543\n",
       "C(category)[T.diapers_and_hygiene]                       -26.3839     45.085     -0.585      0.558    -114.753      61.985\n",
       "C(category)[T.drinks]                                    -12.0385     22.687     -0.531      0.596     -56.505      32.428\n",
       "C(category)[T.dvds_blu_ray]                              -29.2810     26.335     -1.112      0.266     -80.899      22.337\n",
       "C(category)[T.electronics]                                -5.5426     17.631     -0.314      0.753     -40.101      29.016\n",
       "C(category)[T.fashio_female_clothing]                    -27.7311     31.895     -0.869      0.385     -90.247      34.785\n",
       "C(category)[T.fashion_bags_accessories]                  -18.6761     17.207     -1.085      0.278     -52.403      15.051\n",
       "C(category)[T.fashion_childrens_clothes]                 -21.0833     71.503     -0.295      0.768    -161.233     119.066\n",
       "C(category)[T.fashion_male_clothing]                     -29.0125     22.196     -1.307      0.191     -72.518      14.493\n",
       "C(category)[T.fashion_shoes]                             -21.8535     19.696     -1.110      0.267     -60.458      16.751\n",
       "C(category)[T.fashion_sport]                             -23.2688     35.939     -0.647      0.517     -93.711      47.174\n",
       "C(category)[T.fashion_underwear_beach]                   -18.1694     25.397     -0.715      0.474     -67.948      31.609\n",
       "C(category)[T.fixed_telephony]                           -55.9396     21.108     -2.650      0.008     -97.312     -14.568\n",
       "C(category)[T.flowers]                                   -27.5432     40.688     -0.677      0.498    -107.294      52.208\n",
       "C(category)[T.food]                                        1.0302     22.754      0.045      0.964     -43.569      45.629\n",
       "C(category)[T.food_drink]                                -19.2739     21.639     -0.891      0.373     -61.687      23.139\n",
       "C(category)[T.furniture_bedroom]                           1.9666     26.887      0.073      0.942     -50.733      54.666\n",
       "C(category)[T.furniture_decor]                           -12.1163     16.739     -0.724      0.469     -44.926      20.693\n",
       "C(category)[T.furniture_living_room]                       2.5917     20.022      0.129      0.897     -36.653      41.836\n",
       "C(category)[T.furniture_mattress_and_upholstery]          -6.6822     46.997     -0.142      0.887     -98.798      85.433\n",
       "C(category)[T.garden_tools]                               23.0679     17.305      1.333      0.183     -10.850      56.986\n",
       "C(category)[T.health_beauty]                              14.7928     16.756      0.883      0.377     -18.051      47.636\n",
       "C(category)[T.home_appliances]                           -14.7169     18.060     -0.815      0.415     -50.115      20.681\n",
       "C(category)[T.home_appliances_2]                          70.5178     22.196      3.177      0.001      27.012     114.024\n",
       "C(category)[T.home_comfort_2]                            -18.8766     64.379     -0.293      0.769    -145.063     107.310\n",
       "C(category)[T.home_confort]                                9.7257     21.220      0.458      0.647     -31.867      51.318\n",
       "C(category)[T.home_construction]                          -4.3974     18.981     -0.232      0.817     -41.601      32.806\n",
       "C(category)[T.housewares]                                -11.1090     16.769     -0.662      0.508     -43.976      21.758\n",
       "C(category)[T.industry_commerce_and_business]             19.5835     23.699      0.826      0.409     -26.867      66.034\n",
       "C(category)[T.kitchen_dining_laundry_garden_furniture]     3.4608     22.032      0.157      0.875     -39.724      46.645\n",
       "C(category)[T.la_cuisine]                                -14.2521     46.997     -0.303      0.762    -106.368      77.863\n",
       "C(category)[T.luggage_accessories]                         4.2090     18.128      0.232      0.816     -31.323      39.741\n",
       "C(category)[T.market_place]                               -9.3994     21.639     -0.434      0.664     -51.812      33.013\n",
       "C(category)[T.music]                                     -14.8737     31.460     -0.473      0.636     -76.536      46.789\n",
       "C(category)[T.musical_instruments]                        21.9064     18.509      1.184      0.237     -14.371      58.184\n",
       "C(category)[T.office_furniture]                           40.0216     18.369      2.179      0.029       4.017      76.026\n",
       "C(category)[T.party_supplies]                            -25.4341     32.359     -0.786      0.432     -88.858      37.990\n",
       "C(category)[T.perfumery]                                   8.5861     17.184      0.500      0.617     -25.096      42.268\n",
       "C(category)[T.pet_shop]                                   -7.2742     17.321     -0.420      0.675     -41.224      26.676\n",
       "C(category)[T.security_and_services]                     -34.9175     99.764     -0.350      0.726    -230.458     160.623\n",
       "C(category)[T.signaling_and_security]                    -16.0620     22.032     -0.729      0.466     -59.246      27.122\n",
       "C(category)[T.small_appliances]                           37.9245     18.992      1.997      0.046       0.700      75.149\n",
       "C(category)[T.small_appliances_home_oven_and_coffee]     113.5099     30.299      3.746      0.000      54.123     172.897\n",
       "C(category)[T.sports_leisure]                             -5.7933     16.720     -0.346      0.729     -38.566      26.979\n",
       "C(category)[T.stationery]                                 -9.8094     17.205     -0.570      0.569     -43.531      23.913\n",
       "C(category)[T.tablets_printing_image]                     46.2057     51.891      0.890      0.373     -55.503     147.915\n",
       "C(category)[T.telephony]                                 -10.0679     17.036     -0.591      0.555     -43.459      23.323\n",
       "C(category)[T.toys]                                       -3.4865     16.937     -0.206      0.837     -36.683      29.710\n",
       "C(category)[T.watches_gifts]                              49.8334     16.960      2.938      0.003      16.591      83.076\n",
       "==============================================================================\n",
       "Omnibus:                    59516.357   Durbin-Watson:                   1.997\n",
       "Prob(Omnibus):                  0.000   Jarque-Bera (JB):        313344800.239\n",
       "Skew:                          14.094   Prob(JB):                         0.00\n",
       "Kurtosis:                     490.920   Cond. No.                         194.\n",
       "==============================================================================\n",
       "\n",
       "Notes:\n",
       "[1] Standard Errors assume that the covariance matrix of the errors is correctly specified.\n",
       "\"\"\""
      ]
     },
     "execution_count": 90,
     "metadata": {},
     "output_type": "execute_result"
    }
   ],
   "source": [
    "model = smf.ols(formula = 'weighted_revenues ~ C(category)', data=products_scaled).fit()\n",
    "model.summary()"
   ]
  },
  {
   "cell_type": "code",
   "execution_count": 91,
   "id": "2b0f8e95",
   "metadata": {
    "collapsed": true,
    "hidden": true
   },
   "outputs": [
    {
     "data": {
      "text/html": [
       "<div>\n",
       "<style scoped>\n",
       "    .dataframe tbody tr th:only-of-type {\n",
       "        vertical-align: middle;\n",
       "    }\n",
       "\n",
       "    .dataframe tbody tr th {\n",
       "        vertical-align: top;\n",
       "    }\n",
       "\n",
       "    .dataframe thead th {\n",
       "        text-align: right;\n",
       "    }\n",
       "</style>\n",
       "<table border=\"1\" class=\"dataframe\">\n",
       "  <thead>\n",
       "    <tr style=\"text-align: right;\">\n",
       "      <th></th>\n",
       "      <th>0</th>\n",
       "    </tr>\n",
       "  </thead>\n",
       "  <tbody>\n",
       "    <tr>\n",
       "      <th>C(category)[T.fixed_telephony]</th>\n",
       "      <td>-55.939559</td>\n",
       "    </tr>\n",
       "    <tr>\n",
       "      <th>C(category)[T.security_and_services]</th>\n",
       "      <td>-34.917514</td>\n",
       "    </tr>\n",
       "    <tr>\n",
       "      <th>C(category)[T.dvds_blu_ray]</th>\n",
       "      <td>-29.281014</td>\n",
       "    </tr>\n",
       "    <tr>\n",
       "      <th>C(category)[T.fashion_male_clothing]</th>\n",
       "      <td>-29.012548</td>\n",
       "    </tr>\n",
       "    <tr>\n",
       "      <th>C(category)[T.arts_and_craftmanship]</th>\n",
       "      <td>-28.065383</td>\n",
       "    </tr>\n",
       "    <tr>\n",
       "      <th>...</th>\n",
       "      <td>...</td>\n",
       "    </tr>\n",
       "    <tr>\n",
       "      <th>C(category)[T.audio]</th>\n",
       "      <td>46.393382</td>\n",
       "    </tr>\n",
       "    <tr>\n",
       "      <th>C(category)[T.watches_gifts]</th>\n",
       "      <td>49.833353</td>\n",
       "    </tr>\n",
       "    <tr>\n",
       "      <th>C(category)[T.home_appliances_2]</th>\n",
       "      <td>70.517850</td>\n",
       "    </tr>\n",
       "    <tr>\n",
       "      <th>C(category)[T.small_appliances_home_oven_and_coffee]</th>\n",
       "      <td>113.509919</td>\n",
       "    </tr>\n",
       "    <tr>\n",
       "      <th>C(category)[T.computers]</th>\n",
       "      <td>697.173607</td>\n",
       "    </tr>\n",
       "  </tbody>\n",
       "</table>\n",
       "<p>71 rows × 1 columns</p>\n",
       "</div>"
      ],
      "text/plain": [
       "                                                             0\n",
       "C(category)[T.fixed_telephony]                      -55.939559\n",
       "C(category)[T.security_and_services]                -34.917514\n",
       "C(category)[T.dvds_blu_ray]                         -29.281014\n",
       "C(category)[T.fashion_male_clothing]                -29.012548\n",
       "C(category)[T.arts_and_craftmanship]                -28.065383\n",
       "...                                                        ...\n",
       "C(category)[T.audio]                                 46.393382\n",
       "C(category)[T.watches_gifts]                         49.833353\n",
       "C(category)[T.home_appliances_2]                     70.517850\n",
       "C(category)[T.small_appliances_home_oven_and_co...  113.509919\n",
       "C(category)[T.computers]                            697.173607\n",
       "\n",
       "[71 rows x 1 columns]"
      ]
     },
     "execution_count": 91,
     "metadata": {},
     "output_type": "execute_result"
    }
   ],
   "source": [
    "pd.DataFrame(model.params.sort_values())"
   ]
  },
  {
   "cell_type": "markdown",
   "id": "d5ff5e31",
   "metadata": {
    "hidden": true
   },
   "source": [
    "> It seems that some products categories have a bad impact on sales. Top 5 worst products categories are : fixed_telephony, security_and_services, dvds_blu_ray, fashion_male_clothing, arts_and_craftmanship.\n",
    "\n",
    "> On the contrary some categories seem to have a good impact on wheighted sales : computers, small_appliances_home_oven_and_coffee, home_appliances_2, watches_gifts, audio. Olist could make a marketting effort to increase these sales."
   ]
  },
  {
   "cell_type": "markdown",
   "id": "5b368ee8",
   "metadata": {
    "hidden": true
   },
   "source": [
    "#### Linear regression of sales on products categories, price and review_score"
   ]
  },
  {
   "cell_type": "code",
   "execution_count": 97,
   "id": "37f58199",
   "metadata": {
    "collapsed": true,
    "hidden": true
   },
   "outputs": [
    {
     "data": {
      "text/html": [
       "<table class=\"simpletable\">\n",
       "<caption>OLS Regression Results</caption>\n",
       "<tr>\n",
       "  <th>Dep. Variable:</th>          <td>sales</td>      <th>  R-squared:         </th>  <td>   0.115</td>  \n",
       "</tr>\n",
       "<tr>\n",
       "  <th>Model:</th>                   <td>OLS</td>       <th>  Adj. R-squared:    </th>  <td>   0.112</td>  \n",
       "</tr>\n",
       "<tr>\n",
       "  <th>Method:</th>             <td>Least Squares</td>  <th>  F-statistic:       </th>  <td>   55.65</td>  \n",
       "</tr>\n",
       "<tr>\n",
       "  <th>Date:</th>             <td>Thu, 02 Nov 2023</td> <th>  Prob (F-statistic):</th>   <td>  0.00</td>   \n",
       "</tr>\n",
       "<tr>\n",
       "  <th>Time:</th>                 <td>16:39:06</td>     <th>  Log-Likelihood:    </th> <td>-2.7061e+05</td>\n",
       "</tr>\n",
       "<tr>\n",
       "  <th>No. Observations:</th>      <td> 31482</td>      <th>  AIC:               </th>  <td>5.414e+05</td> \n",
       "</tr>\n",
       "<tr>\n",
       "  <th>Df Residuals:</th>          <td> 31408</td>      <th>  BIC:               </th>  <td>5.420e+05</td> \n",
       "</tr>\n",
       "<tr>\n",
       "  <th>Df Model:</th>              <td>    73</td>      <th>                     </th>      <td> </td>     \n",
       "</tr>\n",
       "<tr>\n",
       "  <th>Covariance Type:</th>      <td>nonrobust</td>    <th>                     </th>      <td> </td>     \n",
       "</tr>\n",
       "</table>\n",
       "<table class=\"simpletable\">\n",
       "<tr>\n",
       "                             <td></td>                               <th>coef</th>     <th>std err</th>      <th>t</th>      <th>P>|t|</th>  <th>[0.025</th>    <th>0.975]</th>  \n",
       "</tr>\n",
       "<tr>\n",
       "  <th>Intercept</th>                                              <td>  536.1785</td> <td>  155.801</td> <td>    3.441</td> <td> 0.001</td> <td>  230.802</td> <td>  841.555</td>\n",
       "</tr>\n",
       "<tr>\n",
       "  <th>C(category)[T.air_conditioning]</th>                        <td> -183.6682</td> <td>  196.326</td> <td>   -0.936</td> <td> 0.350</td> <td> -568.474</td> <td>  201.138</td>\n",
       "</tr>\n",
       "<tr>\n",
       "  <th>C(category)[T.art]</th>                                     <td> -161.5291</td> <td>  240.638</td> <td>   -0.671</td> <td> 0.502</td> <td> -633.189</td> <td>  310.131</td>\n",
       "</tr>\n",
       "<tr>\n",
       "  <th>C(category)[T.arts_and_craftmanship]</th>                   <td> -289.2866</td> <td>  338.689</td> <td>   -0.854</td> <td> 0.393</td> <td> -953.131</td> <td>  374.558</td>\n",
       "</tr>\n",
       "<tr>\n",
       "  <th>C(category)[T.audio]</th>                                   <td>  376.2030</td> <td>  232.153</td> <td>    1.620</td> <td> 0.105</td> <td>  -78.826</td> <td>  831.232</td>\n",
       "</tr>\n",
       "<tr>\n",
       "  <th>C(category)[T.auto]</th>                                    <td> -234.3718</td> <td>  158.744</td> <td>   -1.476</td> <td> 0.140</td> <td> -545.517</td> <td>   76.773</td>\n",
       "</tr>\n",
       "<tr>\n",
       "  <th>C(category)[T.baby]</th>                                    <td> -113.3312</td> <td>  161.860</td> <td>   -0.700</td> <td> 0.484</td> <td> -430.583</td> <td>  203.921</td>\n",
       "</tr>\n",
       "<tr>\n",
       "  <th>C(category)[T.bed_bath_table]</th>                          <td> -133.3540</td> <td>  157.716</td> <td>   -0.846</td> <td> 0.398</td> <td> -442.484</td> <td>  175.776</td>\n",
       "</tr>\n",
       "<tr>\n",
       "  <th>C(category)[T.books_general_interest]</th>                  <td> -176.0210</td> <td>  180.669</td> <td>   -0.974</td> <td> 0.330</td> <td> -530.139</td> <td>  178.097</td>\n",
       "</tr>\n",
       "<tr>\n",
       "  <th>C(category)[T.books_imported]</th>                          <td> -287.1546</td> <td>  285.562</td> <td>   -1.006</td> <td> 0.315</td> <td> -846.866</td> <td>  272.557</td>\n",
       "</tr>\n",
       "<tr>\n",
       "  <th>C(category)[T.books_technical]</th>                         <td> -259.9907</td> <td>  195.970</td> <td>   -1.327</td> <td> 0.185</td> <td> -644.100</td> <td>  124.119</td>\n",
       "</tr>\n",
       "<tr>\n",
       "  <th>C(category)[T.cds_dvds_musicals]</th>                       <td>  347.6003</td> <td> 1319.559</td> <td>    0.263</td> <td> 0.792</td> <td>-2238.787</td> <td> 2933.987</td>\n",
       "</tr>\n",
       "<tr>\n",
       "  <th>C(category)[T.christmas_supplies]</th>                      <td> -258.8892</td> <td>  228.112</td> <td>   -1.135</td> <td> 0.256</td> <td> -705.999</td> <td>  188.220</td>\n",
       "</tr>\n",
       "<tr>\n",
       "  <th>C(category)[T.cine_photo]</th>                              <td> -280.2350</td> <td>  300.503</td> <td>   -0.933</td> <td> 0.351</td> <td> -869.232</td> <td>  308.762</td>\n",
       "</tr>\n",
       "<tr>\n",
       "  <th>C(category)[T.computers]</th>                               <td> 5271.3207</td> <td>  289.724</td> <td>   18.194</td> <td> 0.000</td> <td> 4703.450</td> <td> 5839.191</td>\n",
       "</tr>\n",
       "<tr>\n",
       "  <th>C(category)[T.computers_accessories]</th>                   <td>    8.5949</td> <td>  159.198</td> <td>    0.054</td> <td> 0.957</td> <td> -303.440</td> <td>  320.630</td>\n",
       "</tr>\n",
       "<tr>\n",
       "  <th>C(category)[T.consoles_games]</th>                          <td>  -83.1865</td> <td>  173.223</td> <td>   -0.480</td> <td> 0.631</td> <td> -422.711</td> <td>  256.338</td>\n",
       "</tr>\n",
       "<tr>\n",
       "  <th>C(category)[T.construction_tools_construction]</th>         <td> -217.6811</td> <td>  169.216</td> <td>   -1.286</td> <td> 0.198</td> <td> -549.351</td> <td>  113.989</td>\n",
       "</tr>\n",
       "<tr>\n",
       "  <th>C(category)[T.construction_tools_lights]</th>               <td>    1.4968</td> <td>  216.483</td> <td>    0.007</td> <td> 0.994</td> <td> -422.819</td> <td>  425.813</td>\n",
       "</tr>\n",
       "<tr>\n",
       "  <th>C(category)[T.construction_tools_safety]</th>               <td> -305.1135</td> <td>  209.089</td> <td>   -1.459</td> <td> 0.145</td> <td> -714.937</td> <td>  104.710</td>\n",
       "</tr>\n",
       "<tr>\n",
       "  <th>C(category)[T.cool_stuff]</th>                              <td>  170.9885</td> <td>  162.762</td> <td>    1.051</td> <td> 0.293</td> <td> -148.032</td> <td>  490.009</td>\n",
       "</tr>\n",
       "<tr>\n",
       "  <th>C(category)[T.costruction_tools_garden]</th>                <td> -184.6949</td> <td>  210.371</td> <td>   -0.878</td> <td> 0.380</td> <td> -597.031</td> <td>  227.641</td>\n",
       "</tr>\n",
       "<tr>\n",
       "  <th>C(category)[T.costruction_tools_tools]</th>                 <td> -181.9453</td> <td>  261.302</td> <td>   -0.696</td> <td> 0.486</td> <td> -694.108</td> <td>  330.217</td>\n",
       "</tr>\n",
       "<tr>\n",
       "  <th>C(category)[T.diapers_and_hygiene]</th>                     <td> -259.6689</td> <td>  424.750</td> <td>   -0.611</td> <td> 0.541</td> <td>-1092.196</td> <td>  572.858</td>\n",
       "</tr>\n",
       "<tr>\n",
       "  <th>C(category)[T.drinks]</th>                                  <td> -145.0929</td> <td>  213.954</td> <td>   -0.678</td> <td> 0.498</td> <td> -564.452</td> <td>  274.266</td>\n",
       "</tr>\n",
       "<tr>\n",
       "  <th>C(category)[T.dvds_blu_ray]</th>                            <td> -317.1313</td> <td>  248.283</td> <td>   -1.277</td> <td> 0.202</td> <td> -803.776</td> <td>  169.514</td>\n",
       "</tr>\n",
       "<tr>\n",
       "  <th>C(category)[T.electronics]</th>                             <td> -155.1898</td> <td>  166.408</td> <td>   -0.933</td> <td> 0.351</td> <td> -481.356</td> <td>  170.976</td>\n",
       "</tr>\n",
       "<tr>\n",
       "  <th>C(category)[T.fashio_female_clothing]</th>                  <td> -321.3121</td> <td>  300.615</td> <td>   -1.069</td> <td> 0.285</td> <td> -910.530</td> <td>  267.906</td>\n",
       "</tr>\n",
       "<tr>\n",
       "  <th>C(category)[T.fashion_bags_accessories]</th>                <td> -257.2060</td> <td>  162.447</td> <td>   -1.583</td> <td> 0.113</td> <td> -575.608</td> <td>   61.196</td>\n",
       "</tr>\n",
       "<tr>\n",
       "  <th>C(category)[T.fashion_childrens_clothes]</th>               <td> -294.9262</td> <td>  673.480</td> <td>   -0.438</td> <td> 0.661</td> <td>-1614.973</td> <td> 1025.121</td>\n",
       "</tr>\n",
       "<tr>\n",
       "  <th>C(category)[T.fashion_male_clothing]</th>                   <td> -334.0431</td> <td>  209.334</td> <td>   -1.596</td> <td> 0.111</td> <td> -744.345</td> <td>   76.259</td>\n",
       "</tr>\n",
       "<tr>\n",
       "  <th>C(category)[T.fashion_shoes]</th>                           <td> -314.9558</td> <td>  185.908</td> <td>   -1.694</td> <td> 0.090</td> <td> -679.342</td> <td>   49.431</td>\n",
       "</tr>\n",
       "<tr>\n",
       "  <th>C(category)[T.fashion_sport]</th>                           <td> -311.8516</td> <td>  338.653</td> <td>   -0.921</td> <td> 0.357</td> <td> -975.624</td> <td>  351.921</td>\n",
       "</tr>\n",
       "<tr>\n",
       "  <th>C(category)[T.fashion_underwear_beach]</th>                 <td> -266.4194</td> <td>  239.449</td> <td>   -1.113</td> <td> 0.266</td> <td> -735.748</td> <td>  202.909</td>\n",
       "</tr>\n",
       "<tr>\n",
       "  <th>C(category)[T.fixed_telephony]</th>                         <td> -125.9255</td> <td>  198.943</td> <td>   -0.633</td> <td> 0.527</td> <td> -515.862</td> <td>  264.011</td>\n",
       "</tr>\n",
       "<tr>\n",
       "  <th>C(category)[T.flowers]</th>                                 <td> -280.3532</td> <td>  383.390</td> <td>   -0.731</td> <td> 0.465</td> <td>-1031.814</td> <td>  471.107</td>\n",
       "</tr>\n",
       "<tr>\n",
       "  <th>C(category)[T.food]</th>                                    <td>  -38.0578</td> <td>  214.614</td> <td>   -0.177</td> <td> 0.859</td> <td> -458.710</td> <td>  382.595</td>\n",
       "</tr>\n",
       "<tr>\n",
       "  <th>C(category)[T.food_drink]</th>                              <td> -232.2175</td> <td>  204.171</td> <td>   -1.137</td> <td> 0.255</td> <td> -632.401</td> <td>  167.966</td>\n",
       "</tr>\n",
       "<tr>\n",
       "  <th>C(category)[T.furniture_bedroom]</th>                       <td> -142.2451</td> <td>  253.398</td> <td>   -0.561</td> <td> 0.575</td> <td> -638.915</td> <td>  354.425</td>\n",
       "</tr>\n",
       "<tr>\n",
       "  <th>C(category)[T.furniture_decor]</th>                         <td> -196.9789</td> <td>  158.019</td> <td>   -1.247</td> <td> 0.213</td> <td> -506.703</td> <td>  112.745</td>\n",
       "</tr>\n",
       "<tr>\n",
       "  <th>C(category)[T.furniture_living_room]</th>                   <td> -132.8050</td> <td>  188.782</td> <td>   -0.703</td> <td> 0.482</td> <td> -502.825</td> <td>  237.215</td>\n",
       "</tr>\n",
       "<tr>\n",
       "  <th>C(category)[T.furniture_mattress_and_upholstery]</th>       <td> -214.6828</td> <td>  442.696</td> <td>   -0.485</td> <td> 0.628</td> <td>-1082.385</td> <td>  653.019</td>\n",
       "</tr>\n",
       "<tr>\n",
       "  <th>C(category)[T.garden_tools]</th>                            <td>    1.6155</td> <td>  163.122</td> <td>    0.010</td> <td> 0.992</td> <td> -318.111</td> <td>  321.342</td>\n",
       "</tr>\n",
       "<tr>\n",
       "  <th>C(category)[T.health_beauty]</th>                           <td>  -14.0351</td> <td>  158.091</td> <td>   -0.089</td> <td> 0.929</td> <td> -323.899</td> <td>  295.829</td>\n",
       "</tr>\n",
       "<tr>\n",
       "  <th>C(category)[T.home_appliances]</th>                         <td> -242.2420</td> <td>  170.428</td> <td>   -1.421</td> <td> 0.155</td> <td> -576.288</td> <td>   91.804</td>\n",
       "</tr>\n",
       "<tr>\n",
       "  <th>C(category)[T.home_appliances_2]</th>                       <td>  163.7705</td> <td>  209.049</td> <td>    0.783</td> <td> 0.433</td> <td> -245.973</td> <td>  573.514</td>\n",
       "</tr>\n",
       "<tr>\n",
       "  <th>C(category)[T.home_comfort_2]</th>                          <td> -285.4766</td> <td>  606.392</td> <td>   -0.471</td> <td> 0.638</td> <td>-1474.028</td> <td>  903.075</td>\n",
       "</tr>\n",
       "<tr>\n",
       "  <th>C(category)[T.home_confort]</th>                            <td>  -71.8951</td> <td>  200.016</td> <td>   -0.359</td> <td> 0.719</td> <td> -463.935</td> <td>  320.145</td>\n",
       "</tr>\n",
       "<tr>\n",
       "  <th>C(category)[T.home_construction]</th>                       <td> -199.0647</td> <td>  178.976</td> <td>   -1.112</td> <td> 0.266</td> <td> -549.864</td> <td>  151.735</td>\n",
       "</tr>\n",
       "<tr>\n",
       "  <th>C(category)[T.housewares]</th>                              <td> -183.4270</td> <td>  158.294</td> <td>   -1.159</td> <td> 0.247</td> <td> -493.690</td> <td>  126.836</td>\n",
       "</tr>\n",
       "<tr>\n",
       "  <th>C(category)[T.industry_commerce_and_business]</th>          <td> -159.4191</td> <td>  223.239</td> <td>   -0.714</td> <td> 0.475</td> <td> -596.977</td> <td>  278.138</td>\n",
       "</tr>\n",
       "<tr>\n",
       "  <th>C(category)[T.kitchen_dining_laundry_garden_furniture]</th> <td> -137.9456</td> <td>  207.610</td> <td>   -0.664</td> <td> 0.506</td> <td> -544.870</td> <td>  268.979</td>\n",
       "</tr>\n",
       "<tr>\n",
       "  <th>C(category)[T.la_cuisine]</th>                              <td> -328.7193</td> <td>  442.677</td> <td>   -0.743</td> <td> 0.458</td> <td>-1196.384</td> <td>  538.946</td>\n",
       "</tr>\n",
       "<tr>\n",
       "  <th>C(category)[T.luggage_accessories]</th>                     <td> -125.2346</td> <td>  170.997</td> <td>   -0.732</td> <td> 0.464</td> <td> -460.396</td> <td>  209.926</td>\n",
       "</tr>\n",
       "<tr>\n",
       "  <th>C(category)[T.market_place]</th>                            <td> -205.2519</td> <td>  204.050</td> <td>   -1.006</td> <td> 0.314</td> <td> -605.199</td> <td>  194.695</td>\n",
       "</tr>\n",
       "<tr>\n",
       "  <th>C(category)[T.music]</th>                                   <td> -316.8412</td> <td>  296.419</td> <td>   -1.069</td> <td> 0.285</td> <td> -897.834</td> <td>  264.151</td>\n",
       "</tr>\n",
       "<tr>\n",
       "  <th>C(category)[T.musical_instruments]</th>                     <td> -162.7791</td> <td>  174.364</td> <td>   -0.934</td> <td> 0.351</td> <td> -504.540</td> <td>  178.981</td>\n",
       "</tr>\n",
       "<tr>\n",
       "  <th>C(category)[T.office_furniture]</th>                        <td>  246.6238</td> <td>  173.250</td> <td>    1.424</td> <td> 0.155</td> <td>  -92.953</td> <td>  586.200</td>\n",
       "</tr>\n",
       "<tr>\n",
       "  <th>C(category)[T.party_supplies]</th>                          <td> -314.2662</td> <td>  304.895</td> <td>   -1.031</td> <td> 0.303</td> <td> -911.873</td> <td>  283.341</td>\n",
       "</tr>\n",
       "<tr>\n",
       "  <th>C(category)[T.perfumery]</th>                               <td>  -33.7872</td> <td>  162.153</td> <td>   -0.208</td> <td> 0.835</td> <td> -351.613</td> <td>  284.038</td>\n",
       "</tr>\n",
       "<tr>\n",
       "  <th>C(category)[T.pet_shop]</th>                                <td> -201.3165</td> <td>  163.435</td> <td>   -1.232</td> <td> 0.218</td> <td> -521.655</td> <td>  119.022</td>\n",
       "</tr>\n",
       "<tr>\n",
       "  <th>C(category)[T.security_and_services]</th>                   <td> -408.4294</td> <td>  939.573</td> <td>   -0.435</td> <td> 0.664</td> <td>-2250.030</td> <td> 1433.171</td>\n",
       "</tr>\n",
       "<tr>\n",
       "  <th>C(category)[T.signaling_and_security]</th>                  <td> -238.4357</td> <td>  207.756</td> <td>   -1.148</td> <td> 0.251</td> <td> -645.646</td> <td>  168.774</td>\n",
       "</tr>\n",
       "<tr>\n",
       "  <th>C(category)[T.small_appliances]</th>                        <td>   -6.5783</td> <td>  178.877</td> <td>   -0.037</td> <td> 0.971</td> <td> -357.184</td> <td>  344.028</td>\n",
       "</tr>\n",
       "<tr>\n",
       "  <th>C(category)[T.small_appliances_home_oven_and_coffee]</th>   <td>  638.2333</td> <td>  285.347</td> <td>    2.237</td> <td> 0.025</td> <td>   78.943</td> <td> 1197.524</td>\n",
       "</tr>\n",
       "<tr>\n",
       "  <th>C(category)[T.sports_leisure]</th>                          <td> -172.1266</td> <td>  157.774</td> <td>   -1.091</td> <td> 0.275</td> <td> -481.369</td> <td>  137.116</td>\n",
       "</tr>\n",
       "<tr>\n",
       "  <th>C(category)[T.stationery]</th>                              <td> -191.7629</td> <td>  162.403</td> <td>   -1.181</td> <td> 0.238</td> <td> -510.078</td> <td>  126.552</td>\n",
       "</tr>\n",
       "<tr>\n",
       "  <th>C(category)[T.tablets_printing_image]</th>                  <td>  401.7866</td> <td>  488.813</td> <td>    0.822</td> <td> 0.411</td> <td> -556.306</td> <td> 1359.879</td>\n",
       "</tr>\n",
       "<tr>\n",
       "  <th>C(category)[T.telephony]</th>                               <td> -150.0242</td> <td>  160.841</td> <td>   -0.933</td> <td> 0.351</td> <td> -465.278</td> <td>  165.230</td>\n",
       "</tr>\n",
       "<tr>\n",
       "  <th>C(category)[T.toys]</th>                                    <td> -163.8848</td> <td>  159.809</td> <td>   -1.026</td> <td> 0.305</td> <td> -477.118</td> <td>  149.348</td>\n",
       "</tr>\n",
       "<tr>\n",
       "  <th>C(category)[T.watches_gifts]</th>                           <td>   83.9804</td> <td>  159.773</td> <td>    0.526</td> <td> 0.599</td> <td> -229.181</td> <td>  397.142</td>\n",
       "</tr>\n",
       "<tr>\n",
       "  <th>review_score</th>                                           <td>   -5.3240</td> <td>    7.760</td> <td>   -0.686</td> <td> 0.493</td> <td>  -20.535</td> <td>    9.887</td>\n",
       "</tr>\n",
       "<tr>\n",
       "  <th>price</th>                                                  <td>  385.8657</td> <td>    7.746</td> <td>   49.812</td> <td> 0.000</td> <td>  370.682</td> <td>  401.049</td>\n",
       "</tr>\n",
       "<tr>\n",
       "  <th>wait_time</th>                                              <td>   30.8727</td> <td>    7.791</td> <td>    3.962</td> <td> 0.000</td> <td>   15.601</td> <td>   46.144</td>\n",
       "</tr>\n",
       "</table>\n",
       "<table class=\"simpletable\">\n",
       "<tr>\n",
       "  <th>Omnibus:</th>       <td>67726.779</td> <th>  Durbin-Watson:     </th>   <td>   1.995</td>   \n",
       "</tr>\n",
       "<tr>\n",
       "  <th>Prob(Omnibus):</th>  <td> 0.000</td>   <th>  Jarque-Bera (JB):  </th> <td>443996137.567</td>\n",
       "</tr>\n",
       "<tr>\n",
       "  <th>Skew:</th>           <td>19.153</td>   <th>  Prob(JB):          </th>   <td>    0.00</td>   \n",
       "</tr>\n",
       "<tr>\n",
       "  <th>Kurtosis:</th>       <td>583.525</td>  <th>  Cond. No.          </th>   <td>    216.</td>   \n",
       "</tr>\n",
       "</table><br/><br/>Notes:<br/>[1] Standard Errors assume that the covariance matrix of the errors is correctly specified."
      ],
      "text/plain": [
       "<class 'statsmodels.iolib.summary.Summary'>\n",
       "\"\"\"\n",
       "                            OLS Regression Results                            \n",
       "==============================================================================\n",
       "Dep. Variable:                  sales   R-squared:                       0.115\n",
       "Model:                            OLS   Adj. R-squared:                  0.112\n",
       "Method:                 Least Squares   F-statistic:                     55.65\n",
       "Date:                Thu, 02 Nov 2023   Prob (F-statistic):               0.00\n",
       "Time:                        16:39:06   Log-Likelihood:            -2.7061e+05\n",
       "No. Observations:               31482   AIC:                         5.414e+05\n",
       "Df Residuals:                   31408   BIC:                         5.420e+05\n",
       "Df Model:                          73                                         \n",
       "Covariance Type:            nonrobust                                         \n",
       "==========================================================================================================================\n",
       "                                                             coef    std err          t      P>|t|      [0.025      0.975]\n",
       "--------------------------------------------------------------------------------------------------------------------------\n",
       "Intercept                                                536.1785    155.801      3.441      0.001     230.802     841.555\n",
       "C(category)[T.air_conditioning]                         -183.6682    196.326     -0.936      0.350    -568.474     201.138\n",
       "C(category)[T.art]                                      -161.5291    240.638     -0.671      0.502    -633.189     310.131\n",
       "C(category)[T.arts_and_craftmanship]                    -289.2866    338.689     -0.854      0.393    -953.131     374.558\n",
       "C(category)[T.audio]                                     376.2030    232.153      1.620      0.105     -78.826     831.232\n",
       "C(category)[T.auto]                                     -234.3718    158.744     -1.476      0.140    -545.517      76.773\n",
       "C(category)[T.baby]                                     -113.3312    161.860     -0.700      0.484    -430.583     203.921\n",
       "C(category)[T.bed_bath_table]                           -133.3540    157.716     -0.846      0.398    -442.484     175.776\n",
       "C(category)[T.books_general_interest]                   -176.0210    180.669     -0.974      0.330    -530.139     178.097\n",
       "C(category)[T.books_imported]                           -287.1546    285.562     -1.006      0.315    -846.866     272.557\n",
       "C(category)[T.books_technical]                          -259.9907    195.970     -1.327      0.185    -644.100     124.119\n",
       "C(category)[T.cds_dvds_musicals]                         347.6003   1319.559      0.263      0.792   -2238.787    2933.987\n",
       "C(category)[T.christmas_supplies]                       -258.8892    228.112     -1.135      0.256    -705.999     188.220\n",
       "C(category)[T.cine_photo]                               -280.2350    300.503     -0.933      0.351    -869.232     308.762\n",
       "C(category)[T.computers]                                5271.3207    289.724     18.194      0.000    4703.450    5839.191\n",
       "C(category)[T.computers_accessories]                       8.5949    159.198      0.054      0.957    -303.440     320.630\n",
       "C(category)[T.consoles_games]                            -83.1865    173.223     -0.480      0.631    -422.711     256.338\n",
       "C(category)[T.construction_tools_construction]          -217.6811    169.216     -1.286      0.198    -549.351     113.989\n",
       "C(category)[T.construction_tools_lights]                   1.4968    216.483      0.007      0.994    -422.819     425.813\n",
       "C(category)[T.construction_tools_safety]                -305.1135    209.089     -1.459      0.145    -714.937     104.710\n",
       "C(category)[T.cool_stuff]                                170.9885    162.762      1.051      0.293    -148.032     490.009\n",
       "C(category)[T.costruction_tools_garden]                 -184.6949    210.371     -0.878      0.380    -597.031     227.641\n",
       "C(category)[T.costruction_tools_tools]                  -181.9453    261.302     -0.696      0.486    -694.108     330.217\n",
       "C(category)[T.diapers_and_hygiene]                      -259.6689    424.750     -0.611      0.541   -1092.196     572.858\n",
       "C(category)[T.drinks]                                   -145.0929    213.954     -0.678      0.498    -564.452     274.266\n",
       "C(category)[T.dvds_blu_ray]                             -317.1313    248.283     -1.277      0.202    -803.776     169.514\n",
       "C(category)[T.electronics]                              -155.1898    166.408     -0.933      0.351    -481.356     170.976\n",
       "C(category)[T.fashio_female_clothing]                   -321.3121    300.615     -1.069      0.285    -910.530     267.906\n",
       "C(category)[T.fashion_bags_accessories]                 -257.2060    162.447     -1.583      0.113    -575.608      61.196\n",
       "C(category)[T.fashion_childrens_clothes]                -294.9262    673.480     -0.438      0.661   -1614.973    1025.121\n",
       "C(category)[T.fashion_male_clothing]                    -334.0431    209.334     -1.596      0.111    -744.345      76.259\n",
       "C(category)[T.fashion_shoes]                            -314.9558    185.908     -1.694      0.090    -679.342      49.431\n",
       "C(category)[T.fashion_sport]                            -311.8516    338.653     -0.921      0.357    -975.624     351.921\n",
       "C(category)[T.fashion_underwear_beach]                  -266.4194    239.449     -1.113      0.266    -735.748     202.909\n",
       "C(category)[T.fixed_telephony]                          -125.9255    198.943     -0.633      0.527    -515.862     264.011\n",
       "C(category)[T.flowers]                                  -280.3532    383.390     -0.731      0.465   -1031.814     471.107\n",
       "C(category)[T.food]                                      -38.0578    214.614     -0.177      0.859    -458.710     382.595\n",
       "C(category)[T.food_drink]                               -232.2175    204.171     -1.137      0.255    -632.401     167.966\n",
       "C(category)[T.furniture_bedroom]                        -142.2451    253.398     -0.561      0.575    -638.915     354.425\n",
       "C(category)[T.furniture_decor]                          -196.9789    158.019     -1.247      0.213    -506.703     112.745\n",
       "C(category)[T.furniture_living_room]                    -132.8050    188.782     -0.703      0.482    -502.825     237.215\n",
       "C(category)[T.furniture_mattress_and_upholstery]        -214.6828    442.696     -0.485      0.628   -1082.385     653.019\n",
       "C(category)[T.garden_tools]                                1.6155    163.122      0.010      0.992    -318.111     321.342\n",
       "C(category)[T.health_beauty]                             -14.0351    158.091     -0.089      0.929    -323.899     295.829\n",
       "C(category)[T.home_appliances]                          -242.2420    170.428     -1.421      0.155    -576.288      91.804\n",
       "C(category)[T.home_appliances_2]                         163.7705    209.049      0.783      0.433    -245.973     573.514\n",
       "C(category)[T.home_comfort_2]                           -285.4766    606.392     -0.471      0.638   -1474.028     903.075\n",
       "C(category)[T.home_confort]                              -71.8951    200.016     -0.359      0.719    -463.935     320.145\n",
       "C(category)[T.home_construction]                        -199.0647    178.976     -1.112      0.266    -549.864     151.735\n",
       "C(category)[T.housewares]                               -183.4270    158.294     -1.159      0.247    -493.690     126.836\n",
       "C(category)[T.industry_commerce_and_business]           -159.4191    223.239     -0.714      0.475    -596.977     278.138\n",
       "C(category)[T.kitchen_dining_laundry_garden_furniture]  -137.9456    207.610     -0.664      0.506    -544.870     268.979\n",
       "C(category)[T.la_cuisine]                               -328.7193    442.677     -0.743      0.458   -1196.384     538.946\n",
       "C(category)[T.luggage_accessories]                      -125.2346    170.997     -0.732      0.464    -460.396     209.926\n",
       "C(category)[T.market_place]                             -205.2519    204.050     -1.006      0.314    -605.199     194.695\n",
       "C(category)[T.music]                                    -316.8412    296.419     -1.069      0.285    -897.834     264.151\n",
       "C(category)[T.musical_instruments]                      -162.7791    174.364     -0.934      0.351    -504.540     178.981\n",
       "C(category)[T.office_furniture]                          246.6238    173.250      1.424      0.155     -92.953     586.200\n",
       "C(category)[T.party_supplies]                           -314.2662    304.895     -1.031      0.303    -911.873     283.341\n",
       "C(category)[T.perfumery]                                 -33.7872    162.153     -0.208      0.835    -351.613     284.038\n",
       "C(category)[T.pet_shop]                                 -201.3165    163.435     -1.232      0.218    -521.655     119.022\n",
       "C(category)[T.security_and_services]                    -408.4294    939.573     -0.435      0.664   -2250.030    1433.171\n",
       "C(category)[T.signaling_and_security]                   -238.4357    207.756     -1.148      0.251    -645.646     168.774\n",
       "C(category)[T.small_appliances]                           -6.5783    178.877     -0.037      0.971    -357.184     344.028\n",
       "C(category)[T.small_appliances_home_oven_and_coffee]     638.2333    285.347      2.237      0.025      78.943    1197.524\n",
       "C(category)[T.sports_leisure]                           -172.1266    157.774     -1.091      0.275    -481.369     137.116\n",
       "C(category)[T.stationery]                               -191.7629    162.403     -1.181      0.238    -510.078     126.552\n",
       "C(category)[T.tablets_printing_image]                    401.7866    488.813      0.822      0.411    -556.306    1359.879\n",
       "C(category)[T.telephony]                                -150.0242    160.841     -0.933      0.351    -465.278     165.230\n",
       "C(category)[T.toys]                                     -163.8848    159.809     -1.026      0.305    -477.118     149.348\n",
       "C(category)[T.watches_gifts]                              83.9804    159.773      0.526      0.599    -229.181     397.142\n",
       "review_score                                              -5.3240      7.760     -0.686      0.493     -20.535       9.887\n",
       "price                                                    385.8657      7.746     49.812      0.000     370.682     401.049\n",
       "wait_time                                                 30.8727      7.791      3.962      0.000      15.601      46.144\n",
       "==============================================================================\n",
       "Omnibus:                    67726.779   Durbin-Watson:                   1.995\n",
       "Prob(Omnibus):                  0.000   Jarque-Bera (JB):        443996137.567\n",
       "Skew:                          19.153   Prob(JB):                         0.00\n",
       "Kurtosis:                     583.525   Cond. No.                         216.\n",
       "==============================================================================\n",
       "\n",
       "Notes:\n",
       "[1] Standard Errors assume that the covariance matrix of the errors is correctly specified.\n",
       "\"\"\""
      ]
     },
     "execution_count": 97,
     "metadata": {},
     "output_type": "execute_result"
    }
   ],
   "source": [
    "model2 = smf.ols(formula = 'sales ~ C(category) + review_score + price + wait_time', data=products_scaled).fit()\n",
    "model2.summary()"
   ]
  },
  {
   "cell_type": "code",
   "execution_count": 93,
   "id": "1eb6156d",
   "metadata": {
    "collapsed": true,
    "hidden": true
   },
   "outputs": [
    {
     "data": {
      "text/html": [
       "<div>\n",
       "<style scoped>\n",
       "    .dataframe tbody tr th:only-of-type {\n",
       "        vertical-align: middle;\n",
       "    }\n",
       "\n",
       "    .dataframe tbody tr th {\n",
       "        vertical-align: top;\n",
       "    }\n",
       "\n",
       "    .dataframe thead th {\n",
       "        text-align: right;\n",
       "    }\n",
       "</style>\n",
       "<table border=\"1\" class=\"dataframe\">\n",
       "  <thead>\n",
       "    <tr style=\"text-align: right;\">\n",
       "      <th></th>\n",
       "      <th>0</th>\n",
       "    </tr>\n",
       "  </thead>\n",
       "  <tbody>\n",
       "    <tr>\n",
       "      <th>C(category)[T.security_and_services]</th>\n",
       "      <td>-408.429361</td>\n",
       "    </tr>\n",
       "    <tr>\n",
       "      <th>C(category)[T.fashion_male_clothing]</th>\n",
       "      <td>-334.043092</td>\n",
       "    </tr>\n",
       "    <tr>\n",
       "      <th>C(category)[T.la_cuisine]</th>\n",
       "      <td>-328.719270</td>\n",
       "    </tr>\n",
       "    <tr>\n",
       "      <th>C(category)[T.fashio_female_clothing]</th>\n",
       "      <td>-321.312066</td>\n",
       "    </tr>\n",
       "    <tr>\n",
       "      <th>C(category)[T.dvds_blu_ray]</th>\n",
       "      <td>-317.131254</td>\n",
       "    </tr>\n",
       "    <tr>\n",
       "      <th>...</th>\n",
       "      <td>...</td>\n",
       "    </tr>\n",
       "    <tr>\n",
       "      <th>price</th>\n",
       "      <td>385.865657</td>\n",
       "    </tr>\n",
       "    <tr>\n",
       "      <th>C(category)[T.tablets_printing_image]</th>\n",
       "      <td>401.786583</td>\n",
       "    </tr>\n",
       "    <tr>\n",
       "      <th>Intercept</th>\n",
       "      <td>536.178520</td>\n",
       "    </tr>\n",
       "    <tr>\n",
       "      <th>C(category)[T.small_appliances_home_oven_and_coffee]</th>\n",
       "      <td>638.233301</td>\n",
       "    </tr>\n",
       "    <tr>\n",
       "      <th>C(category)[T.computers]</th>\n",
       "      <td>5271.320684</td>\n",
       "    </tr>\n",
       "  </tbody>\n",
       "</table>\n",
       "<p>74 rows × 1 columns</p>\n",
       "</div>"
      ],
      "text/plain": [
       "                                                              0\n",
       "C(category)[T.security_and_services]                -408.429361\n",
       "C(category)[T.fashion_male_clothing]                -334.043092\n",
       "C(category)[T.la_cuisine]                           -328.719270\n",
       "C(category)[T.fashio_female_clothing]               -321.312066\n",
       "C(category)[T.dvds_blu_ray]                         -317.131254\n",
       "...                                                         ...\n",
       "price                                                385.865657\n",
       "C(category)[T.tablets_printing_image]                401.786583\n",
       "Intercept                                            536.178520\n",
       "C(category)[T.small_appliances_home_oven_and_co...   638.233301\n",
       "C(category)[T.computers]                            5271.320684\n",
       "\n",
       "[74 rows x 1 columns]"
      ]
     },
     "execution_count": 93,
     "metadata": {},
     "output_type": "execute_result"
    }
   ],
   "source": [
    "pd.DataFrame(model2.params.sort_values())"
   ]
  },
  {
   "cell_type": "markdown",
   "id": "d38243b3",
   "metadata": {
    "hidden": true
   },
   "source": [
    "> It seems that some products categories have a bad impact on sales. Top 5 worst products categories are : security_and_services, fashion_male_clothing, la_cuisine, fashio_female_clothing, dvds_blu_ray."
   ]
  },
  {
   "cell_type": "markdown",
   "id": "3b2b077d",
   "metadata": {
    "hidden": true
   },
   "source": [
    "#### Linear regression of review scores on product categories, wait_time, price, sales"
   ]
  },
  {
   "cell_type": "code",
   "execution_count": 106,
   "id": "541535df",
   "metadata": {
    "collapsed": true,
    "hidden": true
   },
   "outputs": [
    {
     "data": {
      "text/html": [
       "<table class=\"simpletable\">\n",
       "<caption>OLS Regression Results</caption>\n",
       "<tr>\n",
       "  <th>Dep. Variable:</th>      <td>review_score</td>   <th>  R-squared:         </th> <td>   0.139</td> \n",
       "</tr>\n",
       "<tr>\n",
       "  <th>Model:</th>                   <td>OLS</td>       <th>  Adj. R-squared:    </th> <td>   0.137</td> \n",
       "</tr>\n",
       "<tr>\n",
       "  <th>Method:</th>             <td>Least Squares</td>  <th>  F-statistic:       </th> <td>   68.61</td> \n",
       "</tr>\n",
       "<tr>\n",
       "  <th>Date:</th>             <td>Thu, 02 Nov 2023</td> <th>  Prob (F-statistic):</th>  <td>  0.00</td>  \n",
       "</tr>\n",
       "<tr>\n",
       "  <th>Time:</th>                 <td>16:50:19</td>     <th>  Log-Likelihood:    </th> <td> -46660.</td> \n",
       "</tr>\n",
       "<tr>\n",
       "  <th>No. Observations:</th>      <td> 31482</td>      <th>  AIC:               </th> <td>9.347e+04</td>\n",
       "</tr>\n",
       "<tr>\n",
       "  <th>Df Residuals:</th>          <td> 31407</td>      <th>  BIC:               </th> <td>9.410e+04</td>\n",
       "</tr>\n",
       "<tr>\n",
       "  <th>Df Model:</th>              <td>    74</td>      <th>                     </th>     <td> </td>    \n",
       "</tr>\n",
       "<tr>\n",
       "  <th>Covariance Type:</th>      <td>nonrobust</td>    <th>                     </th>     <td> </td>    \n",
       "</tr>\n",
       "</table>\n",
       "<table class=\"simpletable\">\n",
       "<tr>\n",
       "                             <td></td>                               <th>coef</th>     <th>std err</th>      <th>t</th>      <th>P>|t|</th>  <th>[0.025</th>    <th>0.975]</th>  \n",
       "</tr>\n",
       "<tr>\n",
       "  <th>Intercept</th>                                              <td>    4.0417</td> <td>    0.127</td> <td>   31.858</td> <td> 0.000</td> <td>    3.793</td> <td>    4.290</td>\n",
       "</tr>\n",
       "<tr>\n",
       "  <th>C(category)[T.air_conditioning]</th>                        <td>   -0.0568</td> <td>    0.160</td> <td>   -0.356</td> <td> 0.722</td> <td>   -0.370</td> <td>    0.256</td>\n",
       "</tr>\n",
       "<tr>\n",
       "  <th>C(category)[T.art]</th>                                     <td>    0.1746</td> <td>    0.196</td> <td>    0.891</td> <td> 0.373</td> <td>   -0.209</td> <td>    0.559</td>\n",
       "</tr>\n",
       "<tr>\n",
       "  <th>C(category)[T.arts_and_craftmanship]</th>                   <td>    0.0779</td> <td>    0.276</td> <td>    0.282</td> <td> 0.778</td> <td>   -0.462</td> <td>    0.618</td>\n",
       "</tr>\n",
       "<tr>\n",
       "  <th>C(category)[T.audio]</th>                                   <td>   -0.2446</td> <td>    0.189</td> <td>   -1.294</td> <td> 0.196</td> <td>   -0.615</td> <td>    0.126</td>\n",
       "</tr>\n",
       "<tr>\n",
       "  <th>C(category)[T.auto]</th>                                    <td>    0.0879</td> <td>    0.129</td> <td>    0.680</td> <td> 0.496</td> <td>   -0.165</td> <td>    0.341</td>\n",
       "</tr>\n",
       "<tr>\n",
       "  <th>C(category)[T.baby]</th>                                    <td>    0.0349</td> <td>    0.132</td> <td>    0.265</td> <td> 0.791</td> <td>   -0.223</td> <td>    0.293</td>\n",
       "</tr>\n",
       "<tr>\n",
       "  <th>C(category)[T.bed_bath_table]</th>                          <td>   -0.1182</td> <td>    0.128</td> <td>   -0.921</td> <td> 0.357</td> <td>   -0.370</td> <td>    0.133</td>\n",
       "</tr>\n",
       "<tr>\n",
       "  <th>C(category)[T.books_general_interest]</th>                  <td>    0.4362</td> <td>    0.147</td> <td>    2.966</td> <td> 0.003</td> <td>    0.148</td> <td>    0.724</td>\n",
       "</tr>\n",
       "<tr>\n",
       "  <th>C(category)[T.books_imported]</th>                          <td>    0.2045</td> <td>    0.232</td> <td>    0.880</td> <td> 0.379</td> <td>   -0.251</td> <td>    0.660</td>\n",
       "</tr>\n",
       "<tr>\n",
       "  <th>C(category)[T.books_technical]</th>                         <td>    0.3817</td> <td>    0.160</td> <td>    2.393</td> <td> 0.017</td> <td>    0.069</td> <td>    0.694</td>\n",
       "</tr>\n",
       "<tr>\n",
       "  <th>C(category)[T.cds_dvds_musicals]</th>                       <td>    0.5687</td> <td>    1.074</td> <td>    0.530</td> <td> 0.596</td> <td>   -1.536</td> <td>    2.674</td>\n",
       "</tr>\n",
       "<tr>\n",
       "  <th>C(category)[T.christmas_supplies]</th>                      <td>    0.2314</td> <td>    0.186</td> <td>    1.246</td> <td> 0.213</td> <td>   -0.133</td> <td>    0.595</td>\n",
       "</tr>\n",
       "<tr>\n",
       "  <th>C(category)[T.cine_photo]</th>                              <td>   -0.0648</td> <td>    0.245</td> <td>   -0.265</td> <td> 0.791</td> <td>   -0.544</td> <td>    0.415</td>\n",
       "</tr>\n",
       "<tr>\n",
       "  <th>C(category)[T.computers]</th>                               <td>   -0.2755</td> <td>    0.237</td> <td>   -1.160</td> <td> 0.246</td> <td>   -0.741</td> <td>    0.190</td>\n",
       "</tr>\n",
       "<tr>\n",
       "  <th>C(category)[T.computers_accessories]</th>                   <td>    0.0015</td> <td>    0.130</td> <td>    0.012</td> <td> 0.991</td> <td>   -0.253</td> <td>    0.256</td>\n",
       "</tr>\n",
       "<tr>\n",
       "  <th>C(category)[T.consoles_games]</th>                          <td>    0.1746</td> <td>    0.141</td> <td>    1.238</td> <td> 0.216</td> <td>   -0.102</td> <td>    0.451</td>\n",
       "</tr>\n",
       "<tr>\n",
       "  <th>C(category)[T.construction_tools_construction]</th>         <td>    0.0341</td> <td>    0.138</td> <td>    0.247</td> <td> 0.805</td> <td>   -0.236</td> <td>    0.304</td>\n",
       "</tr>\n",
       "<tr>\n",
       "  <th>C(category)[T.construction_tools_lights]</th>               <td>   -0.1177</td> <td>    0.176</td> <td>   -0.668</td> <td> 0.504</td> <td>   -0.463</td> <td>    0.228</td>\n",
       "</tr>\n",
       "<tr>\n",
       "  <th>C(category)[T.construction_tools_safety]</th>               <td>   -0.0920</td> <td>    0.170</td> <td>   -0.540</td> <td> 0.589</td> <td>   -0.426</td> <td>    0.242</td>\n",
       "</tr>\n",
       "<tr>\n",
       "  <th>C(category)[T.cool_stuff]</th>                              <td>    0.1482</td> <td>    0.133</td> <td>    1.118</td> <td> 0.263</td> <td>   -0.112</td> <td>    0.408</td>\n",
       "</tr>\n",
       "<tr>\n",
       "  <th>C(category)[T.costruction_tools_garden]</th>                <td>    0.0377</td> <td>    0.171</td> <td>    0.220</td> <td> 0.826</td> <td>   -0.298</td> <td>    0.373</td>\n",
       "</tr>\n",
       "<tr>\n",
       "  <th>C(category)[T.costruction_tools_tools]</th>                 <td>    0.2179</td> <td>    0.213</td> <td>    1.025</td> <td> 0.306</td> <td>   -0.199</td> <td>    0.635</td>\n",
       "</tr>\n",
       "<tr>\n",
       "  <th>C(category)[T.diapers_and_hygiene]</th>                     <td>   -0.0514</td> <td>    0.346</td> <td>   -0.149</td> <td> 0.882</td> <td>   -0.729</td> <td>    0.626</td>\n",
       "</tr>\n",
       "<tr>\n",
       "  <th>C(category)[T.drinks]</th>                                  <td>   -0.0133</td> <td>    0.174</td> <td>   -0.076</td> <td> 0.939</td> <td>   -0.355</td> <td>    0.328</td>\n",
       "</tr>\n",
       "<tr>\n",
       "  <th>C(category)[T.dvds_blu_ray]</th>                            <td>    0.2372</td> <td>    0.202</td> <td>    1.174</td> <td> 0.240</td> <td>   -0.159</td> <td>    0.633</td>\n",
       "</tr>\n",
       "<tr>\n",
       "  <th>C(category)[T.electronics]</th>                             <td>    0.0893</td> <td>    0.135</td> <td>    0.659</td> <td> 0.510</td> <td>   -0.176</td> <td>    0.355</td>\n",
       "</tr>\n",
       "<tr>\n",
       "  <th>C(category)[T.fashio_female_clothing]</th>                  <td>   -0.3265</td> <td>    0.245</td> <td>   -1.334</td> <td> 0.182</td> <td>   -0.806</td> <td>    0.153</td>\n",
       "</tr>\n",
       "<tr>\n",
       "  <th>C(category)[T.fashion_bags_accessories]</th>                <td>    0.1050</td> <td>    0.132</td> <td>    0.794</td> <td> 0.427</td> <td>   -0.154</td> <td>    0.364</td>\n",
       "</tr>\n",
       "<tr>\n",
       "  <th>C(category)[T.fashion_childrens_clothes]</th>               <td>    0.7889</td> <td>    0.548</td> <td>    1.439</td> <td> 0.150</td> <td>   -0.285</td> <td>    1.863</td>\n",
       "</tr>\n",
       "<tr>\n",
       "  <th>C(category)[T.fashion_male_clothing]</th>                   <td>   -0.2625</td> <td>    0.170</td> <td>   -1.540</td> <td> 0.123</td> <td>   -0.597</td> <td>    0.072</td>\n",
       "</tr>\n",
       "<tr>\n",
       "  <th>C(category)[T.fashion_shoes]</th>                           <td>    0.3757</td> <td>    0.151</td> <td>    2.483</td> <td> 0.013</td> <td>    0.079</td> <td>    0.672</td>\n",
       "</tr>\n",
       "<tr>\n",
       "  <th>C(category)[T.fashion_sport]</th>                           <td>    0.2916</td> <td>    0.276</td> <td>    1.058</td> <td> 0.290</td> <td>   -0.249</td> <td>    0.832</td>\n",
       "</tr>\n",
       "<tr>\n",
       "  <th>C(category)[T.fashion_underwear_beach]</th>                 <td>    0.0433</td> <td>    0.195</td> <td>    0.222</td> <td> 0.824</td> <td>   -0.339</td> <td>    0.425</td>\n",
       "</tr>\n",
       "<tr>\n",
       "  <th>C(category)[T.fixed_telephony]</th>                         <td>    0.0516</td> <td>    0.162</td> <td>    0.318</td> <td> 0.750</td> <td>   -0.266</td> <td>    0.369</td>\n",
       "</tr>\n",
       "<tr>\n",
       "  <th>C(category)[T.flowers]</th>                                 <td>    0.2220</td> <td>    0.312</td> <td>    0.711</td> <td> 0.477</td> <td>   -0.390</td> <td>    0.834</td>\n",
       "</tr>\n",
       "<tr>\n",
       "  <th>C(category)[T.food]</th>                                    <td>    0.1452</td> <td>    0.175</td> <td>    0.831</td> <td> 0.406</td> <td>   -0.197</td> <td>    0.488</td>\n",
       "</tr>\n",
       "<tr>\n",
       "  <th>C(category)[T.food_drink]</th>                              <td>    0.3383</td> <td>    0.166</td> <td>    2.036</td> <td> 0.042</td> <td>    0.013</td> <td>    0.664</td>\n",
       "</tr>\n",
       "<tr>\n",
       "  <th>C(category)[T.furniture_bedroom]</th>                       <td>    0.2078</td> <td>    0.206</td> <td>    1.007</td> <td> 0.314</td> <td>   -0.197</td> <td>    0.612</td>\n",
       "</tr>\n",
       "<tr>\n",
       "  <th>C(category)[T.furniture_decor]</th>                         <td>   -0.0211</td> <td>    0.129</td> <td>   -0.164</td> <td> 0.870</td> <td>   -0.273</td> <td>    0.231</td>\n",
       "</tr>\n",
       "<tr>\n",
       "  <th>C(category)[T.furniture_living_room]</th>                   <td>    0.0899</td> <td>    0.154</td> <td>    0.585</td> <td> 0.559</td> <td>   -0.211</td> <td>    0.391</td>\n",
       "</tr>\n",
       "<tr>\n",
       "  <th>C(category)[T.furniture_mattress_and_upholstery]</th>       <td>   -0.5683</td> <td>    0.360</td> <td>   -1.577</td> <td> 0.115</td> <td>   -1.275</td> <td>    0.138</td>\n",
       "</tr>\n",
       "<tr>\n",
       "  <th>C(category)[T.garden_tools]</th>                            <td>    0.1086</td> <td>    0.133</td> <td>    0.818</td> <td> 0.413</td> <td>   -0.152</td> <td>    0.369</td>\n",
       "</tr>\n",
       "<tr>\n",
       "  <th>C(category)[T.health_beauty]</th>                           <td>    0.1615</td> <td>    0.129</td> <td>    1.254</td> <td> 0.210</td> <td>   -0.091</td> <td>    0.414</td>\n",
       "</tr>\n",
       "<tr>\n",
       "  <th>C(category)[T.home_appliances]</th>                         <td>    0.1121</td> <td>    0.139</td> <td>    0.808</td> <td> 0.419</td> <td>   -0.160</td> <td>    0.384</td>\n",
       "</tr>\n",
       "<tr>\n",
       "  <th>C(category)[T.home_appliances_2]</th>                       <td>   -0.0129</td> <td>    0.170</td> <td>   -0.076</td> <td> 0.939</td> <td>   -0.347</td> <td>    0.321</td>\n",
       "</tr>\n",
       "<tr>\n",
       "  <th>C(category)[T.home_comfort_2]</th>                          <td>    0.6166</td> <td>    0.494</td> <td>    1.249</td> <td> 0.212</td> <td>   -0.351</td> <td>    1.584</td>\n",
       "</tr>\n",
       "<tr>\n",
       "  <th>C(category)[T.home_confort]</th>                            <td>   -0.1846</td> <td>    0.163</td> <td>   -1.134</td> <td> 0.257</td> <td>   -0.504</td> <td>    0.135</td>\n",
       "</tr>\n",
       "<tr>\n",
       "  <th>C(category)[T.home_construction]</th>                       <td>   -0.0555</td> <td>    0.146</td> <td>   -0.381</td> <td> 0.703</td> <td>   -0.341</td> <td>    0.230</td>\n",
       "</tr>\n",
       "<tr>\n",
       "  <th>C(category)[T.housewares]</th>                              <td>    0.0527</td> <td>    0.129</td> <td>    0.409</td> <td> 0.683</td> <td>   -0.200</td> <td>    0.305</td>\n",
       "</tr>\n",
       "<tr>\n",
       "  <th>C(category)[T.industry_commerce_and_business]</th>          <td>    0.0993</td> <td>    0.182</td> <td>    0.546</td> <td> 0.585</td> <td>   -0.257</td> <td>    0.456</td>\n",
       "</tr>\n",
       "<tr>\n",
       "  <th>C(category)[T.kitchen_dining_laundry_garden_furniture]</th> <td>   -0.1218</td> <td>    0.169</td> <td>   -0.721</td> <td> 0.471</td> <td>   -0.453</td> <td>    0.209</td>\n",
       "</tr>\n",
       "<tr>\n",
       "  <th>C(category)[T.la_cuisine]</th>                              <td>    0.0712</td> <td>    0.360</td> <td>    0.197</td> <td> 0.843</td> <td>   -0.635</td> <td>    0.777</td>\n",
       "</tr>\n",
       "<tr>\n",
       "  <th>C(category)[T.luggage_accessories]</th>                     <td>    0.2456</td> <td>    0.139</td> <td>    1.764</td> <td> 0.078</td> <td>   -0.027</td> <td>    0.519</td>\n",
       "</tr>\n",
       "<tr>\n",
       "  <th>C(category)[T.market_place]</th>                            <td>    0.0623</td> <td>    0.166</td> <td>    0.375</td> <td> 0.708</td> <td>   -0.263</td> <td>    0.388</td>\n",
       "</tr>\n",
       "<tr>\n",
       "  <th>C(category)[T.music]</th>                                   <td>    0.1865</td> <td>    0.241</td> <td>    0.773</td> <td> 0.439</td> <td>   -0.286</td> <td>    0.659</td>\n",
       "</tr>\n",
       "<tr>\n",
       "  <th>C(category)[T.musical_instruments]</th>                     <td>    0.1449</td> <td>    0.142</td> <td>    1.021</td> <td> 0.307</td> <td>   -0.133</td> <td>    0.423</td>\n",
       "</tr>\n",
       "<tr>\n",
       "  <th>C(category)[T.office_furniture]</th>                        <td>   -0.0542</td> <td>    0.141</td> <td>   -0.384</td> <td> 0.701</td> <td>   -0.331</td> <td>    0.222</td>\n",
       "</tr>\n",
       "<tr>\n",
       "  <th>C(category)[T.party_supplies]</th>                          <td>   -0.0064</td> <td>    0.248</td> <td>   -0.026</td> <td> 0.979</td> <td>   -0.493</td> <td>    0.480</td>\n",
       "</tr>\n",
       "<tr>\n",
       "  <th>C(category)[T.perfumery]</th>                               <td>    0.0862</td> <td>    0.132</td> <td>    0.653</td> <td> 0.514</td> <td>   -0.173</td> <td>    0.345</td>\n",
       "</tr>\n",
       "<tr>\n",
       "  <th>C(category)[T.pet_shop]</th>                                <td>    0.1195</td> <td>    0.133</td> <td>    0.898</td> <td> 0.369</td> <td>   -0.141</td> <td>    0.380</td>\n",
       "</tr>\n",
       "<tr>\n",
       "  <th>C(category)[T.security_and_services]</th>                   <td>   -1.3899</td> <td>    0.765</td> <td>   -1.818</td> <td> 0.069</td> <td>   -2.889</td> <td>    0.109</td>\n",
       "</tr>\n",
       "<tr>\n",
       "  <th>C(category)[T.signaling_and_security]</th>                  <td>    0.0487</td> <td>    0.169</td> <td>    0.288</td> <td> 0.774</td> <td>   -0.283</td> <td>    0.380</td>\n",
       "</tr>\n",
       "<tr>\n",
       "  <th>C(category)[T.small_appliances]</th>                        <td>    0.0666</td> <td>    0.146</td> <td>    0.457</td> <td> 0.648</td> <td>   -0.219</td> <td>    0.352</td>\n",
       "</tr>\n",
       "<tr>\n",
       "  <th>C(category)[T.small_appliances_home_oven_and_coffee]</th>   <td>    0.0801</td> <td>    0.232</td> <td>    0.345</td> <td> 0.730</td> <td>   -0.375</td> <td>    0.536</td>\n",
       "</tr>\n",
       "<tr>\n",
       "  <th>C(category)[T.sports_leisure]</th>                          <td>    0.1289</td> <td>    0.128</td> <td>    1.003</td> <td> 0.316</td> <td>   -0.123</td> <td>    0.381</td>\n",
       "</tr>\n",
       "<tr>\n",
       "  <th>C(category)[T.stationery]</th>                              <td>    0.2255</td> <td>    0.132</td> <td>    1.706</td> <td> 0.088</td> <td>   -0.034</td> <td>    0.485</td>\n",
       "</tr>\n",
       "<tr>\n",
       "  <th>C(category)[T.tablets_printing_image]</th>                  <td>    0.0848</td> <td>    0.398</td> <td>    0.213</td> <td> 0.831</td> <td>   -0.695</td> <td>    0.865</td>\n",
       "</tr>\n",
       "<tr>\n",
       "  <th>C(category)[T.telephony]</th>                               <td>   -0.0207</td> <td>    0.131</td> <td>   -0.158</td> <td> 0.874</td> <td>   -0.277</td> <td>    0.236</td>\n",
       "</tr>\n",
       "<tr>\n",
       "  <th>C(category)[T.toys]</th>                                    <td>    0.1455</td> <td>    0.130</td> <td>    1.118</td> <td> 0.263</td> <td>   -0.110</td> <td>    0.401</td>\n",
       "</tr>\n",
       "<tr>\n",
       "  <th>C(category)[T.watches_gifts]</th>                           <td>    0.1427</td> <td>    0.130</td> <td>    1.097</td> <td> 0.273</td> <td>   -0.112</td> <td>    0.398</td>\n",
       "</tr>\n",
       "<tr>\n",
       "  <th>sales</th>                                                  <td>   -0.4850</td> <td>    0.013</td> <td>  -35.968</td> <td> 0.000</td> <td>   -0.511</td> <td>   -0.459</td>\n",
       "</tr>\n",
       "<tr>\n",
       "  <th>weighted_revenues</th>                                      <td>    0.5312</td> <td>    0.013</td> <td>   40.463</td> <td> 0.000</td> <td>    0.506</td> <td>    0.557</td>\n",
       "</tr>\n",
       "<tr>\n",
       "  <th>price</th>                                                  <td>    0.0588</td> <td>    0.007</td> <td>    8.872</td> <td> 0.000</td> <td>    0.046</td> <td>    0.072</td>\n",
       "</tr>\n",
       "<tr>\n",
       "  <th>wait_time</th>                                              <td>   -0.3098</td> <td>    0.006</td> <td>  -50.803</td> <td> 0.000</td> <td>   -0.322</td> <td>   -0.298</td>\n",
       "</tr>\n",
       "</table>\n",
       "<table class=\"simpletable\">\n",
       "<tr>\n",
       "  <th>Omnibus:</th>       <td>7413.580</td> <th>  Durbin-Watson:     </th> <td>   2.018</td> \n",
       "</tr>\n",
       "<tr>\n",
       "  <th>Prob(Omnibus):</th>  <td> 0.000</td>  <th>  Jarque-Bera (JB):  </th> <td>86450.567</td>\n",
       "</tr>\n",
       "<tr>\n",
       "  <th>Skew:</th>           <td>-0.801</td>  <th>  Prob(JB):          </th> <td>    0.00</td> \n",
       "</tr>\n",
       "<tr>\n",
       "  <th>Kurtosis:</th>       <td>10.958</td>  <th>  Cond. No.          </th> <td>    269.</td> \n",
       "</tr>\n",
       "</table><br/><br/>Notes:<br/>[1] Standard Errors assume that the covariance matrix of the errors is correctly specified."
      ],
      "text/plain": [
       "<class 'statsmodels.iolib.summary.Summary'>\n",
       "\"\"\"\n",
       "                            OLS Regression Results                            \n",
       "==============================================================================\n",
       "Dep. Variable:           review_score   R-squared:                       0.139\n",
       "Model:                            OLS   Adj. R-squared:                  0.137\n",
       "Method:                 Least Squares   F-statistic:                     68.61\n",
       "Date:                Thu, 02 Nov 2023   Prob (F-statistic):               0.00\n",
       "Time:                        16:50:19   Log-Likelihood:                -46660.\n",
       "No. Observations:               31482   AIC:                         9.347e+04\n",
       "Df Residuals:                   31407   BIC:                         9.410e+04\n",
       "Df Model:                          74                                         \n",
       "Covariance Type:            nonrobust                                         \n",
       "==========================================================================================================================\n",
       "                                                             coef    std err          t      P>|t|      [0.025      0.975]\n",
       "--------------------------------------------------------------------------------------------------------------------------\n",
       "Intercept                                                  4.0417      0.127     31.858      0.000       3.793       4.290\n",
       "C(category)[T.air_conditioning]                           -0.0568      0.160     -0.356      0.722      -0.370       0.256\n",
       "C(category)[T.art]                                         0.1746      0.196      0.891      0.373      -0.209       0.559\n",
       "C(category)[T.arts_and_craftmanship]                       0.0779      0.276      0.282      0.778      -0.462       0.618\n",
       "C(category)[T.audio]                                      -0.2446      0.189     -1.294      0.196      -0.615       0.126\n",
       "C(category)[T.auto]                                        0.0879      0.129      0.680      0.496      -0.165       0.341\n",
       "C(category)[T.baby]                                        0.0349      0.132      0.265      0.791      -0.223       0.293\n",
       "C(category)[T.bed_bath_table]                             -0.1182      0.128     -0.921      0.357      -0.370       0.133\n",
       "C(category)[T.books_general_interest]                      0.4362      0.147      2.966      0.003       0.148       0.724\n",
       "C(category)[T.books_imported]                              0.2045      0.232      0.880      0.379      -0.251       0.660\n",
       "C(category)[T.books_technical]                             0.3817      0.160      2.393      0.017       0.069       0.694\n",
       "C(category)[T.cds_dvds_musicals]                           0.5687      1.074      0.530      0.596      -1.536       2.674\n",
       "C(category)[T.christmas_supplies]                          0.2314      0.186      1.246      0.213      -0.133       0.595\n",
       "C(category)[T.cine_photo]                                 -0.0648      0.245     -0.265      0.791      -0.544       0.415\n",
       "C(category)[T.computers]                                  -0.2755      0.237     -1.160      0.246      -0.741       0.190\n",
       "C(category)[T.computers_accessories]                       0.0015      0.130      0.012      0.991      -0.253       0.256\n",
       "C(category)[T.consoles_games]                              0.1746      0.141      1.238      0.216      -0.102       0.451\n",
       "C(category)[T.construction_tools_construction]             0.0341      0.138      0.247      0.805      -0.236       0.304\n",
       "C(category)[T.construction_tools_lights]                  -0.1177      0.176     -0.668      0.504      -0.463       0.228\n",
       "C(category)[T.construction_tools_safety]                  -0.0920      0.170     -0.540      0.589      -0.426       0.242\n",
       "C(category)[T.cool_stuff]                                  0.1482      0.133      1.118      0.263      -0.112       0.408\n",
       "C(category)[T.costruction_tools_garden]                    0.0377      0.171      0.220      0.826      -0.298       0.373\n",
       "C(category)[T.costruction_tools_tools]                     0.2179      0.213      1.025      0.306      -0.199       0.635\n",
       "C(category)[T.diapers_and_hygiene]                        -0.0514      0.346     -0.149      0.882      -0.729       0.626\n",
       "C(category)[T.drinks]                                     -0.0133      0.174     -0.076      0.939      -0.355       0.328\n",
       "C(category)[T.dvds_blu_ray]                                0.2372      0.202      1.174      0.240      -0.159       0.633\n",
       "C(category)[T.electronics]                                 0.0893      0.135      0.659      0.510      -0.176       0.355\n",
       "C(category)[T.fashio_female_clothing]                     -0.3265      0.245     -1.334      0.182      -0.806       0.153\n",
       "C(category)[T.fashion_bags_accessories]                    0.1050      0.132      0.794      0.427      -0.154       0.364\n",
       "C(category)[T.fashion_childrens_clothes]                   0.7889      0.548      1.439      0.150      -0.285       1.863\n",
       "C(category)[T.fashion_male_clothing]                      -0.2625      0.170     -1.540      0.123      -0.597       0.072\n",
       "C(category)[T.fashion_shoes]                               0.3757      0.151      2.483      0.013       0.079       0.672\n",
       "C(category)[T.fashion_sport]                               0.2916      0.276      1.058      0.290      -0.249       0.832\n",
       "C(category)[T.fashion_underwear_beach]                     0.0433      0.195      0.222      0.824      -0.339       0.425\n",
       "C(category)[T.fixed_telephony]                             0.0516      0.162      0.318      0.750      -0.266       0.369\n",
       "C(category)[T.flowers]                                     0.2220      0.312      0.711      0.477      -0.390       0.834\n",
       "C(category)[T.food]                                        0.1452      0.175      0.831      0.406      -0.197       0.488\n",
       "C(category)[T.food_drink]                                  0.3383      0.166      2.036      0.042       0.013       0.664\n",
       "C(category)[T.furniture_bedroom]                           0.2078      0.206      1.007      0.314      -0.197       0.612\n",
       "C(category)[T.furniture_decor]                            -0.0211      0.129     -0.164      0.870      -0.273       0.231\n",
       "C(category)[T.furniture_living_room]                       0.0899      0.154      0.585      0.559      -0.211       0.391\n",
       "C(category)[T.furniture_mattress_and_upholstery]          -0.5683      0.360     -1.577      0.115      -1.275       0.138\n",
       "C(category)[T.garden_tools]                                0.1086      0.133      0.818      0.413      -0.152       0.369\n",
       "C(category)[T.health_beauty]                               0.1615      0.129      1.254      0.210      -0.091       0.414\n",
       "C(category)[T.home_appliances]                             0.1121      0.139      0.808      0.419      -0.160       0.384\n",
       "C(category)[T.home_appliances_2]                          -0.0129      0.170     -0.076      0.939      -0.347       0.321\n",
       "C(category)[T.home_comfort_2]                              0.6166      0.494      1.249      0.212      -0.351       1.584\n",
       "C(category)[T.home_confort]                               -0.1846      0.163     -1.134      0.257      -0.504       0.135\n",
       "C(category)[T.home_construction]                          -0.0555      0.146     -0.381      0.703      -0.341       0.230\n",
       "C(category)[T.housewares]                                  0.0527      0.129      0.409      0.683      -0.200       0.305\n",
       "C(category)[T.industry_commerce_and_business]              0.0993      0.182      0.546      0.585      -0.257       0.456\n",
       "C(category)[T.kitchen_dining_laundry_garden_furniture]    -0.1218      0.169     -0.721      0.471      -0.453       0.209\n",
       "C(category)[T.la_cuisine]                                  0.0712      0.360      0.197      0.843      -0.635       0.777\n",
       "C(category)[T.luggage_accessories]                         0.2456      0.139      1.764      0.078      -0.027       0.519\n",
       "C(category)[T.market_place]                                0.0623      0.166      0.375      0.708      -0.263       0.388\n",
       "C(category)[T.music]                                       0.1865      0.241      0.773      0.439      -0.286       0.659\n",
       "C(category)[T.musical_instruments]                         0.1449      0.142      1.021      0.307      -0.133       0.423\n",
       "C(category)[T.office_furniture]                           -0.0542      0.141     -0.384      0.701      -0.331       0.222\n",
       "C(category)[T.party_supplies]                             -0.0064      0.248     -0.026      0.979      -0.493       0.480\n",
       "C(category)[T.perfumery]                                   0.0862      0.132      0.653      0.514      -0.173       0.345\n",
       "C(category)[T.pet_shop]                                    0.1195      0.133      0.898      0.369      -0.141       0.380\n",
       "C(category)[T.security_and_services]                      -1.3899      0.765     -1.818      0.069      -2.889       0.109\n",
       "C(category)[T.signaling_and_security]                      0.0487      0.169      0.288      0.774      -0.283       0.380\n",
       "C(category)[T.small_appliances]                            0.0666      0.146      0.457      0.648      -0.219       0.352\n",
       "C(category)[T.small_appliances_home_oven_and_coffee]       0.0801      0.232      0.345      0.730      -0.375       0.536\n",
       "C(category)[T.sports_leisure]                              0.1289      0.128      1.003      0.316      -0.123       0.381\n",
       "C(category)[T.stationery]                                  0.2255      0.132      1.706      0.088      -0.034       0.485\n",
       "C(category)[T.tablets_printing_image]                      0.0848      0.398      0.213      0.831      -0.695       0.865\n",
       "C(category)[T.telephony]                                  -0.0207      0.131     -0.158      0.874      -0.277       0.236\n",
       "C(category)[T.toys]                                        0.1455      0.130      1.118      0.263      -0.110       0.401\n",
       "C(category)[T.watches_gifts]                               0.1427      0.130      1.097      0.273      -0.112       0.398\n",
       "sales                                                     -0.4850      0.013    -35.968      0.000      -0.511      -0.459\n",
       "weighted_revenues                                          0.5312      0.013     40.463      0.000       0.506       0.557\n",
       "price                                                      0.0588      0.007      8.872      0.000       0.046       0.072\n",
       "wait_time                                                 -0.3098      0.006    -50.803      0.000      -0.322      -0.298\n",
       "==============================================================================\n",
       "Omnibus:                     7413.580   Durbin-Watson:                   2.018\n",
       "Prob(Omnibus):                  0.000   Jarque-Bera (JB):            86450.567\n",
       "Skew:                          -0.801   Prob(JB):                         0.00\n",
       "Kurtosis:                      10.958   Cond. No.                         269.\n",
       "==============================================================================\n",
       "\n",
       "Notes:\n",
       "[1] Standard Errors assume that the covariance matrix of the errors is correctly specified.\n",
       "\"\"\""
      ]
     },
     "execution_count": 106,
     "metadata": {},
     "output_type": "execute_result"
    }
   ],
   "source": [
    "model3 = smf.ols(formula = 'review_score ~ C(category) + sales + weighted_revenues + price + wait_time', data=products_scaled2).fit()\n",
    "model3.summary()"
   ]
  },
  {
   "cell_type": "code",
   "execution_count": 107,
   "id": "96705935",
   "metadata": {
    "collapsed": true,
    "hidden": true
   },
   "outputs": [
    {
     "data": {
      "text/html": [
       "<div>\n",
       "<style scoped>\n",
       "    .dataframe tbody tr th:only-of-type {\n",
       "        vertical-align: middle;\n",
       "    }\n",
       "\n",
       "    .dataframe tbody tr th {\n",
       "        vertical-align: top;\n",
       "    }\n",
       "\n",
       "    .dataframe thead th {\n",
       "        text-align: right;\n",
       "    }\n",
       "</style>\n",
       "<table border=\"1\" class=\"dataframe\">\n",
       "  <thead>\n",
       "    <tr style=\"text-align: right;\">\n",
       "      <th></th>\n",
       "      <th>0</th>\n",
       "    </tr>\n",
       "  </thead>\n",
       "  <tbody>\n",
       "    <tr>\n",
       "      <th>C(category)[T.security_and_services]</th>\n",
       "      <td>-1.389930</td>\n",
       "    </tr>\n",
       "    <tr>\n",
       "      <th>C(category)[T.furniture_mattress_and_upholstery]</th>\n",
       "      <td>-0.568340</td>\n",
       "    </tr>\n",
       "    <tr>\n",
       "      <th>sales</th>\n",
       "      <td>-0.484984</td>\n",
       "    </tr>\n",
       "    <tr>\n",
       "      <th>C(category)[T.fashio_female_clothing]</th>\n",
       "      <td>-0.326515</td>\n",
       "    </tr>\n",
       "    <tr>\n",
       "      <th>wait_time</th>\n",
       "      <td>-0.309795</td>\n",
       "    </tr>\n",
       "    <tr>\n",
       "      <th>C(category)[T.computers]</th>\n",
       "      <td>-0.275452</td>\n",
       "    </tr>\n",
       "    <tr>\n",
       "      <th>C(category)[T.fashion_male_clothing]</th>\n",
       "      <td>-0.262521</td>\n",
       "    </tr>\n",
       "    <tr>\n",
       "      <th>C(category)[T.audio]</th>\n",
       "      <td>-0.244648</td>\n",
       "    </tr>\n",
       "    <tr>\n",
       "      <th>C(category)[T.home_confort]</th>\n",
       "      <td>-0.184633</td>\n",
       "    </tr>\n",
       "    <tr>\n",
       "      <th>C(category)[T.kitchen_dining_laundry_garden_furniture]</th>\n",
       "      <td>-0.121813</td>\n",
       "    </tr>\n",
       "  </tbody>\n",
       "</table>\n",
       "</div>"
      ],
      "text/plain": [
       "                                                           0\n",
       "C(category)[T.security_and_services]               -1.389930\n",
       "C(category)[T.furniture_mattress_and_upholstery]   -0.568340\n",
       "sales                                              -0.484984\n",
       "C(category)[T.fashio_female_clothing]              -0.326515\n",
       "wait_time                                          -0.309795\n",
       "C(category)[T.computers]                           -0.275452\n",
       "C(category)[T.fashion_male_clothing]               -0.262521\n",
       "C(category)[T.audio]                               -0.244648\n",
       "C(category)[T.home_confort]                        -0.184633\n",
       "C(category)[T.kitchen_dining_laundry_garden_fur... -0.121813"
      ]
     },
     "execution_count": 107,
     "metadata": {},
     "output_type": "execute_result"
    }
   ],
   "source": [
    "pd.DataFrame(model3.params.sort_values()).head(10)"
   ]
  },
  {
   "cell_type": "markdown",
   "id": "73c9b3d7",
   "metadata": {
    "hidden": true
   },
   "source": [
    "> It seems that some products categories have a bad impact on sales. Top 5 worst products categories are : security_and_services, furniture_mattress_and_upholstery, fashio_female_clothing, computers, fashion_male_clothing."
   ]
  },
  {
   "cell_type": "markdown",
   "id": "7f1ca0f7",
   "metadata": {
    "heading_collapsed": true,
    "slideshow": {
     "slide_type": "skip"
    }
   },
   "source": [
    "### What if Olist remove the worst product categories from its marketplace ?"
   ]
  },
  {
   "cell_type": "markdown",
   "id": "14335223",
   "metadata": {
    "hidden": true
   },
   "source": [
    "#### Regression #1"
   ]
  },
  {
   "cell_type": "markdown",
   "id": "cf7e3bda",
   "metadata": {
    "hidden": true
   },
   "source": [
    "We build our new data set by removing the selected products from the table \"order_items\"."
   ]
  },
  {
   "cell_type": "code",
   "execution_count": 119,
   "id": "1ed88aaa",
   "metadata": {
    "hidden": true
   },
   "outputs": [
    {
     "name": "stdout",
     "output_type": "stream",
     "text": [
      "Categories to remove : ['fixed_telephony', 'security_and_services', 'dvds_blu_ray', 'fashion_male_clothing', 'arts_and_craftmanship', 'fashio_female_clothing', 'flowers', 'diapers_and_hygiene', 'party_supplies', 'fashion_sport']\n"
     ]
    },
    {
     "data": {
      "text/html": [
       "<div>\n",
       "<style scoped>\n",
       "    .dataframe tbody tr th:only-of-type {\n",
       "        vertical-align: middle;\n",
       "    }\n",
       "\n",
       "    .dataframe tbody tr th {\n",
       "        vertical-align: top;\n",
       "    }\n",
       "\n",
       "    .dataframe thead th {\n",
       "        text-align: right;\n",
       "    }\n",
       "</style>\n",
       "<table border=\"1\" class=\"dataframe\">\n",
       "  <thead>\n",
       "    <tr style=\"text-align: right;\">\n",
       "      <th></th>\n",
       "      <th>order_id</th>\n",
       "      <th>order_item_id</th>\n",
       "      <th>product_id</th>\n",
       "      <th>seller_id</th>\n",
       "      <th>shipping_limit_date</th>\n",
       "      <th>price</th>\n",
       "      <th>freight_value</th>\n",
       "    </tr>\n",
       "  </thead>\n",
       "  <tbody>\n",
       "    <tr>\n",
       "      <th>0</th>\n",
       "      <td>00010242fe8c5a6d1ba2dd792cb16214</td>\n",
       "      <td>1</td>\n",
       "      <td>4244733e06e7ecb4970a6e2683c13e61</td>\n",
       "      <td>48436dade18ac8b2bce089ec2a041202</td>\n",
       "      <td>2017-09-19 09:45:35</td>\n",
       "      <td>58.9</td>\n",
       "      <td>13.29</td>\n",
       "    </tr>\n",
       "    <tr>\n",
       "      <th>1</th>\n",
       "      <td>130898c0987d1801452a8ed92a670612</td>\n",
       "      <td>1</td>\n",
       "      <td>4244733e06e7ecb4970a6e2683c13e61</td>\n",
       "      <td>48436dade18ac8b2bce089ec2a041202</td>\n",
       "      <td>2017-07-05 02:44:11</td>\n",
       "      <td>55.9</td>\n",
       "      <td>17.96</td>\n",
       "    </tr>\n",
       "    <tr>\n",
       "      <th>2</th>\n",
       "      <td>532ed5e14e24ae1f0d735b91524b98b9</td>\n",
       "      <td>1</td>\n",
       "      <td>4244733e06e7ecb4970a6e2683c13e61</td>\n",
       "      <td>48436dade18ac8b2bce089ec2a041202</td>\n",
       "      <td>2018-05-23 10:56:25</td>\n",
       "      <td>64.9</td>\n",
       "      <td>18.33</td>\n",
       "    </tr>\n",
       "    <tr>\n",
       "      <th>3</th>\n",
       "      <td>6f8c31653edb8c83e1a739408b5ff750</td>\n",
       "      <td>1</td>\n",
       "      <td>4244733e06e7ecb4970a6e2683c13e61</td>\n",
       "      <td>48436dade18ac8b2bce089ec2a041202</td>\n",
       "      <td>2017-08-07 18:55:08</td>\n",
       "      <td>58.9</td>\n",
       "      <td>16.17</td>\n",
       "    </tr>\n",
       "    <tr>\n",
       "      <th>4</th>\n",
       "      <td>7d19f4ef4d04461989632411b7e588b9</td>\n",
       "      <td>1</td>\n",
       "      <td>4244733e06e7ecb4970a6e2683c13e61</td>\n",
       "      <td>48436dade18ac8b2bce089ec2a041202</td>\n",
       "      <td>2017-08-16 22:05:11</td>\n",
       "      <td>58.9</td>\n",
       "      <td>13.29</td>\n",
       "    </tr>\n",
       "  </tbody>\n",
       "</table>\n",
       "</div>"
      ],
      "text/plain": [
       "                           order_id  order_item_id  \\\n",
       "0  00010242fe8c5a6d1ba2dd792cb16214              1   \n",
       "1  130898c0987d1801452a8ed92a670612              1   \n",
       "2  532ed5e14e24ae1f0d735b91524b98b9              1   \n",
       "3  6f8c31653edb8c83e1a739408b5ff750              1   \n",
       "4  7d19f4ef4d04461989632411b7e588b9              1   \n",
       "\n",
       "                         product_id                         seller_id  \\\n",
       "0  4244733e06e7ecb4970a6e2683c13e61  48436dade18ac8b2bce089ec2a041202   \n",
       "1  4244733e06e7ecb4970a6e2683c13e61  48436dade18ac8b2bce089ec2a041202   \n",
       "2  4244733e06e7ecb4970a6e2683c13e61  48436dade18ac8b2bce089ec2a041202   \n",
       "3  4244733e06e7ecb4970a6e2683c13e61  48436dade18ac8b2bce089ec2a041202   \n",
       "4  4244733e06e7ecb4970a6e2683c13e61  48436dade18ac8b2bce089ec2a041202   \n",
       "\n",
       "   shipping_limit_date  price  freight_value  \n",
       "0  2017-09-19 09:45:35   58.9          13.29  \n",
       "1  2017-07-05 02:44:11   55.9          17.96  \n",
       "2  2018-05-23 10:56:25   64.9          18.33  \n",
       "3  2017-08-07 18:55:08   58.9          16.17  \n",
       "4  2017-08-16 22:05:11   58.9          13.29  "
      ]
     },
     "execution_count": 119,
     "metadata": {},
     "output_type": "execute_result"
    }
   ],
   "source": [
    "new_sellers = Seller()\n",
    "# add product category in \"order_items\"\n",
    "new_sellers.data[\"order_items\"] = new_sellers.data[\"order_items\"].merge(new_sellers.data[\"products\"][[\"product_id\", \"product_category_name\"]], on=\"product_id\")\\\n",
    ".merge(new_sellers.data[\"product_category_name_translation\"], on=\"product_category_name\")\\\n",
    ".drop(['product_category_name'], axis=1)\n",
    "new_sellers.data[\"order_items\"] \n",
    "categories_to_remove = [cat[14:-1] for cat in model.params.sort_values().index[0:10] if cat not in [\"sales\", \"wait_time\", \"review_score\", \"sales\"]]\n",
    "print(\"Categories to remove :\", categories_to_remove)\n",
    "new_sellers.data[\"order_items\"] = new_sellers.data[\"order_items\"][~new_sellers.data[\"order_items\"][\"product_category_name_english\"].isin(categories_to_remove)]\n",
    "new_sellers.data[\"order_items\"] = new_sellers.data[\"order_items\"].drop(['product_category_name_english'], axis=1)\n",
    "new_sellers.data[\"order_items\"].head()"
   ]
  },
  {
   "cell_type": "code",
   "execution_count": 120,
   "id": "790a7c9b",
   "metadata": {
    "hidden": true
   },
   "outputs": [
    {
     "name": "stdout",
     "output_type": "stream",
     "text": [
      "Initial total margin (BRL): 667609.1254806706\n",
      "New total margin (BRL):  656166.1358248959\n"
     ]
    }
   ],
   "source": [
    "print(\"Initial total margin (BRL):\", margin_olist(sellers, 0))\n",
    "print(\"New total margin (BRL): \", margin_olist(new_sellers.get_training_data(), 0))"
   ]
  },
  {
   "cell_type": "markdown",
   "id": "9b481403",
   "metadata": {
    "hidden": true
   },
   "source": [
    "#### Regression #2"
   ]
  },
  {
   "cell_type": "code",
   "execution_count": 121,
   "id": "f5511d82",
   "metadata": {
    "hidden": true
   },
   "outputs": [
    {
     "name": "stdout",
     "output_type": "stream",
     "text": [
      "Categories to remove : ['security_and_services', 'fashion_male_clothing', 'la_cuisine', 'fashio_female_clothing', 'dvds_blu_ray', 'music', 'fashion_shoes', 'party_supplies', 'fashion_sport', 'construction_tools_safety']\n"
     ]
    },
    {
     "data": {
      "text/html": [
       "<div>\n",
       "<style scoped>\n",
       "    .dataframe tbody tr th:only-of-type {\n",
       "        vertical-align: middle;\n",
       "    }\n",
       "\n",
       "    .dataframe tbody tr th {\n",
       "        vertical-align: top;\n",
       "    }\n",
       "\n",
       "    .dataframe thead th {\n",
       "        text-align: right;\n",
       "    }\n",
       "</style>\n",
       "<table border=\"1\" class=\"dataframe\">\n",
       "  <thead>\n",
       "    <tr style=\"text-align: right;\">\n",
       "      <th></th>\n",
       "      <th>order_id</th>\n",
       "      <th>order_item_id</th>\n",
       "      <th>product_id</th>\n",
       "      <th>seller_id</th>\n",
       "      <th>shipping_limit_date</th>\n",
       "      <th>price</th>\n",
       "      <th>freight_value</th>\n",
       "    </tr>\n",
       "  </thead>\n",
       "  <tbody>\n",
       "    <tr>\n",
       "      <th>0</th>\n",
       "      <td>00010242fe8c5a6d1ba2dd792cb16214</td>\n",
       "      <td>1</td>\n",
       "      <td>4244733e06e7ecb4970a6e2683c13e61</td>\n",
       "      <td>48436dade18ac8b2bce089ec2a041202</td>\n",
       "      <td>2017-09-19 09:45:35</td>\n",
       "      <td>58.9</td>\n",
       "      <td>13.29</td>\n",
       "    </tr>\n",
       "    <tr>\n",
       "      <th>1</th>\n",
       "      <td>130898c0987d1801452a8ed92a670612</td>\n",
       "      <td>1</td>\n",
       "      <td>4244733e06e7ecb4970a6e2683c13e61</td>\n",
       "      <td>48436dade18ac8b2bce089ec2a041202</td>\n",
       "      <td>2017-07-05 02:44:11</td>\n",
       "      <td>55.9</td>\n",
       "      <td>17.96</td>\n",
       "    </tr>\n",
       "    <tr>\n",
       "      <th>2</th>\n",
       "      <td>532ed5e14e24ae1f0d735b91524b98b9</td>\n",
       "      <td>1</td>\n",
       "      <td>4244733e06e7ecb4970a6e2683c13e61</td>\n",
       "      <td>48436dade18ac8b2bce089ec2a041202</td>\n",
       "      <td>2018-05-23 10:56:25</td>\n",
       "      <td>64.9</td>\n",
       "      <td>18.33</td>\n",
       "    </tr>\n",
       "    <tr>\n",
       "      <th>3</th>\n",
       "      <td>6f8c31653edb8c83e1a739408b5ff750</td>\n",
       "      <td>1</td>\n",
       "      <td>4244733e06e7ecb4970a6e2683c13e61</td>\n",
       "      <td>48436dade18ac8b2bce089ec2a041202</td>\n",
       "      <td>2017-08-07 18:55:08</td>\n",
       "      <td>58.9</td>\n",
       "      <td>16.17</td>\n",
       "    </tr>\n",
       "    <tr>\n",
       "      <th>4</th>\n",
       "      <td>7d19f4ef4d04461989632411b7e588b9</td>\n",
       "      <td>1</td>\n",
       "      <td>4244733e06e7ecb4970a6e2683c13e61</td>\n",
       "      <td>48436dade18ac8b2bce089ec2a041202</td>\n",
       "      <td>2017-08-16 22:05:11</td>\n",
       "      <td>58.9</td>\n",
       "      <td>13.29</td>\n",
       "    </tr>\n",
       "  </tbody>\n",
       "</table>\n",
       "</div>"
      ],
      "text/plain": [
       "                           order_id  order_item_id  \\\n",
       "0  00010242fe8c5a6d1ba2dd792cb16214              1   \n",
       "1  130898c0987d1801452a8ed92a670612              1   \n",
       "2  532ed5e14e24ae1f0d735b91524b98b9              1   \n",
       "3  6f8c31653edb8c83e1a739408b5ff750              1   \n",
       "4  7d19f4ef4d04461989632411b7e588b9              1   \n",
       "\n",
       "                         product_id                         seller_id  \\\n",
       "0  4244733e06e7ecb4970a6e2683c13e61  48436dade18ac8b2bce089ec2a041202   \n",
       "1  4244733e06e7ecb4970a6e2683c13e61  48436dade18ac8b2bce089ec2a041202   \n",
       "2  4244733e06e7ecb4970a6e2683c13e61  48436dade18ac8b2bce089ec2a041202   \n",
       "3  4244733e06e7ecb4970a6e2683c13e61  48436dade18ac8b2bce089ec2a041202   \n",
       "4  4244733e06e7ecb4970a6e2683c13e61  48436dade18ac8b2bce089ec2a041202   \n",
       "\n",
       "   shipping_limit_date  price  freight_value  \n",
       "0  2017-09-19 09:45:35   58.9          13.29  \n",
       "1  2017-07-05 02:44:11   55.9          17.96  \n",
       "2  2018-05-23 10:56:25   64.9          18.33  \n",
       "3  2017-08-07 18:55:08   58.9          16.17  \n",
       "4  2017-08-16 22:05:11   58.9          13.29  "
      ]
     },
     "execution_count": 121,
     "metadata": {},
     "output_type": "execute_result"
    }
   ],
   "source": [
    "new_sellers = Seller()\n",
    "# add product category in \"order_items\"\n",
    "new_sellers.data[\"order_items\"] = new_sellers.data[\"order_items\"].merge(new_sellers.data[\"products\"][[\"product_id\", \"product_category_name\"]], on=\"product_id\")\\\n",
    ".merge(new_sellers.data[\"product_category_name_translation\"], on=\"product_category_name\")\\\n",
    ".drop(['product_category_name'], axis=1)\n",
    "new_sellers.data[\"order_items\"] \n",
    "categories_to_remove = [cat[14:-1] for cat in model2.params.sort_values().index[0:10] if cat not in [\"sales\", \"wait_time\", \"review_score\", \"sales\"]]\n",
    "print(\"Categories to remove :\", categories_to_remove)\n",
    "new_sellers.data[\"order_items\"] = new_sellers.data[\"order_items\"][~new_sellers.data[\"order_items\"][\"product_category_name_english\"].isin(categories_to_remove)]\n",
    "new_sellers.data[\"order_items\"] = new_sellers.data[\"order_items\"].drop(['product_category_name_english'], axis=1)\n",
    "new_sellers.data[\"order_items\"].head()"
   ]
  },
  {
   "cell_type": "code",
   "execution_count": 122,
   "id": "1f1d2894",
   "metadata": {
    "hidden": true
   },
   "outputs": [
    {
     "name": "stdout",
     "output_type": "stream",
     "text": [
      "Initial total margin (BRL): 667609.1254806706\n",
      "New total margin (BRL):  658278.4772433414\n"
     ]
    }
   ],
   "source": [
    "print(\"Initial total margin (BRL):\", margin_olist(sellers, 0))\n",
    "print(\"New total margin (BRL): \", margin_olist(new_sellers.get_training_data(), 0))"
   ]
  },
  {
   "cell_type": "markdown",
   "id": "f3f755d5",
   "metadata": {
    "hidden": true
   },
   "source": [
    "#### Regression #3"
   ]
  },
  {
   "cell_type": "code",
   "execution_count": 123,
   "id": "0bdd8221",
   "metadata": {
    "hidden": true
   },
   "outputs": [
    {
     "name": "stdout",
     "output_type": "stream",
     "text": [
      "Categories to remove : ['security_and_services', 'furniture_mattress_and_upholstery', 'fashio_female_clothing', 'computers', 'fashion_male_clothing', 'audio', 'home_confort', 'kitchen_dining_laundry_garden_furniture']\n"
     ]
    },
    {
     "data": {
      "text/html": [
       "<div>\n",
       "<style scoped>\n",
       "    .dataframe tbody tr th:only-of-type {\n",
       "        vertical-align: middle;\n",
       "    }\n",
       "\n",
       "    .dataframe tbody tr th {\n",
       "        vertical-align: top;\n",
       "    }\n",
       "\n",
       "    .dataframe thead th {\n",
       "        text-align: right;\n",
       "    }\n",
       "</style>\n",
       "<table border=\"1\" class=\"dataframe\">\n",
       "  <thead>\n",
       "    <tr style=\"text-align: right;\">\n",
       "      <th></th>\n",
       "      <th>order_id</th>\n",
       "      <th>order_item_id</th>\n",
       "      <th>product_id</th>\n",
       "      <th>seller_id</th>\n",
       "      <th>shipping_limit_date</th>\n",
       "      <th>price</th>\n",
       "      <th>freight_value</th>\n",
       "    </tr>\n",
       "  </thead>\n",
       "  <tbody>\n",
       "    <tr>\n",
       "      <th>0</th>\n",
       "      <td>00010242fe8c5a6d1ba2dd792cb16214</td>\n",
       "      <td>1</td>\n",
       "      <td>4244733e06e7ecb4970a6e2683c13e61</td>\n",
       "      <td>48436dade18ac8b2bce089ec2a041202</td>\n",
       "      <td>2017-09-19 09:45:35</td>\n",
       "      <td>58.9</td>\n",
       "      <td>13.29</td>\n",
       "    </tr>\n",
       "    <tr>\n",
       "      <th>1</th>\n",
       "      <td>130898c0987d1801452a8ed92a670612</td>\n",
       "      <td>1</td>\n",
       "      <td>4244733e06e7ecb4970a6e2683c13e61</td>\n",
       "      <td>48436dade18ac8b2bce089ec2a041202</td>\n",
       "      <td>2017-07-05 02:44:11</td>\n",
       "      <td>55.9</td>\n",
       "      <td>17.96</td>\n",
       "    </tr>\n",
       "    <tr>\n",
       "      <th>2</th>\n",
       "      <td>532ed5e14e24ae1f0d735b91524b98b9</td>\n",
       "      <td>1</td>\n",
       "      <td>4244733e06e7ecb4970a6e2683c13e61</td>\n",
       "      <td>48436dade18ac8b2bce089ec2a041202</td>\n",
       "      <td>2018-05-23 10:56:25</td>\n",
       "      <td>64.9</td>\n",
       "      <td>18.33</td>\n",
       "    </tr>\n",
       "    <tr>\n",
       "      <th>3</th>\n",
       "      <td>6f8c31653edb8c83e1a739408b5ff750</td>\n",
       "      <td>1</td>\n",
       "      <td>4244733e06e7ecb4970a6e2683c13e61</td>\n",
       "      <td>48436dade18ac8b2bce089ec2a041202</td>\n",
       "      <td>2017-08-07 18:55:08</td>\n",
       "      <td>58.9</td>\n",
       "      <td>16.17</td>\n",
       "    </tr>\n",
       "    <tr>\n",
       "      <th>4</th>\n",
       "      <td>7d19f4ef4d04461989632411b7e588b9</td>\n",
       "      <td>1</td>\n",
       "      <td>4244733e06e7ecb4970a6e2683c13e61</td>\n",
       "      <td>48436dade18ac8b2bce089ec2a041202</td>\n",
       "      <td>2017-08-16 22:05:11</td>\n",
       "      <td>58.9</td>\n",
       "      <td>13.29</td>\n",
       "    </tr>\n",
       "  </tbody>\n",
       "</table>\n",
       "</div>"
      ],
      "text/plain": [
       "                           order_id  order_item_id  \\\n",
       "0  00010242fe8c5a6d1ba2dd792cb16214              1   \n",
       "1  130898c0987d1801452a8ed92a670612              1   \n",
       "2  532ed5e14e24ae1f0d735b91524b98b9              1   \n",
       "3  6f8c31653edb8c83e1a739408b5ff750              1   \n",
       "4  7d19f4ef4d04461989632411b7e588b9              1   \n",
       "\n",
       "                         product_id                         seller_id  \\\n",
       "0  4244733e06e7ecb4970a6e2683c13e61  48436dade18ac8b2bce089ec2a041202   \n",
       "1  4244733e06e7ecb4970a6e2683c13e61  48436dade18ac8b2bce089ec2a041202   \n",
       "2  4244733e06e7ecb4970a6e2683c13e61  48436dade18ac8b2bce089ec2a041202   \n",
       "3  4244733e06e7ecb4970a6e2683c13e61  48436dade18ac8b2bce089ec2a041202   \n",
       "4  4244733e06e7ecb4970a6e2683c13e61  48436dade18ac8b2bce089ec2a041202   \n",
       "\n",
       "   shipping_limit_date  price  freight_value  \n",
       "0  2017-09-19 09:45:35   58.9          13.29  \n",
       "1  2017-07-05 02:44:11   55.9          17.96  \n",
       "2  2018-05-23 10:56:25   64.9          18.33  \n",
       "3  2017-08-07 18:55:08   58.9          16.17  \n",
       "4  2017-08-16 22:05:11   58.9          13.29  "
      ]
     },
     "execution_count": 123,
     "metadata": {},
     "output_type": "execute_result"
    }
   ],
   "source": [
    "new_sellers = Seller()\n",
    "# add product category in \"order_items\"\n",
    "new_sellers.data[\"order_items\"] = new_sellers.data[\"order_items\"].merge(new_sellers.data[\"products\"][[\"product_id\", \"product_category_name\"]], on=\"product_id\")\\\n",
    ".merge(new_sellers.data[\"product_category_name_translation\"], on=\"product_category_name\")\\\n",
    ".drop(['product_category_name'], axis=1)\n",
    "new_sellers.data[\"order_items\"] \n",
    "categories_to_remove = [cat[14:-1] for cat in model3.params.sort_values().index[0:10] if cat not in [\"sales\", \"wait_time\", \"review_score\", \"sales\"]]\n",
    "print(\"Categories to remove :\", categories_to_remove)\n",
    "new_sellers.data[\"order_items\"] = new_sellers.data[\"order_items\"][~new_sellers.data[\"order_items\"][\"product_category_name_english\"].isin(categories_to_remove)]\n",
    "new_sellers.data[\"order_items\"] = new_sellers.data[\"order_items\"].drop(['product_category_name_english'], axis=1)\n",
    "new_sellers.data[\"order_items\"].head()"
   ]
  },
  {
   "cell_type": "code",
   "execution_count": 124,
   "id": "e4ece67b",
   "metadata": {
    "hidden": true
   },
   "outputs": [
    {
     "name": "stdout",
     "output_type": "stream",
     "text": [
      "Initial total margin (BRL): 667609.1254806706\n",
      "New total margin (BRL):  644186.0017939806\n"
     ]
    }
   ],
   "source": [
    "print(\"Initial total margin (BRL):\", margin_olist(sellers, 0))\n",
    "print(\"New total margin (BRL): \", margin_olist(new_sellers.get_training_data(), 0))"
   ]
  }
 ],
 "metadata": {
  "celltoolbar": "Diaporama",
  "kernelspec": {
   "display_name": "Python 3 (ipykernel)",
   "language": "python",
   "name": "python3"
  },
  "language_info": {
   "codemirror_mode": {
    "name": "ipython",
    "version": 3
   },
   "file_extension": ".py",
   "mimetype": "text/x-python",
   "name": "python",
   "nbconvert_exporter": "python",
   "pygments_lexer": "ipython3",
   "version": "3.10.6"
  },
  "toc": {
   "base_numbering": 1,
   "nav_menu": {},
   "number_sections": true,
   "sideBar": true,
   "skip_h1_title": false,
   "title_cell": "Table of Contents",
   "title_sidebar": "Contents",
   "toc_cell": false,
   "toc_position": {
    "height": "calc(100% - 180px)",
    "left": "10px",
    "top": "150px",
    "width": "384px"
   },
   "toc_section_display": true,
   "toc_window_display": true
  }
 },
 "nbformat": 4,
 "nbformat_minor": 5
}
